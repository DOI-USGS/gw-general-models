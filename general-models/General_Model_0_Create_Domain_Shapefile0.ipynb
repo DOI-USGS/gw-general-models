{
 "cells": [
  {
   "cell_type": "code",
   "execution_count": 1,
   "metadata": {
    "collapsed": false
   },
   "outputs": [],
   "source": [
    "__author__ = 'Jeff Starn'\n",
    "%matplotlib inline\n",
    "import os\n",
    "import geopandas as gp\n",
    "import gdal, osr\n",
    "import mplleaflet"
   ]
  },
  {
   "cell_type": "markdown",
   "metadata": {},
   "source": [
    "The purpose of this notebook is to create a shapefile for use in General Model notebooks. The shapefile can be created any way. This notebook provides one convenient way to do it."
   ]
  },
  {
   "cell_type": "markdown",
   "metadata": {},
   "source": [
    "Set up pathnames"
   ]
  },
  {
   "cell_type": "code",
   "execution_count": 2,
   "metadata": {
    "collapsed": false
   },
   "outputs": [],
   "source": [
    "nhd_dir = 'C:/General_Models_WRR/input_data/NHDPlusV2Data'\n",
    "nhd_basin_dir = 'NHDPlusNE/NHDPlus01'"
   ]
  },
  {
   "cell_type": "markdown",
   "metadata": {},
   "source": [
    "The shapefile will be created from the NHDPlus WBD (watershed boundaries) shapefile."
   ]
  },
  {
   "cell_type": "code",
   "execution_count": 3,
   "metadata": {
    "collapsed": true
   },
   "outputs": [],
   "source": [
    "domain_file = os.path.join(nhd_dir, nhd_basin_dir, 'WBDSnapshot', 'WBD', 'WBD_Subwatershed.shp')"
   ]
  },
  {
   "cell_type": "markdown",
   "metadata": {},
   "source": [
    "Use geopandas to read in the NHDPlus shapefile"
   ]
  },
  {
   "cell_type": "code",
   "execution_count": 4,
   "metadata": {
    "collapsed": false
   },
   "outputs": [],
   "source": [
    "domain = gp.read_file(domain_file)"
   ]
  },
  {
   "cell_type": "markdown",
   "metadata": {},
   "source": [
    "The next variable is used to select the basin(s) of interest. Any basin name that at least partially matches the string will be selected. "
   ]
  },
  {
   "cell_type": "code",
   "execution_count": 5,
   "metadata": {
    "collapsed": true
   },
   "outputs": [],
   "source": [
    "bname = 'Concord'"
   ]
  },
  {
   "cell_type": "markdown",
   "metadata": {},
   "source": [
    "List the basin with the selected names. Some names may apply to more than one basin.  The state id, name, and HUC10 codes can be used interactively to find the basin to be selected from ones having similar or identical names."
   ]
  },
  {
   "cell_type": "code",
   "execution_count": 6,
   "metadata": {
    "collapsed": false
   },
   "outputs": [
    {
     "data": {
      "text/plain": [
       "HUC_10      STATES\n",
       "0107000502  MA        Concord River\n",
       "Name: HU_10_NAME, dtype: object"
      ]
     },
     "execution_count": 6,
     "metadata": {},
     "output_type": "execute_result"
    }
   ],
   "source": [
    "# group = domain.groupby(['HUC_12', 'STATES'])\n",
    "group = domain.groupby(['HUC_10', 'STATES'])\n",
    "first = group.HU_10_NAME.first()\n",
    "first[first.str.contains(bname)]"
   ]
  },
  {
   "cell_type": "markdown",
   "metadata": {},
   "source": [
    "Cut and paste the first 8 digits (HUC8) that are to be selected into the list below."
   ]
  },
  {
   "cell_type": "code",
   "execution_count": 7,
   "metadata": {
    "collapsed": false
   },
   "outputs": [],
   "source": [
    "WS = ['01070005']\n",
    "#WS = ['01020005','01020004','01020003','01020002','01020001'] # Example of multiple basin numbers input directly\n",
    "ind = [item in WS for item in domain.HUC_8]\n",
    "# ind = [item in WS for item in domain.HUC_12]\n",
    "subdomain = domain[ind]"
   ]
  },
  {
   "cell_type": "markdown",
   "metadata": {},
   "source": [
    "Open the NED grid from NHDPlus to get the projection. NHDPlus lines are in geographic coordinates rather than a projected coordinate reference system. Extract the projection as WKT, convert it to Proj.4 format, then parse that into a Python dictionary."
   ]
  },
  {
   "cell_type": "code",
   "execution_count": 8,
   "metadata": {
    "collapsed": false
   },
   "outputs": [],
   "source": [
    "src = os.path.join(nhd_dir, nhd_basin_dir, 'NEDSnapshot', 'ned01a', 'elev_cm')\n",
    "ned = gdal.Open(src)\n",
    "shapeproj = ned.GetProjection()\n",
    "srs = osr.SpatialReference()\n",
    "srs.ImportFromWkt(shapeproj)\n",
    "prj4 = (srs.ExportToProj4()).split('+')\n",
    "prj4 = dict([item.split('=') for item in prj4 if len(item.split('=')) == 2])"
   ]
  },
  {
   "cell_type": "markdown",
   "metadata": {},
   "source": [
    "Use geopandas to extract the GeoSeries Shapely geometry of all the selected basin shapes and project it to the reference coordinate system used by the corrsponding NED grid. Dissolve all the shapes into one Shapely shape. Add the shape to a GeoSeries and then to a GeoDataFrame.  Add an ibound attribute to the dataframe. Save it as a shapefile in the general model directory."
   ]
  },
  {
   "cell_type": "code",
   "execution_count": 9,
   "metadata": {
    "collapsed": false
   },
   "outputs": [],
   "source": [
    "# extract GeoSeries containing polygon shapes\n",
    "subdomain_shape = subdomain['geometry']\n",
    "# project the shapes to the project projection\n",
    "domain_prj = subdomain_shape.to_crs(prj4)\n",
    "# dissolve the polygons into one shape\n",
    "domain_diss = gp.GeoSeries(domain_prj.unary_union)\n",
    "domain_diss = gp.GeoDataFrame(geometry=domain_diss.geometry)\n",
    "domain_diss['ibound'] = 1\n",
    "domain_diss.crs = prj4\n",
    "# write it out to a shapefile\n",
    "domain_diss.to_file('{}_domain.shp'.format(bname))"
   ]
  },
  {
   "cell_type": "markdown",
   "metadata": {},
   "source": [
    "Create a Leaflet map to verify you selected the correct basin and that all it's pieces are present."
   ]
  },
  {
   "cell_type": "code",
   "execution_count": 10,
   "metadata": {
    "collapsed": false
   },
   "outputs": [],
   "source": [
    "ax = domain_diss.plot()\n",
    "mplleaflet.show(fig=ax.figure, crs=domain_diss.crs, path='{}.html'.format(bname))"
   ]
  },
  {
   "cell_type": "code",
   "execution_count": null,
   "metadata": {
    "collapsed": true
   },
   "outputs": [],
   "source": []
  }
 ],
 "metadata": {
  "kernelspec": {
   "display_name": "Python 3",
   "language": "python",
   "name": "python3"
  },
  "language_info": {
   "codemirror_mode": {
    "name": "ipython",
    "version": 3
   },
   "file_extension": ".py",
   "mimetype": "text/x-python",
   "name": "python",
   "nbconvert_exporter": "python",
   "pygments_lexer": "ipython3",
   "version": "3.5.3"
  }
 },
 "nbformat": 4,
 "nbformat_minor": 0
}
