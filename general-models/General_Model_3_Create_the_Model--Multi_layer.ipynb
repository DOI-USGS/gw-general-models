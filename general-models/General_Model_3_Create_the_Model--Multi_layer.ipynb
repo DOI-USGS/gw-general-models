{
 "cells": [
  {
   "cell_type": "markdown",
   "metadata": {},
   "source": [
    "# Create a general MODFLOW model from the NHDPlus dataset"
   ]
  },
  {
   "cell_type": "markdown",
   "metadata": {},
   "source": [
    "Project specific variables are imported in the model_spec.py and gen_mod_dict.py files that must be included in the notebook directory. The first first includes pathnames to data sources that will be different for each user. The second file includes a dictionary of model-specific information such as  cell size, default hydraulic parameter values, and scenario defintion (e.g. include bedrock, number of layers, etc.). There are examples in the repository. Run the following cells up to the \"Run to here\" cell to get a pull-down menu of models in the model_dict. Then, without re-running that cell, run all the remaining cells.  Re-running the following cell would re-set the model to the first one in the list, which you probably don't want. If you use the notebook option to run all cells below, it runs the cell you're in, so if you use that option, move to the next cell (below the pull-down menu of models) first."
   ]
  },
  {
   "cell_type": "code",
   "execution_count": null,
   "metadata": {},
   "outputs": [],
   "source": [
    "__author__ = 'Jeff Starn'\n",
    "%matplotlib notebook\n",
    "from model_specs import *\n",
    "from gen_mod_dict import *\n",
    "import os\n",
    "import sys\n",
    "import numpy as np\n",
    "import matplotlib.pyplot as plt\n",
    "import flopy as fp\n",
    "import pandas as pd\n",
    "import gdal\n",
    "gdal.UseExceptions()\n",
    "import shutil\n",
    "# from model_specs import *\n",
    "# from gen_mod_dict import *\n",
    "\n",
    "from ipywidgets import interact, Dropdown\n",
    "from IPython.display import display"
   ]
  },
  {
   "cell_type": "code",
   "execution_count": null,
   "metadata": {},
   "outputs": [],
   "source": [
    "for key, value in model_dict.items():\n",
    "    md = key\n",
    "    ms = model_dict[md]\n",
    "    print('trying {}'.format(md))\n",
    "    try:\n",
    "        pass\n",
    "    except:\n",
    "        pass"
   ]
  },
  {
   "cell_type": "code",
   "execution_count": null,
   "metadata": {},
   "outputs": [],
   "source": [
    "models = list(model_dict.keys())\n",
    "models.sort()\n",
    "model_area = Dropdown(\n",
    "    options=models,\n",
    "    description='Model:',\n",
    "    background_color='cyan',\n",
    "    border_color='black',\n",
    "    border_width=2)\n",
    "display(model_area)"
   ]
  },
  {
   "cell_type": "markdown",
   "metadata": {},
   "source": [
    "### Run to here to initiate notebook"
   ]
  },
  {
   "cell_type": "markdown",
   "metadata": {},
   "source": [
    "First time using this notebook in this session (before restarting the notebook), run the cells up to this point. Then select your model from the dropdown list above. Move your cursor to this cell and use the toolbar menu Cell --> Run All Below.  After the first time, if you want to run another model, select your model and start running from this cell--you don't need to re-run the cells from the beginning."
   ]
  },
  {
   "cell_type": "markdown",
   "metadata": {},
   "source": [
    "## Preliminary stuff"
   ]
  },
  {
   "cell_type": "code",
   "execution_count": null,
   "metadata": {},
   "outputs": [],
   "source": [
    "md = model_area.value\n",
    "ms = model_dict[md]\n",
    "print('The model being processed is {}\\n'.format(md))"
   ]
  },
  {
   "cell_type": "markdown",
   "metadata": {},
   "source": [
    "Set pathnames and create workspace directories for geographic data (from Notebook 1) and this model."
   ]
  },
  {
   "cell_type": "code",
   "execution_count": null,
   "metadata": {},
   "outputs": [],
   "source": [
    "geo_ws = os.path.join(proj_dir, ms['ws'])\n",
    "model_ws = os.path.join(geo_ws, scenario_dir)\n",
    "array_pth = os.path.join(model_ws, 'arrays')\n",
    "    \n",
    "try:\n",
    "    shutil.rmtree(array_pth)\n",
    "except:\n",
    "    pass\n",
    "\n",
    "try:\n",
    "    shutil.rmtree(model_ws)\n",
    "except:\n",
    "    pass\n",
    "\n",
    "os.makedirs(model_ws)\n",
    "\n",
    "head_file_name = '{}.hds'.format(md)\n",
    "head_file_pth = os.path.join(model_ws, head_file_name)\n",
    "\n",
    "print (model_ws)"
   ]
  },
  {
   "cell_type": "markdown",
   "metadata": {},
   "source": [
    "Replace entries from the default K_dict with the model specific K values from model_dict if they exist. "
   ]
  },
  {
   "cell_type": "code",
   "execution_count": null,
   "metadata": {},
   "outputs": [],
   "source": [
    "for key, value in K_dict.items():\n",
    "    if key in ms.keys():\n",
    "        K_dict[key] = ms[key]"
   ]
  },
  {
   "cell_type": "markdown",
   "metadata": {},
   "source": [
    "Replace entries from the default rock_riv_dict with the model specific values from model_dict if they exist. rock_riv_dict has various attributes of bedrock and stream geometry."
   ]
  },
  {
   "cell_type": "code",
   "execution_count": null,
   "metadata": {},
   "outputs": [],
   "source": [
    "for key, value in rock_riv_dict.items():\n",
    "    if key in ms.keys():\n",
    "        rock_riv_dict[key] = ms[key]"
   ]
  },
  {
   "cell_type": "markdown",
   "metadata": {},
   "source": [
    "Assign values to variables used in this notebook using rock_riv_dict"
   ]
  },
  {
   "cell_type": "code",
   "execution_count": null,
   "metadata": {},
   "outputs": [],
   "source": [
    "min_thk = rock_riv_dict['min_thk'] \n",
    "stream_width = rock_riv_dict['stream_width'] \n",
    "stream_bed_thk = rock_riv_dict['stream_bed_thk']\n",
    "river_depth = rock_riv_dict['river_depth'] \n",
    "bedrock_thk = rock_riv_dict['bedrock_thk']\n",
    "stream_bed_kadjust = rock_riv_dict['stream_bed_kadjust']"
   ]
  },
  {
   "cell_type": "markdown",
   "metadata": {},
   "source": [
    "## Read the information for a model domain processed using Notebook 1"
   ]
  },
  {
   "cell_type": "markdown",
   "metadata": {},
   "source": [
    "Read the model_grid data frame from a csv file. Extract grid dimensions and ibound array."
   ]
  },
  {
   "cell_type": "code",
   "execution_count": null,
   "metadata": {},
   "outputs": [],
   "source": [
    "model_file = os.path.join(geo_ws, 'model_grid.csv')\n",
    "model_grid = pd.read_csv(model_file, index_col='node_num', na_values=['nan', hnoflo])\n",
    "\n",
    "NROW = model_grid.row.max() + 1\n",
    "NCOL = model_grid.col.max() + 1\n",
    "num_cells = NROW * NCOL\n",
    "\n",
    "ibound = model_grid.ibound.reshape(NROW, NCOL)\n",
    "inactive = (ibound == 0)"
   ]
  },
  {
   "cell_type": "markdown",
   "metadata": {},
   "source": [
    "## Translate geologic information into hydrologic properties"
   ]
  },
  {
   "cell_type": "code",
   "execution_count": null,
   "metadata": {},
   "outputs": [],
   "source": [
    "# # old geology used in general models prior to 4/5/2016\n",
    "# coarse_deposits = (model_grid.coarse_flag == 2)\n",
    "# coarse_is_1 = coarse_deposits.reshape(NROW, NCOL)"
   ]
  },
  {
   "cell_type": "markdown",
   "metadata": {},
   "source": [
    "This version replaces Soller's Surfmat with the Quaternary Atlas. Look-up table for coarse deposits (zone = 1) from Dick Yager's new_unit.  All other categories are lumped with fine deposits (zone = 0).\n",
    "* alluvium = 1\n",
    "* ice contact = 9\n",
    "* lacustrine coarse = 11\n",
    "* outwash = 17"
   ]
  },
  {
   "cell_type": "markdown",
   "metadata": {},
   "source": [
    "Create a dictionary that maps the K_dict from gen_mod_dict to zone numbers (key=zone number, value=entry in K_dict).  Make sure these correspond with the correct units. If you're using the defaults, it is correct."
   ]
  },
  {
   "cell_type": "code",
   "execution_count": null,
   "metadata": {},
   "outputs": [],
   "source": [
    "zone_dict = {0 : 'K_fine', 1 : 'K_coarse', 2 : 'K_lakes', 3 : 'K_bedrock'}"
   ]
  },
  {
   "cell_type": "markdown",
   "metadata": {},
   "source": [
    "Perform the mapping from zone number to K to create the Kh1d array."
   ]
  },
  {
   "cell_type": "code",
   "execution_count": null,
   "metadata": {},
   "outputs": [],
   "source": [
    "zones1d = np.zeros(( NROW, NCOL ), dtype=np.int32)\n",
    "\n",
    "qa = model_grid.qu_atlas.reshape( NROW, NCOL )\n",
    "zones1d[qa == 1] = 1\n",
    "zones1d[qa == 9] = 1\n",
    "zones1d[qa == 11] = 1\n",
    "zones1d[qa == 17] = 1\n",
    "\n",
    "la = model_grid.lake.reshape( NROW, NCOL )\n",
    "zones1d[la == 1] = 2\n",
    "\n",
    "Kh1d = np.zeros(( NROW, NCOL ), dtype=np.float32)\n",
    "\n",
    "for key, val in zone_dict.items():\n",
    "    Kh1d[zones1d == key] = K_dict[val]\n",
    "    \n",
    "model_grid['K0'] = Kh1d.ravel()"
   ]
  },
  {
   "cell_type": "markdown",
   "metadata": {},
   "source": [
    "## Process boundary condition information"
   ]
  },
  {
   "cell_type": "markdown",
   "metadata": {},
   "source": [
    "Create a dictionary of stream information for the drain or river package.\n",
    "River package input also needs the elevation of the river bed. Don't use both packages. The choice is made by commenting/uncommenting sections of the modflow function. Replace segment_len (segment length) with the conductance. The river package has not been tested."
   ]
  },
  {
   "cell_type": "code",
   "execution_count": null,
   "metadata": {},
   "outputs": [],
   "source": [
    "drn_flag = (model_grid.stage != np.nan) & (model_grid.ibound == 1)\n",
    "drn_data = model_grid.loc[drn_flag, ['lay', 'row', 'col', 'stage', 'segment_len', 'K0']]\n",
    "drn_data.columns = ['k', 'i', 'j', 'stage', 'segment_len', 'K0']\n",
    "dcond = drn_data.K0 *stream_bed_kadjust* drn_data.segment_len * stream_width / stream_bed_thk\n",
    "drn_data['segment_len'] = dcond\n",
    "drn_data.rename(columns={'segment_len' : 'cond'}, inplace=True)\n",
    "drn_data.drop('K0', axis=1, inplace=True)\n",
    "drn_data.dropna(axis='index', inplace=True)\n",
    "drn_data.insert(drn_data.shape[1], 'iface', 6)\n",
    "drn_recarray = drn_data.to_records(index=False)\n",
    "drn_dict = {0 : drn_recarray}"
   ]
  },
  {
   "cell_type": "code",
   "execution_count": null,
   "metadata": {},
   "outputs": [],
   "source": [
    "riv_flag = (model_grid.stage != np.nan) & (model_grid.ibound == 1)\n",
    "riv_data = model_grid.loc[riv_flag, ['lay', 'row', 'col', 'stage', 'segment_len', \n",
    "                                     'reach_intermit', 'K0']]\n",
    "riv_data.columns = ['k', 'i', 'j', 'stage', 'segment_len', 'rbot', 'K0']\n",
    "riv_data[['rbot']] = riv_data.stage - river_depth\n",
    "rcond = riv_data.K0 * stream_bed_kadjust* riv_data.segment_len * stream_width / stream_bed_thk\n",
    "riv_data['segment_len'] = rcond\n",
    "riv_data.rename(columns={'segment_len' : 'rcond'}, inplace=True)\n",
    "riv_data.drop('K0', axis=1, inplace=True)\n",
    "riv_data.dropna(axis='index', inplace=True)\n",
    "riv_data.insert(riv_data.shape[1], 'iface', 6)\n",
    "riv_recarray = riv_data.to_records(index=False)\n",
    "riv_dict = {0 : riv_recarray}"
   ]
  },
  {
   "cell_type": "markdown",
   "metadata": {},
   "source": [
    "Create a dictionary of information for the general-head boundary package.\n",
    "Similar to the above cell. Not tested."
   ]
  },
  {
   "cell_type": "code",
   "execution_count": null,
   "metadata": {},
   "outputs": [],
   "source": [
    "if model_grid.ghb.sum() > 0:\n",
    "    ghb_flag = model_grid.ghb == 1\n",
    "    ghb_data = model_grid.loc[ghb_flag, ['lay', 'row', 'col', 'top', 'segment_len', 'K0']]\n",
    "    ghb_data.columns = ['k', 'i', 'j', 'stage', 'segment_len', 'K0']\n",
    "    gcond = ghb_data.K0 * L * L / stream_bed_thk\n",
    "    ghb_data['segment_len'] = gcond\n",
    "    ghb_data.rename(columns={'segment_len' : 'cond'}, inplace=True)\n",
    "    ghb_data.drop('K0', axis=1, inplace=True)\n",
    "    ghb_data.dropna(axis='index', inplace=True)\n",
    "    ghb_data.insert(ghb_data.shape[1], 'iface', 6)\n",
    "    ghb_recarray = ghb_data.to_records(index=False)\n",
    "    ghb_dict = {0 : ghb_recarray}"
   ]
  },
  {
   "cell_type": "markdown",
   "metadata": {},
   "source": [
    "### Create 1-layer model to get initial top-of-aquifer on which to drape subsequent layering"
   ]
  },
  {
   "cell_type": "markdown",
   "metadata": {},
   "source": [
    "Get starting heads from top elevations. The top is defined as the model-cell-mean NED elevation except in streams, where it is interpolated between MaxElevSmo and MinElevSmo in the NHD (called 'stage' in model_grid). Make them a little higher than land so that drains don't accidentally go dry too soon."
   ]
  },
  {
   "cell_type": "code",
   "execution_count": null,
   "metadata": {},
   "outputs": [],
   "source": [
    "top = model_grid.top.reshape(NROW, NCOL)\n",
    "strt = top * 1.05"
   ]
  },
  {
   "cell_type": "markdown",
   "metadata": {},
   "source": [
    "Modify the bedrock surface, ensuring that it is always at least min_thk below the top elevation. This calculation will be revisited for the multi-layer case."
   ]
  },
  {
   "cell_type": "code",
   "execution_count": null,
   "metadata": {},
   "outputs": [],
   "source": [
    "bedrock = model_grid.bedrock_el.reshape(NROW, NCOL)\n",
    "thk = top - bedrock\n",
    "thk[thk < min_thk] = min_thk\n",
    "bot = top - thk"
   ]
  },
  {
   "cell_type": "markdown",
   "metadata": {},
   "source": [
    "## Create recharge array"
   ]
  },
  {
   "cell_type": "markdown",
   "metadata": {},
   "source": [
    "This version replaces the Wolock/Yager recharge grid with the GWRP SWB grid."
   ]
  },
  {
   "cell_type": "code",
   "execution_count": null,
   "metadata": {},
   "outputs": [],
   "source": [
    "## used in general models prior to 4/5/2016\n",
    "# rech = model_grid.recharge.reshape(NROW, NCOL)"
   ]
  },
  {
   "cell_type": "markdown",
   "metadata": {},
   "source": [
    "Replace rech array with\n",
    "* calculate total recharge for the model domain\n",
    "* calculate areas of fine and coarse deposits\n",
    "* apportion recharge according to the ratio specified in gen_mod_dict.py\n",
    "* write the values to an array"
   ]
  },
  {
   "cell_type": "code",
   "execution_count": null,
   "metadata": {},
   "outputs": [],
   "source": [
    "r_swb = model_grid.swb.reshape(NROW, NCOL) / 365.25\n",
    "\n",
    "rech_ma = np.ma.MaskedArray(r_swb, mask=inactive)\n",
    "coarse_ma = np.ma.MaskedArray(zones1d != 0, mask=inactive)\n",
    "fine_ma = np.ma.MaskedArray(zones1d == 0, mask=inactive)\n",
    "\n",
    "total_rech = rech_ma.sum()\n",
    "Af = fine_ma.sum()\n",
    "Ac = coarse_ma.sum()\n",
    "Rf = total_rech / (rech_fact * Ac + Af)\n",
    "Rc = rech_fact * Rf\n",
    "\n",
    "rech = np.zeros_like(r_swb)\n",
    "rech[zones1d != 0] = Rc\n",
    "rech[zones1d == 0] = Rf"
   ]
  },
  {
   "cell_type": "markdown",
   "metadata": {},
   "source": [
    "## Define a function to create and run MODFLOW"
   ]
  },
  {
   "cell_type": "code",
   "execution_count": null,
   "metadata": {},
   "outputs": [],
   "source": [
    "def modflow(md, mfpth, model_ws, nlay=1, top=top, strt=strt, nrow=NROW, ncol=NCOL, botm=bedrock, \n",
    "            ibound=ibound, hk=Kh1d, rech=rech, stream_dict=drn_dict, delr=L, delc=L, \n",
    "            hnoflo=hnoflo, hdry=hdry, iphdry=1):\n",
    "\n",
    "    strt_dir = os.getcwd()\n",
    "    os.chdir(model_ws)\n",
    "\n",
    "    ml = fp.modflow.Modflow(modelname=md, exe_name=mfpth, version='mfnwt', \n",
    "                            external_path='arrays') \n",
    "\n",
    "    # add packages (DIS has to come before either BAS or the flow package)\n",
    "    dis = fp.modflow.ModflowDis(ml, nlay=nlay, nrow=NROW, ncol=NCOL, nper=1, delr=L, delc=L, \n",
    "                                laycbd=0, top=top, botm=botm, perlen=1.E+05, nstp=1, tsmult=1, \n",
    "                                steady=True, itmuni=4, lenuni=2, extension='dis', \n",
    "                                unitnumber=11) \n",
    "\n",
    "    bas = fp.modflow.ModflowBas(ml, ibound=ibound, strt=strt, ifrefm=True, \n",
    "                                ixsec=False, ichflg=False, stoper=None, hnoflo=hnoflo, extension='bas', \n",
    "                                unitnumber=13)\n",
    "\n",
    "    upw = fp.modflow.ModflowUpw(ml, laytyp=1, layavg=0, chani=1.0, layvka=1, laywet=0, ipakcb=53, \n",
    "                                hdry=hdry, iphdry=iphdry, hk=hk, hani=1.0, vka=1.0, ss=1e-05, \n",
    "                                sy=0.15, vkcb=0.0, noparcheck=False, extension='upw', \n",
    "                                unitnumber=31)\n",
    "\n",
    "    rch = fp.modflow.ModflowRch(ml, nrchop=3, ipakcb=53, rech=rech, irch=1, \n",
    "                                extension='rch', unitnumber=19)\n",
    "\n",
    "    drn = fp.modflow.ModflowDrn(ml, ipakcb=53, stress_period_data=drn_dict, \n",
    "                                dtype=drn_dict[0].dtype,\n",
    "                                extension='drn', unitnumber=21, options=['NOPRINT', 'AUX IFACE'])\n",
    "\n",
    "    riv = fp.modflow.ModflowRiv(ml, ipakcb=53, stress_period_data=riv_dict, \n",
    "                                dtype=riv_dict[0].dtype,\n",
    "                                extension='riv', unitnumber=18, options=['NOPRINT', 'AUX IFACE'])\n",
    "\n",
    "    if GHB:\n",
    "        ghb = fp.modflow.ModflowGhb(ml, ipakcb=53, stress_period_data=ghb_dict, \n",
    "                                dtype=ghb_dict[0].dtype,\n",
    "                                extension='ghb', unitnumber=23, options=['NOPRINT', 'AUX IFACE'])\n",
    "\n",
    "    oc = fp.modflow.ModflowOc(ml, ihedfm=0, iddnfm=0, chedfm=None, cddnfm=None, cboufm=None, \n",
    "                              compact=True, stress_period_data={(0, 0): ['save head', 'save budget']}, \n",
    "                              extension=['oc', 'hds', 'ddn', 'cbc'], unitnumber=[14, 51, 52, 53])\n",
    "\n",
    "#     nwt = fp.modflow.ModflowNwt(ml, headtol=0.0001, fluxtol=500, maxiterout=1000, \n",
    "#                                 thickfact=1e-05, linmeth=2, iprnwt=1, ibotav=0, options='COMPLEX')\n",
    "\n",
    "    nwt = fp.modflow.ModflowNwt(ml, headtol=0.0001, fluxtol=500, maxiterout=100, thickfact=1e-05, \n",
    "                                linmeth=2, iprnwt=1, ibotav=1, options='SPECIFIED', dbdtheta =0.80, \n",
    "                                dbdkappa = 0.00001, dbdgamma = 0.0, momfact =  0.10, backflag = 1, \n",
    "                                maxbackiter=30, backtol=1.05, backreduce=0.4, iacl=2, norder=1, \n",
    "                                level=3, north=7, iredsys=1, rrctols=0.0,idroptol=1, epsrn=1.0E-3,\n",
    "                                hclosexmd= 1.0e-4, mxiterxmd=200)\n",
    "    \n",
    "    ml.write_input()\n",
    "    ml.remove_package('RIV')\n",
    "    \n",
    "    ml.write_input()\n",
    "    success, output = ml.run_model(silent=True)\n",
    "    os.chdir(strt_dir)\n",
    "    if success:\n",
    "        print(\"    Your {:0d} layer model ran successfully\".format(nlay))\n",
    "    else:\n",
    "        print(\"    Your {:0d} layer model didn't work\".format(nlay))"
   ]
  },
  {
   "cell_type": "markdown",
   "metadata": {},
   "source": [
    "## Run 1-layer MODFLOW"
   ]
  },
  {
   "cell_type": "markdown",
   "metadata": {},
   "source": [
    "Use the function to run MODFLOW for 1 layer to getting approximate top-of-aquifer elevation"
   ]
  },
  {
   "cell_type": "code",
   "execution_count": null,
   "metadata": {},
   "outputs": [],
   "source": [
    "modflow(md, mfpth, model_ws, nlay=1, top=top, strt=strt, nrow=NROW, ncol=NCOL, botm=bot, ibound=ibound, \n",
    "        hk=Kh1d, rech=rech, stream_dict=drn_dict, delr=L, delc=L, hnoflo=hnoflo, hdry=hdry, iphdry=0)"
   ]
  },
  {
   "cell_type": "markdown",
   "metadata": {},
   "source": [
    "Read the head file and calculate new layer top (wt) and bottom (bot) elevations based on the estimated\n",
    "water table (wt) being the top of the top layer. Divide the surficial layer into NLAY equally thick layers between wt and the bedrock surface elevation (as computed using minimum surficial thickness). "
   ]
  },
  {
   "cell_type": "code",
   "execution_count": null,
   "metadata": {},
   "outputs": [],
   "source": [
    "hdobj = fp.utils.HeadFile(head_file_pth)\n",
    "heads1 = hdobj.get_data(kstpkper=(0, 0))\n",
    "heads1[heads1 == hnoflo] = np.nan\n",
    "heads1[heads1 <= hdry] = np.nan\n",
    "heads1 = heads1[0, :, :]\n",
    "hdobj = None"
   ]
  },
  {
   "cell_type": "markdown",
   "metadata": {},
   "source": [
    "## Create layering using the scenario in gen_mod_dict"
   ]
  },
  {
   "cell_type": "markdown",
   "metadata": {},
   "source": [
    "Make new model with (possibly) multiple layers. If there are dry cells in the 1 layer model, they are converted to NaN (not a number). The minimum function in the first line returns NaN if the element of either input arrays is NaN.  In that case, replace NaN in modeltop with the top elevation. The process is similar to the 1 layer case. Thickness is estimated based on modeltop and bedrock and is constrained to be at least min_thk (set in gen_mod_dict.py). This thickness is divided into num_surf_layers number of layers. The cumulative thickness of these layers is the distance from the top of the model to the bottom of the layers. This 3D array of distances (the same for each layer) is subtracted from modeltop."
   ]
  },
  {
   "cell_type": "code",
   "execution_count": null,
   "metadata": {},
   "outputs": [],
   "source": [
    "modeltop = np.minimum(heads1, top)\n",
    "nan = np.isnan(heads1)\n",
    "modeltop[nan] = top[nan]\n",
    "thk = modeltop - bedrock\n",
    "thk[thk < min_thk] = min_thk\n",
    "\n",
    "NLAY = num_surf_layers\n",
    "lay_extrude = np.ones((NLAY, NROW, NCOL))\n",
    "lay_thk = lay_extrude * thk / NLAY\n",
    "bot = modeltop - np.cumsum(lay_thk, axis=0)"
   ]
  },
  {
   "cell_type": "markdown",
   "metadata": {},
   "source": [
    "Using the estimated water table as the new top-of-aquifer elevations sometimes leads to the situation, in usually a very small number of cells, that the drain elevation is below the bottom of the cell.  The following procedure resets the bottom elevation to one meter below the drain elevation if that is the case. "
   ]
  },
  {
   "cell_type": "code",
   "execution_count": null,
   "metadata": {},
   "outputs": [],
   "source": [
    "stg = model_grid.stage.fillna(1.E+30, inplace=False)\n",
    "tmpdrn = (lay_extrude * stg.reshape(NROW, NCOL)).ravel()\n",
    "tmpbot = bot.ravel()\n",
    "index = np.less(tmpdrn, tmpbot)\n",
    "tmpbot[index] = tmpdrn[index] - 1.0\n",
    "bot = tmpbot.reshape(NLAY, NROW, NCOL)"
   ]
  },
  {
   "cell_type": "markdown",
   "metadata": {},
   "source": [
    "* If add_bedrock = True in gen_mod_dict.py, add a layer to the bottom and increment NLAY by 1.\n",
    "* Assign the new bottom-most layer an elevation equal to the elevation of the bottom of the lowest surficial layer minus bedrock_thk, which is specified in rock_riv_dict (in gen_mod_dict.py).\n",
    "* Concatenate the new bottom-of-bedrock-layer to the bottom of the surficial bottom array.\n",
    "* Compute the vertical midpoint of each cell. Make an array (bedrock_index) that is True if the bedrock surface is higher than the midpoint and False if it is not.\n",
    "* lay_extrude replaces the old lay_extrude to account for the new bedrock layer. It is not used in this cell, but is used later to extrude other arrays."
   ]
  },
  {
   "cell_type": "code",
   "execution_count": null,
   "metadata": {},
   "outputs": [],
   "source": [
    "sol_thk = model_grid.soller_thk.reshape(NROW, NCOL)\n",
    "tmp = top - sol_thk\n",
    "bedrock_4_K = bedrock.copy()\n",
    "bedrock_4_K[bedrock > top] = tmp[bedrock > top]\n",
    "\n",
    "if add_bedrock:\n",
    "    NLAY = num_surf_layers + 1\n",
    "    lay_extrude = np.ones((NLAY, NROW, NCOL))\n",
    "    bed_bot = bot[-1:,:,:] - bedrock_thk\n",
    "    bot = np.concatenate((bot, bed_bot), axis=0)\n",
    "\n",
    "    mids = bot + thk / NLAY / 2\n",
    "    bedrock_index = mids < bedrock_4_K\n",
    "    bedrock_index[-1:,:,:] = True\n",
    "\n",
    "elif not add_bedrock:\n",
    "    print('    no bedrock')\n",
    "    pass\n",
    "\n",
    "else:\n",
    "    print('    add_bedrock variable needs to True or False')"
   ]
  },
  {
   "cell_type": "markdown",
   "metadata": {},
   "source": [
    "Extrude all arrays to NLAY number of layers. Create a top-of-aquifer elevation (fake_top) that is higher (20% in this case) than the simulated 1-layer water table because in doing this approximation, some stream elevations end up higher than top_of_aquifer and thus do not operate as drains. The fake_top shouldn't affect model computations if it is set high enough because the model uses convertible (confined or unconfined) layers."
   ]
  },
  {
   "cell_type": "code",
   "execution_count": null,
   "metadata": {},
   "outputs": [],
   "source": [
    "fake_top = (modeltop * 1.2).astype(np.float32)\n",
    "strt = (lay_extrude * modeltop * 1.05).astype(np.float32)\n",
    "ibound = (lay_extrude * ibound).astype(np.int16)"
   ]
  },
  {
   "cell_type": "markdown",
   "metadata": {},
   "source": [
    "Perform the mapping from zone number to K to create the Kh3d array."
   ]
  },
  {
   "cell_type": "code",
   "execution_count": null,
   "metadata": {},
   "outputs": [],
   "source": [
    "zones3d = np.zeros(( NLAY, NROW, NCOL ), dtype=np.int32)\n",
    "\n",
    "qa = model_grid.qu_atlas.reshape(NROW, NCOL)\n",
    "qa3d = (lay_extrude * qa).astype(np.int32)\n",
    "\n",
    "zones3d[qa3d == 1] = 1\n",
    "zones3d[qa3d == 9] = 1\n",
    "zones3d[qa3d == 11] = 1\n",
    "zones3d[qa3d == 17] = 1\n",
    "\n",
    "if add_bedrock:\n",
    "    zones3d[bedrock_index] = 3\n",
    "\n",
    "la = model_grid.lake.reshape(NROW, NCOL)\n",
    "zones3d[0, la == 1] = 2\n",
    "\n",
    "Kh3d = np.zeros(( NLAY, NROW, NCOL ), dtype=np.float32)\n",
    "\n",
    "for key, val in zone_dict.items():\n",
    "    Kh3d[zones3d == key] = K_dict[val]"
   ]
  },
  {
   "cell_type": "markdown",
   "metadata": {},
   "source": [
    "Run MODFLOW again using the new layer definitions.  The difference from the first run is that the top-of-aquifer elevation is the 1-layer water table rather than land surface, and of course, the number of surficial layers and/or the presence of a bedrock layer is different. "
   ]
  },
  {
   "cell_type": "code",
   "execution_count": null,
   "metadata": {},
   "outputs": [],
   "source": [
    "modflow(md, mfpth, model_ws, nlay=NLAY, top=fake_top, strt=strt, nrow=NROW, ncol=NCOL, \n",
    "        botm=bot, ibound=ibound, hk=Kh3d, rech=rech, stream_dict=drn_dict, delr=L, \n",
    "        delc=L, hnoflo=hnoflo, hdry=hdry, iphdry=1)"
   ]
  },
  {
   "cell_type": "markdown",
   "metadata": {},
   "source": [
    "Read the new head array"
   ]
  },
  {
   "cell_type": "code",
   "execution_count": null,
   "metadata": {},
   "outputs": [],
   "source": [
    "hdobj = fp.utils.HeadFile(head_file_pth)\n",
    "heads = hdobj.get_data()\n",
    "hdobj = None"
   ]
  },
  {
   "cell_type": "markdown",
   "metadata": {},
   "source": [
    "Make a 2D array of the heads in the highest active cells and call it the water_table"
   ]
  },
  {
   "cell_type": "code",
   "execution_count": null,
   "metadata": {},
   "outputs": [],
   "source": [
    "heads[heads == hnoflo] = np.nan\n",
    "heads[heads <= hdry] = np.nan\n",
    "hin = np.argmax(np.isfinite(heads), axis=0)\n",
    "row, col = np.indices((hin.shape))\n",
    "water_table = heads[hin, row, col]\n",
    "\n",
    "water_table_ma = np.ma.MaskedArray(water_table, inactive)"
   ]
  },
  {
   "cell_type": "markdown",
   "metadata": {},
   "source": [
    "Save the head array to a geotiff file."
   ]
  },
  {
   "cell_type": "code",
   "execution_count": null,
   "metadata": {},
   "outputs": [],
   "source": [
    "data = water_table_ma\n",
    "\n",
    "src_pth = os.path.join(geo_ws, 'ibound.tif')\n",
    "src = gdal.Open(src_pth)\n",
    "\n",
    "dst_pth = os.path.join(model_ws, 'pre-heads.tif')\n",
    "driver = gdal.GetDriverByName('GTiff')\n",
    "dst = driver.CreateCopy(dst_pth, src, 0)\n",
    "\n",
    "band = dst.GetRasterBand(1)\n",
    "band.WriteArray(data)\n",
    "band.SetNoDataValue(np.nan)\n",
    "\n",
    "dst = None\n",
    "src = None"
   ]
  },
  {
   "cell_type": "markdown",
   "metadata": {},
   "source": [
    "Save the heads and K from the upper-most layer to model_grid.csv"
   ]
  },
  {
   "cell_type": "code",
   "execution_count": null,
   "metadata": {},
   "outputs": [],
   "source": [
    "model_grid['pre_cal_heads'] = water_table_ma.ravel()\n",
    "model_grid['pre_cal_K'] = Kh3d[0,:,:].ravel()\n",
    "\n",
    "if add_bedrock:\n",
    "    model_grid['thk'] = model_grid.top - bot[-1,:,:].ravel() + bedrock_thk\n",
    "else:\n",
    "    model_grid['thk'] = model_grid.top - bot[-1,:,:].ravel()\n",
    "\n",
    "model_grid['thkR'] = model_grid.thk / model_grid.recharge\n",
    "    \n",
    "model_grid.to_csv(os.path.join(model_ws, 'model_grid.csv'))"
   ]
  },
  {
   "cell_type": "markdown",
   "metadata": {},
   "source": [
    "Save zone array for use in calibration."
   ]
  },
  {
   "cell_type": "code",
   "execution_count": null,
   "metadata": {},
   "outputs": [],
   "source": [
    "zone_file = os.path.join(model_ws, 'zone_array.npz')\n",
    "np.savez(zone_file, zone=zones3d)"
   ]
  },
  {
   "cell_type": "markdown",
   "metadata": {},
   "source": [
    "Plot a cross-section to see what the layers look like.  Change row_to_plot to see other rows.  Columns could be easily added."
   ]
  },
  {
   "cell_type": "code",
   "execution_count": null,
   "metadata": {},
   "outputs": [],
   "source": [
    "def calc_error(top, head, obs_type):\n",
    "    # an offset of 1 is used to eliminate counting heads that\n",
    "    # are within 1 m of their target as errors.\n",
    "    # count topo and hydro errors\n",
    "    t = top < (head - err_tol)\n",
    "    h = top > (head + err_tol)\n",
    "\n",
    "    tmp_df = pd.DataFrame({'head':head, 'ot':obs_type, 't':t, 'h':h})\n",
    "\n",
    "    tmp = tmp_df.groupby('ot').sum()\n",
    "    h_e_ = tmp.loc['hydro', 'h']\n",
    "    t_e_ = tmp.loc['topo', 't']\n",
    "    result = np.array([h_e_, t_e_])\n",
    "    return result"
   ]
  },
  {
   "cell_type": "code",
   "execution_count": null,
   "metadata": {},
   "outputs": [],
   "source": [
    "hydro, topo = calc_error(model_grid.top, water_table.ravel(), model_grid.obs_type)\n",
    "num_hydro = model_grid.obs_type.value_counts()['hydro']\n",
    "num_topo = model_grid.obs_type.value_counts()['topo']\n",
    "num_cells = num_hydro + num_topo\n",
    "hydro = hydro / num_hydro\n",
    "topo = topo / num_topo"
   ]
  },
  {
   "cell_type": "code",
   "execution_count": null,
   "metadata": {},
   "outputs": [],
   "source": [
    "def ma2(data2D):\n",
    "    return np.ma.MaskedArray(data2D, mask=inactive)\n",
    "\n",
    "def ma3(data3D):\n",
    "    return np.ma.MaskedArray(data3D, mask=(ibound == 0))\n",
    "\n",
    "row_to_plot = NROW / 2\n",
    "xplot = np.linspace( L / 2, NCOL * L - L / 2, NCOL)\n",
    "\n",
    "mKh = ma3(Kh3d)\n",
    "mtop = ma2(top)\n",
    "mbed = ma2(bedrock)\n",
    "mbot = ma3(bot)\n",
    "\n",
    "colors = ['green', 'red', 'gray']\n",
    "\n",
    "fig = plt.figure(figsize=(8,8))\n",
    "\n",
    "ax1 = plt.subplot2grid((3, 1), (0, 0), rowspan=2)\n",
    "\n",
    "ax1.plot(xplot, mtop[row_to_plot, ], label='land surface', color='black', lw=0.5)\n",
    "ax1.plot(xplot, water_table_ma[row_to_plot, ], label='water table', color='blue', lw=1.)\n",
    "ax1.fill_between(xplot, mtop[row_to_plot, ], mbot[0, row_to_plot, :], alpha=0.25, \n",
    "                 color='blue', label='layer 1', lw=0.75)\n",
    "for lay in range(NLAY-1):\n",
    "    label = 'layer {}'.format(lay+2)\n",
    "    ax1.fill_between(xplot, mbot[lay, row_to_plot, :], mbot[lay+1, row_to_plot, :], label=label, \n",
    "                    color=colors[lay], alpha=0.250, lw=0.75)\n",
    "ax1.plot(xplot, mbed[row_to_plot, :], label='bedrock (Soller)', color='red', linestyle='dotted', lw=1.5)\n",
    "ax1.plot(xplot, mbot[-1, row_to_plot, :], color='black', linestyle='solid', lw=0.5)\n",
    "ax1.legend(loc=0, frameon=False, fontsize=10, ncol=3)#, bbox_to_anchor=(1.0, 0.5))\n",
    "ax1.set_ylabel('Altitude, in meters')\n",
    "ax1.set_xticklabels('')\n",
    "ax1.set_title('Default section along row {}, {} model, weight {:0.1f}\\nK fine = {:0.1f}  K coarse = {:0.1f}\\\n",
    " K bedrock = {:0.1f}\\nFraction dry drains {:0.2f} Fraction flooded cells {:0.2f}'.format(row_to_plot, \\\n",
    " md, 1,  K_dict['K_fine'], K_dict['K_coarse'], K_dict['K_bedrock'], hydro, topo))\n",
    "\n",
    "ax2 = plt.subplot2grid((3, 1), (2, 0))\n",
    "ax2.fill_between(xplot, 0, mKh[0, row_to_plot, :], alpha=0.25, color='blue', \n",
    "                 label='layer 1', lw=0.75, step='mid')\n",
    "ax2.set_xlabel('Distance in meters')\n",
    "ax2.set_yscale('log')\n",
    "ax2.set_ylabel('Hydraulic conductivity\\n in layer 1, in meters / day')\n",
    "\n",
    "line = '{}_{}_xs.png'.format(md, scenario_dir)\n",
    "fig_name = os.path.join(model_ws, line)\n",
    "plt.savefig(fig_name)"
   ]
  },
  {
   "cell_type": "code",
   "execution_count": null,
   "metadata": {},
   "outputs": [],
   "source": [
    "t = top < (water_table - err_tol)\n",
    "h = top > (water_table + err_tol)\n",
    "\n",
    "mt = np.ma.MaskedArray(t.reshape(NROW, NCOL), model_grid.obs_type != 'topo')\n",
    "mh = np.ma.MaskedArray(h.reshape(NROW, NCOL), model_grid.obs_type != 'hydro')"
   ]
  },
  {
   "cell_type": "code",
   "execution_count": null,
   "metadata": {},
   "outputs": [],
   "source": [
    "from matplotlib import colors\n",
    "\n",
    "cmap = colors.ListedColormap(['0.50', 'red'])\n",
    "cmap2 = colors.ListedColormap(['blue'])\n",
    "\n",
    "back = np.ma.MaskedArray(ibound[0,:,:], ibound[0,:,:] == 0)\n",
    "fig, ax = plt.subplots(1,2)\n",
    "ax[0].imshow(back, cmap=cmap2, alpha=0.2)\n",
    "im0 = ax[0].imshow(mh, cmap=cmap, interpolation='None')\n",
    "ax[0].axhline(row_to_plot)\n",
    "# fig.colorbar(im0, ax=ax[0])\n",
    "ax[1].imshow(back, cmap=cmap2, alpha=0.2)\n",
    "im1 = ax[1].imshow(mt, cmap=cmap, interpolation='None')\n",
    "ax[1].axhline(row_to_plot)\n",
    "# fig.colorbar(im1, ax=ax[1])\n",
    "fig.suptitle('Default model errors (in red) along row {}, {} model, weight {:0.1f}\\nK fine = {:0.1f}  K coarse = {:0.1f}\\\n",
    " K bedrock = {:0.1f}\\nFraction dry drains {:0.2f} Fraction flooded cells {:0.2f}'.format(row_to_plot, \\\n",
    " md, 1.0, K_dict['K_fine'], K_dict['K_coarse'], K_dict['K_bedrock'], hydro, topo))\n",
    "\n",
    "# fig.subplots_adjust(left=None, bottom=None, right=None, top=None,\n",
    "#                       wspace=None, hspace=None)\n",
    "\n",
    "fig.set_size_inches(6, 6)\n",
    "\n",
    "# line = '{}_{}_error_map_cal.png'.format(md, scenario_dir)\n",
    "line = '{}_{}_error_map.png'.format(md, scenario_dir)   #csc\n",
    "fig_name = os.path.join(model_ws, line)\n",
    "plt.savefig(fig_name)"
   ]
  }
 ],
 "metadata": {
  "celltoolbar": "Slideshow",
  "kernelspec": {
   "display_name": "Python 3",
   "language": "python",
   "name": "python3"
  },
  "language_info": {
   "codemirror_mode": {
    "name": "ipython",
    "version": 3
   },
   "file_extension": ".py",
   "mimetype": "text/x-python",
   "name": "python",
   "nbconvert_exporter": "python",
   "pygments_lexer": "ipython3",
   "version": "3.6.4"
  },
  "widgets": {
   "state": {
    "7e9443c9cae846ddb473833bdf516e55": {
     "views": [
      {
       "cell_index": 4
      }
     ]
    }
   },
   "version": "1.2.0"
  }
 },
 "nbformat": 4,
 "nbformat_minor": 1
}
