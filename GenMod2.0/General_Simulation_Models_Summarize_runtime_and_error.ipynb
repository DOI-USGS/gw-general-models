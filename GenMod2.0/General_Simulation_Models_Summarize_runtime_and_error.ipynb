{
 "cells": [
  {
   "cell_type": "code",
   "execution_count": null,
   "metadata": {
    "ExecuteTime": {
     "end_time": "2021-03-04T12:44:15.408346Z",
     "start_time": "2021-03-04T12:44:13.879156Z"
    }
   },
   "outputs": [],
   "source": [
    "%matplotlib notebook\n",
    "\n",
    "import os\n",
    "import datetime as dt\n",
    "import pickle, joblib\n",
    "\n",
    "\n",
    "# Standard data science libraries\n",
    "import pandas as pd\n",
    "import numpy as np\n",
    "import scipy.stats as ss\n",
    "import scipy.optimize as so \n",
    "import scipy.interpolate as si\n",
    "\n",
    "# Visualization\n",
    "import matplotlib.pyplot as plt\n",
    "import seaborn as sns\n",
    "plt.style.use('seaborn-notebook')\n",
    "\n",
    "# Options for pandas\n",
    "pd.options.display.max_columns = 20\n",
    "pd.options.display.max_rows = 50\n",
    "\n",
    "# Display all cell outputs\n",
    "from IPython.core.interactiveshell import InteractiveShell\n",
    "InteractiveShell.ast_node_interactivity = 'all'\n",
    "\n",
    "from IPython.display import Image\n",
    "from IPython.display import Math\n",
    "\n"
   ]
  },
  {
   "cell_type": "code",
   "execution_count": null,
   "metadata": {
    "ExecuteTime": {
     "end_time": "2021-03-04T12:44:15.742986Z",
     "start_time": "2021-03-04T12:44:15.408346Z"
    }
   },
   "outputs": [],
   "source": [
    "import flopy as fp"
   ]
  },
  {
   "cell_type": "code",
   "execution_count": null,
   "metadata": {
    "ExecuteTime": {
     "end_time": "2021-03-04T12:44:15.747009Z",
     "start_time": "2021-03-04T12:44:15.744940Z"
    }
   },
   "outputs": [],
   "source": [
    "pd.set_option('display.max_rows', 500)"
   ]
  },
  {
   "cell_type": "code",
   "execution_count": null,
   "metadata": {
    "ExecuteTime": {
     "end_time": "2021-03-04T12:44:15.791121Z",
     "start_time": "2021-03-04T12:44:15.749967Z"
    }
   },
   "outputs": [],
   "source": [
    "fig_dir = './'\n",
    "model_dir = '../models'\n",
    "\n",
    "mfpth = 'C:/WRDAPP/MODFLOW-NWT_1.1.2/bin/MODFLOW-NWT_64.exe'\n",
    "mp_exe_name = 'C:/WRDAPP/modpath.6_0/bin/mp6.exe' "
   ]
  },
  {
   "cell_type": "code",
   "execution_count": null,
   "metadata": {
    "ExecuteTime": {
     "end_time": "2021-03-04T12:44:16.018156Z",
     "start_time": "2021-03-04T12:44:15.812065Z"
    }
   },
   "outputs": [],
   "source": [
    "df = pd.DataFrame()\n",
    "\n",
    "nwt = True\n",
    "\n",
    "for dirpath, dirnames, filenames in os.walk(model_dir):\n",
    "    model = dirpath[len(model_dir) + 1:]\n",
    "    for f in filenames:\n",
    "        if f.endswith('lst'):\n",
    "\n",
    "            pth = os.path.join(dirpath, f)\n",
    "            with open(pth, 'r') as src:\n",
    "                lf = src.readlines()\n",
    "\n",
    "            last_line = [item for item in lf if 'Elapsed run time' in item]\n",
    "            if len(last_line) != 0:\n",
    "                df.loc[model, 'Elapsed time'] = last_line[0].strip().split(':')[\n",
    "                    1].strip()\n",
    "                \n",
    "            perc_disc = [item for item in lf if 'PERCENT DISCREPANCY =' in item]\n",
    "            if len(perc_disc) != 0:\n",
    "                df.loc[model, 'Mass error'] = np.float32(perc_disc[0].split()[-1])\n",
    "                \n",
    "            run_date = [item for item in lf if 'Run end date and time' in item]\n",
    "            if len(run_date) != 0:\n",
    "                df.loc[model, 'Run date'] = run_date[0][46:].strip()\n",
    "\n",
    "            df.loc[model, 'Failed'] = any([('FAILED' in item) for item in lf])\n",
    "\n",
    "#             if nwt:\n",
    "#                 ml = fp.mf6.MFSimulation.load(sim_name=sim_name, version='mf6', exe_name=mfpth6,\n",
    "#                                       sim_ws=model_ws, strict=True, verbosity_level=0, load_only=None, verify_data=False)\n",
    "\n",
    "#                 model = ml.get_model()\n",
    "#             print(last_line, perc_disc)\n",
    "                \n",
    "#                 df.loc[model, 'Head tol'] = ml.NWT.headtol\n",
    "#                 df.loc[model, 'Flux tol'] = ml.NWT.fluxtol\n",
    "#                 df.loc[model, 'Max iter'] = ml.NWT.maxiterout\n",
    "#     except:\n",
    "#         print('{} may not have a valid completed run (terminated prematurely for example)'.format(model))\n",
    "\n",
    "df['Elapsed time'] = pd.to_timedelta(df['Elapsed time'])\n",
    "df['Elapsed time'] = (df['Elapsed time'] + pd.to_datetime('01/01/2000', format=\"%d/%m/%Y\")).dt.strftime('%H:%M:%S')\n",
    "df['Run date'] = pd.to_datetime(df['Run date'])\n",
    "\n",
    "dst = os.path.join(fig_dir, 'model_time_and_error.csv')\n",
    "df.to_csv(dst)\n",
    "df"
   ]
  }
 ],
 "metadata": {
  "kernelspec": {
   "display_name": "Python 3",
   "language": "python",
   "name": "python3"
  },
  "language_info": {
   "codemirror_mode": {
    "name": "ipython",
    "version": 3
   },
   "file_extension": ".py",
   "mimetype": "text/x-python",
   "name": "python",
   "nbconvert_exporter": "python",
   "pygments_lexer": "ipython3",
   "version": "3.7.9"
  }
 },
 "nbformat": 4,
 "nbformat_minor": 1
}
