{
 "cells": [
  {
   "cell_type": "markdown",
   "metadata": {
    "ExecuteTime": {
     "end_time": "2020-04-02T21:43:12.675587Z",
     "start_time": "2020-04-02T21:43:12.672592Z"
    }
   },
   "source": [
    "# Create MODFLOW6-grid-based tiff files and model_grid.csv file from GIS data sources"
   ]
  },
  {
   "cell_type": "code",
   "execution_count": 1,
   "metadata": {
    "ExecuteTime": {
     "end_time": "2021-12-20T22:18:44.334902Z",
     "start_time": "2021-12-20T22:18:40.872344Z"
    },
    "scrolled": true
   },
   "outputs": [],
   "source": [
    "# This first cell imports needed modules and sets a few display options\n",
    "\n",
    "%matplotlib notebook\n",
    "\n",
    "import os\n",
    "import datetime as dt\n",
    "import pickle, joblib\n",
    "\n",
    "# Standard data science libraries\n",
    "import pandas as pd\n",
    "import numpy as np\n",
    "import scipy.stats as ss\n",
    "import scipy.optimize as so \n",
    "import scipy.interpolate as si\n",
    "\n",
    "# Visualization\n",
    "import matplotlib.pyplot as plt\n",
    "# import seaborn as sns\n",
    "plt.style.use('seaborn-notebook')\n",
    "\n",
    "# Options for pandas\n",
    "pd.options.display.max_columns = 20\n",
    "pd.options.display.max_rows = 50\n",
    "\n",
    "# Display all cell outputs\n",
    "from IPython.core.interactiveshell import InteractiveShell\n",
    "InteractiveShell.ast_node_interactivity = 'all'\n",
    "\n",
    "from IPython.display import Image\n",
    "from IPython.display import Math\n",
    "\n",
    "import scipy.ndimage as nd\n",
    "import scipy.spatial as sp\n",
    "import geopandas as gpd\n",
    "from shapely.geometry import Polygon\n",
    "import gdal\n",
    "gdal.UseExceptions()\n",
    "import flopy as fp\n",
    "\n",
    "import Genmod_Utilities as gmu\n",
    "import json"
   ]
  },
  {
   "cell_type": "code",
   "execution_count": 2,
   "metadata": {
    "ExecuteTime": {
     "end_time": "2021-12-20T22:18:44.350049Z",
     "start_time": "2021-12-20T22:18:44.336876Z"
    }
   },
   "outputs": [],
   "source": [
    "root = 'C:/Users/jjstarn/Workspace/GIS for GSM--data processing'\n",
    "\n",
    "# (src, attribute, name)\n",
    "\n",
    "vector_list = [\n",
    "  \n",
    "    (os.path.join(root, 'K_from_Tashie', 'K_from_Tashie.shp'), \n",
    "     'Ksat_Wet', 'Ksat_Wet'),\n",
    "    \n",
    "    (os.path.join(root, 'K_from_Tashie', 'K_from_Tashie.shp'), \n",
    "     'Ksat_Dry', 'Ksat_Dry')\n",
    "]\n",
    "\n",
    "\n",
    "# (src, method, factor, name)\n",
    "\n",
    "raster_list = [\n",
    "    (os.path.join(root, \n",
    "                  'Shangguan_DTB_Predictions_Global', \n",
    "                  'BDTICM_M_250m_ll.tif'),\n",
    "    gdal.GRA_Bilinear, 0.01, 'b_r_Shan'),\n",
    "\n",
    "    (os.path.join(root, \n",
    "                  'Global_Soil_Regolith_Sediment_1304', \n",
    "                  'data',\n",
    "                 'average_soil_and_sedimentary-deposit_thickness.tif'),\n",
    "    gdal.GRA_Bilinear, 1., 'b_r_Pell'),\n",
    "    \n",
    "    (os.path.join(root, \n",
    "                  'T_from_Output_CONUS_trans_dtw, simulated depth to water and estimated transmissivity', \n",
    "                  'conus_MF6_SS_Unconfined_250_dtw.tif'),\n",
    "    gdal.GRA_Bilinear, 1., 'b_u')\n",
    "]"
   ]
  },
  {
   "cell_type": "markdown",
   "metadata": {},
   "source": [
    "Read the National Groundwater Grid"
   ]
  },
  {
   "cell_type": "code",
   "execution_count": 3,
   "metadata": {
    "ExecuteTime": {
     "end_time": "2021-12-20T22:18:54.644205Z",
     "start_time": "2021-12-20T22:18:44.352045Z"
    },
    "scrolled": true
   },
   "outputs": [],
   "source": [
    "ngwm_grid = os.path.join(root, 'T_from_Output_CONUS_trans_dtw, simulated depth to water and estimated transmissivity', \n",
    "                         'conus_MF6_SS_Unconfined_250_trans.tif')\n",
    "\n",
    "natgrid = gmu.SourceProcessing(nodata=-99999.)\n",
    "natgrid.read_raster(ngwm_grid)\n",
    "proj = natgrid.output_raster_prj\n",
    "\n",
    "natgrid.old_array[natgrid.old_array == natgrid.nodata] = np.nan\n",
    "\n",
    "K_df = pd.DataFrame({'T': natgrid.old_array.ravel()})"
   ]
  },
  {
   "cell_type": "code",
   "execution_count": 6,
   "metadata": {
    "ExecuteTime": {
     "end_time": "2021-12-20T22:25:38.498804Z",
     "start_time": "2021-12-20T22:21:26.401197Z"
    }
   },
   "outputs": [],
   "source": [
    "for src, attribute, name in vector_list:\n",
    "    natgrid.process_vector_data(src, attribute)\n",
    "    K_df[name] = natgrid.new_array.ravel()"
   ]
  },
  {
   "cell_type": "code",
   "execution_count": 7,
   "metadata": {
    "ExecuteTime": {
     "end_time": "2021-12-20T22:29:56.906699Z",
     "start_time": "2021-12-20T22:25:38.499783Z"
    },
    "scrolled": true
   },
   "outputs": [],
   "source": [
    "for src, method, factor, name in raster_list:\n",
    "    natgrid.process_raster_data(src, method, factor)\n",
    "    K_df[name] = natgrid.new_array.ravel() "
   ]
  },
  {
   "cell_type": "markdown",
   "metadata": {},
   "source": [
    "### Unit conversions\n",
    "\n",
    "* GLHYMPS units are $100 * log_{10}$ k (intrinsic permeability, $m^2$).  To convert to hydraulic conductivity (K) to $m/d$ multiply by $10^{(k/100)}*10^7$ * 86400 $s/d$\n",
    "* Tashie units are $cm/s$. To convert to $m/d$ multiply by 864\n",
    "* Shangguan units are $cm$. The conversion factor of 0.01 was applied in the vector processing step.\n",
    "* Zell and Sanford units are $m^2/d$ and do not need conversion\n",
    "* Pelletier is in $m$"
   ]
  },
  {
   "cell_type": "markdown",
   "metadata": {},
   "source": [
    "### Rationale for $K$ calculations.  \n",
    "\n",
    "An effective transmissivity ($\\tilde{T}$) for CONUS over an unknown thickness is given by Zell and Sanford. The spatial detail and resolution is really good and captures much of the known variation in $K$, for instance in areas of narrow riverine deposits in the northeast.  Their $\\tilde{T}$ zones were based on Soller's mapping of surficial deposits of the CONUS. $\\tilde{T}$ is dominated by the $K$ of surficial deposits where such deposits are thick and by the $K$ of bedrock elsewhere. $\\tilde{T}$ was derived from model calibration to head data. The problem is to disaggregate the effective values of $\\tilde{T}$ into $K$ and $b$ for surficial (subscript s) and bedrock (subscript b) units,  $\\tilde{T} = {K_s}{b_s} + {K_b}{b_b}$. Rearranging and solving for $K_b$,\n",
    "\n",
    "$K_b = \\frac{\\tilde{T}-{K_s}{b_s}}{b_b}$\n",
    "\n",
    "Tashie et al. produced estimates of effective $\\tilde{K}$ using a different approach. They used an analytical solution of the groundwater flow equation calibrated against streamflow recession data. \n",
    "\n",
    "$K_s \\approx \\tilde{K_s}$\n",
    "\n",
    "$b_s \\approx 3.7 m \\qquad (dry)$\n",
    "\n",
    "$b_s \\approx 14 m \\qquad (wet)$\n",
    "\n",
    "$b_{r}$ is regolith thickness from Shangguan et al., \n",
    "\n",
    "$b_{sat\\_r}$ is saturated zone thickness in regolith,\n",
    "\n",
    "$b_{u}$ is unsaturated zone thickness (depth to water) from Zell and Sanford, and\n",
    "\n",
    "$b_b$ is bedrock contributing zone thickness (100 m).\n",
    "\n",
    "\n"
   ]
  },
  {
   "cell_type": "code",
   "execution_count": 8,
   "metadata": {
    "ExecuteTime": {
     "end_time": "2021-12-20T22:30:02.703936Z",
     "start_time": "2021-12-20T22:29:56.909539Z"
    }
   },
   "outputs": [],
   "source": [
    "bedrock_thickness = 100 # m\n",
    "K_df['b_sat_r'] = np.maximum((K_df['b_r_Shan'] - K_df['b_u']), 0)\n",
    "\n",
    "K_df['K_s_wet_md'] = K_df['Ksat_Wet'] * 864\n",
    "K_df['K_b_wet_md'] = (K_df['T'] - (K_df['K_s_wet_md'] * 8.35)) / bedrock_thickness\n",
    "\n",
    "K_df['K_s_dry_md'] = K_df['Ksat_Dry'] * 864\n",
    "K_df['K_b_dry_md'] = (K_df['T'] - (K_df['K_s_dry_md'] * 2.1)) / bedrock_thickness\n",
    "\n",
    "K_df['K_s_dry_mod_md'] = np.where(K_df['b_sat_r'] > 2.1, 2.1 / K_df['b_sat_r'] * K_df['K_s_dry_md'], K_df['K_s_dry_md']) \n",
    "K_df['K_b_dry_mod_md'] = np.where(K_df['K_b_dry_md'] < 0.01, 0.01, K_df['K_b_dry_md'])\n",
    "\n",
    "# K_df[K_df < 0.0] = np.nan"
   ]
  },
  {
   "cell_type": "code",
   "execution_count": 9,
   "metadata": {
    "ExecuteTime": {
     "end_time": "2021-12-20T22:30:20.174960Z",
     "start_time": "2021-12-20T22:30:02.705934Z"
    },
    "scrolled": true
   },
   "outputs": [],
   "source": [
    "for column, item in K_df.iteritems():\n",
    "    fname = '{}.tif'.format(column)\n",
    "    data = item.values.reshape(natgrid.nrow, natgrid.ncol)\n",
    "    natgrid.new_array = data\n",
    "    dst = os.path.join('{}.tif'.format(column))\n",
    "    natgrid.write_raster(dst, which_raster='new')"
   ]
  },
  {
   "cell_type": "code",
   "execution_count": 10,
   "metadata": {
    "ExecuteTime": {
     "end_time": "2021-12-20T22:31:59.474087Z",
     "start_time": "2021-12-20T22:30:20.176178Z"
    }
   },
   "outputs": [
    {
     "data": {
      "text/html": [
       "<div>\n",
       "<style scoped>\n",
       "    .dataframe tbody tr th:only-of-type {\n",
       "        vertical-align: middle;\n",
       "    }\n",
       "\n",
       "    .dataframe tbody tr th {\n",
       "        vertical-align: top;\n",
       "    }\n",
       "\n",
       "    .dataframe thead th {\n",
       "        text-align: right;\n",
       "    }\n",
       "</style>\n",
       "<table border=\"1\" class=\"dataframe\">\n",
       "  <thead>\n",
       "    <tr style=\"text-align: right;\">\n",
       "      <th></th>\n",
       "      <th>T</th>\n",
       "      <th>Ksat_Wet</th>\n",
       "      <th>Ksat_Dry</th>\n",
       "      <th>b_r_Shan</th>\n",
       "      <th>b_r_Pell</th>\n",
       "      <th>b_u</th>\n",
       "      <th>b_sat_r</th>\n",
       "      <th>K_s_wet_md</th>\n",
       "      <th>K_b_wet_md</th>\n",
       "      <th>K_s_dry_md</th>\n",
       "      <th>K_b_dry_md</th>\n",
       "      <th>K_s_dry_mod_md</th>\n",
       "      <th>K_b_dry_mod_md</th>\n",
       "    </tr>\n",
       "  </thead>\n",
       "  <tbody>\n",
       "    <tr>\n",
       "      <th>count</th>\n",
       "      <td>1.248848e+08</td>\n",
       "      <td>2.109327e+08</td>\n",
       "      <td>2.109327e+08</td>\n",
       "      <td>2.109327e+08</td>\n",
       "      <td>2.109327e+08</td>\n",
       "      <td>2.109327e+08</td>\n",
       "      <td>2.109327e+08</td>\n",
       "      <td>2.109327e+08</td>\n",
       "      <td>1.248848e+08</td>\n",
       "      <td>2.109327e+08</td>\n",
       "      <td>1.248848e+08</td>\n",
       "      <td>2.109327e+08</td>\n",
       "      <td>1.248848e+08</td>\n",
       "    </tr>\n",
       "    <tr>\n",
       "      <th>mean</th>\n",
       "      <td>5.568281e+02</td>\n",
       "      <td>5.160232e-02</td>\n",
       "      <td>1.021280e-02</td>\n",
       "      <td>1.980087e+01</td>\n",
       "      <td>7.871572e+01</td>\n",
       "      <td>1.178720e+01</td>\n",
       "      <td>1.337027e+01</td>\n",
       "      <td>4.458424e+01</td>\n",
       "      <td>-6.652745e-01</td>\n",
       "      <td>8.823873e+00</td>\n",
       "      <td>5.258522e+00</td>\n",
       "      <td>3.145010e+00</td>\n",
       "      <td>5.308929e+00</td>\n",
       "    </tr>\n",
       "    <tr>\n",
       "      <th>std</th>\n",
       "      <td>3.341011e+03</td>\n",
       "      <td>9.658267e-02</td>\n",
       "      <td>1.449629e-02</td>\n",
       "      <td>2.862894e+01</td>\n",
       "      <td>1.041350e+02</td>\n",
       "      <td>3.251646e+01</td>\n",
       "      <td>3.393406e+01</td>\n",
       "      <td>8.344743e+01</td>\n",
       "      <td>3.426560e+01</td>\n",
       "      <td>1.252480e+01</td>\n",
       "      <td>3.340676e+01</td>\n",
       "      <td>6.272447e+00</td>\n",
       "      <td>3.339730e+01</td>\n",
       "    </tr>\n",
       "    <tr>\n",
       "      <th>min</th>\n",
       "      <td>-7.926815e+04</td>\n",
       "      <td>0.000000e+00</td>\n",
       "      <td>0.000000e+00</td>\n",
       "      <td>0.000000e+00</td>\n",
       "      <td>0.000000e+00</td>\n",
       "      <td>-7.928852e+04</td>\n",
       "      <td>0.000000e+00</td>\n",
       "      <td>0.000000e+00</td>\n",
       "      <td>-8.069363e+02</td>\n",
       "      <td>0.000000e+00</td>\n",
       "      <td>-7.935679e+02</td>\n",
       "      <td>0.000000e+00</td>\n",
       "      <td>1.000000e-02</td>\n",
       "    </tr>\n",
       "    <tr>\n",
       "      <th>25%</th>\n",
       "      <td>8.981087e+00</td>\n",
       "      <td>0.000000e+00</td>\n",
       "      <td>0.000000e+00</td>\n",
       "      <td>0.000000e+00</td>\n",
       "      <td>1.000000e+00</td>\n",
       "      <td>0.000000e+00</td>\n",
       "      <td>0.000000e+00</td>\n",
       "      <td>0.000000e+00</td>\n",
       "      <td>-6.697996e+00</td>\n",
       "      <td>0.000000e+00</td>\n",
       "      <td>-3.036148e-02</td>\n",
       "      <td>0.000000e+00</td>\n",
       "      <td>1.000000e-02</td>\n",
       "    </tr>\n",
       "    <tr>\n",
       "      <th>50%</th>\n",
       "      <td>3.969384e+01</td>\n",
       "      <td>6.562218e-03</td>\n",
       "      <td>2.073885e-03</td>\n",
       "      <td>1.300943e+01</td>\n",
       "      <td>2.749318e+01</td>\n",
       "      <td>2.192134e-01</td>\n",
       "      <td>3.675770e+00</td>\n",
       "      <td>5.669756e+00</td>\n",
       "      <td>-1.847180e+00</td>\n",
       "      <td>1.791837e+00</td>\n",
       "      <td>1.134367e-01</td>\n",
       "      <td>4.370987e-01</td>\n",
       "      <td>1.134367e-01</td>\n",
       "    </tr>\n",
       "    <tr>\n",
       "      <th>75%</th>\n",
       "      <td>1.762876e+02</td>\n",
       "      <td>6.505843e-02</td>\n",
       "      <td>1.708171e-02</td>\n",
       "      <td>2.547066e+01</td>\n",
       "      <td>2.215856e+02</td>\n",
       "      <td>1.288906e+01</td>\n",
       "      <td>1.748574e+01</td>\n",
       "      <td>5.621048e+01</td>\n",
       "      <td>-2.300121e-01</td>\n",
       "      <td>1.475860e+01</td>\n",
       "      <td>1.288956e+00</td>\n",
       "      <td>3.137570e+00</td>\n",
       "      <td>1.288956e+00</td>\n",
       "    </tr>\n",
       "    <tr>\n",
       "      <th>max</th>\n",
       "      <td>1.509668e+05</td>\n",
       "      <td>8.249872e-01</td>\n",
       "      <td>9.652791e-02</td>\n",
       "      <td>1.057994e+03</td>\n",
       "      <td>2.550000e+02</td>\n",
       "      <td>2.405164e+02</td>\n",
       "      <td>7.929413e+04</td>\n",
       "      <td>7.127889e+02</td>\n",
       "      <td>1.507258e+03</td>\n",
       "      <td>8.340012e+01</td>\n",
       "      <td>1.509514e+03</td>\n",
       "      <td>8.340012e+01</td>\n",
       "      <td>1.509514e+03</td>\n",
       "    </tr>\n",
       "  </tbody>\n",
       "</table>\n",
       "</div>"
      ],
      "text/plain": [
       "                  T      Ksat_Wet      Ksat_Dry      b_r_Shan      b_r_Pell  \\\n",
       "count  1.248848e+08  2.109327e+08  2.109327e+08  2.109327e+08  2.109327e+08   \n",
       "mean   5.568281e+02  5.160232e-02  1.021280e-02  1.980087e+01  7.871572e+01   \n",
       "std    3.341011e+03  9.658267e-02  1.449629e-02  2.862894e+01  1.041350e+02   \n",
       "min   -7.926815e+04  0.000000e+00  0.000000e+00  0.000000e+00  0.000000e+00   \n",
       "25%    8.981087e+00  0.000000e+00  0.000000e+00  0.000000e+00  1.000000e+00   \n",
       "50%    3.969384e+01  6.562218e-03  2.073885e-03  1.300943e+01  2.749318e+01   \n",
       "75%    1.762876e+02  6.505843e-02  1.708171e-02  2.547066e+01  2.215856e+02   \n",
       "max    1.509668e+05  8.249872e-01  9.652791e-02  1.057994e+03  2.550000e+02   \n",
       "\n",
       "                b_u       b_sat_r    K_s_wet_md    K_b_wet_md    K_s_dry_md  \\\n",
       "count  2.109327e+08  2.109327e+08  2.109327e+08  1.248848e+08  2.109327e+08   \n",
       "mean   1.178720e+01  1.337027e+01  4.458424e+01 -6.652745e-01  8.823873e+00   \n",
       "std    3.251646e+01  3.393406e+01  8.344743e+01  3.426560e+01  1.252480e+01   \n",
       "min   -7.928852e+04  0.000000e+00  0.000000e+00 -8.069363e+02  0.000000e+00   \n",
       "25%    0.000000e+00  0.000000e+00  0.000000e+00 -6.697996e+00  0.000000e+00   \n",
       "50%    2.192134e-01  3.675770e+00  5.669756e+00 -1.847180e+00  1.791837e+00   \n",
       "75%    1.288906e+01  1.748574e+01  5.621048e+01 -2.300121e-01  1.475860e+01   \n",
       "max    2.405164e+02  7.929413e+04  7.127889e+02  1.507258e+03  8.340012e+01   \n",
       "\n",
       "         K_b_dry_md  K_s_dry_mod_md  K_b_dry_mod_md  \n",
       "count  1.248848e+08    2.109327e+08    1.248848e+08  \n",
       "mean   5.258522e+00    3.145010e+00    5.308929e+00  \n",
       "std    3.340676e+01    6.272447e+00    3.339730e+01  \n",
       "min   -7.935679e+02    0.000000e+00    1.000000e-02  \n",
       "25%   -3.036148e-02    0.000000e+00    1.000000e-02  \n",
       "50%    1.134367e-01    4.370987e-01    1.134367e-01  \n",
       "75%    1.288956e+00    3.137570e+00    1.288956e+00  \n",
       "max    1.509514e+03    8.340012e+01    1.509514e+03  "
      ]
     },
     "execution_count": 10,
     "metadata": {},
     "output_type": "execute_result"
    }
   ],
   "source": [
    "K_df.describe()"
   ]
  },
  {
   "cell_type": "code",
   "execution_count": null,
   "metadata": {},
   "outputs": [],
   "source": []
  }
 ],
 "metadata": {
  "kernelspec": {
   "display_name": "Python 3",
   "language": "python",
   "name": "python3"
  },
  "language_info": {
   "codemirror_mode": {
    "name": "ipython",
    "version": 3
   },
   "file_extension": ".py",
   "mimetype": "text/x-python",
   "name": "python",
   "nbconvert_exporter": "python",
   "pygments_lexer": "ipython3",
   "version": "3.6.13"
  },
  "varInspector": {
   "cols": {
    "lenName": 16,
    "lenType": 16,
    "lenVar": 40
   },
   "kernels_config": {
    "python": {
     "delete_cmd_postfix": "",
     "delete_cmd_prefix": "del ",
     "library": "var_list.py",
     "varRefreshCmd": "print(var_dic_list())"
    },
    "r": {
     "delete_cmd_postfix": ") ",
     "delete_cmd_prefix": "rm(",
     "library": "var_list.r",
     "varRefreshCmd": "cat(var_dic_list()) "
    }
   },
   "types_to_exclude": [
    "module",
    "function",
    "builtin_function_or_method",
    "instance",
    "_Feature"
   ],
   "window_display": false
  },
  "widgets": {
   "state": {
    "fe74db59d5304861a6075ed48715a1d7": {
     "views": [
      {
       "cell_index": 5
      }
     ]
    }
   },
   "version": "1.2.0"
  }
 },
 "nbformat": 4,
 "nbformat_minor": 4
}
