{
 "cells": [
  {
   "cell_type": "markdown",
   "metadata": {
    "ExecuteTime": {
     "end_time": "2020-04-02T21:43:12.675587Z",
     "start_time": "2020-04-02T21:43:12.672592Z"
    }
   },
   "source": [
    "# Create MODFLOW6-grid-based tiff files and model_grid.csv file from GIS data sources"
   ]
  },
  {
   "cell_type": "code",
   "execution_count": 1,
   "metadata": {
    "ExecuteTime": {
     "end_time": "2021-12-23T14:54:34.369629Z",
     "start_time": "2021-12-23T14:54:30.413122Z"
    },
    "scrolled": true
   },
   "outputs": [],
   "source": [
    "# This first cell imports needed modules and sets a few display options\n",
    "\n",
    "%matplotlib notebook\n",
    "\n",
    "import os\n",
    "import datetime as dt\n",
    "import pickle, joblib\n",
    "\n",
    "# Standard data science libraries\n",
    "import pandas as pd\n",
    "import numpy as np\n",
    "import scipy.stats as ss\n",
    "import scipy.optimize as so \n",
    "import scipy.interpolate as si\n",
    "\n",
    "# Visualization\n",
    "import matplotlib.pyplot as plt\n",
    "# import seaborn as sns\n",
    "plt.style.use('seaborn-notebook')\n",
    "\n",
    "# Options for pandas\n",
    "pd.options.display.max_columns = 20\n",
    "pd.options.display.max_rows = 50\n",
    "\n",
    "# Display all cell outputs\n",
    "from IPython.core.interactiveshell import InteractiveShell\n",
    "InteractiveShell.ast_node_interactivity = 'all'\n",
    "\n",
    "from IPython.display import Image\n",
    "from IPython.display import Math\n",
    "\n",
    "import scipy.ndimage as nd\n",
    "import scipy.spatial as sp\n",
    "import geopandas as gpd\n",
    "from shapely.geometry import Polygon\n",
    "import gdal\n",
    "gdal.UseExceptions()\n",
    "import flopy as fp\n",
    "\n",
    "import Genmod_Utilities as gmu\n",
    "import json"
   ]
  },
  {
   "cell_type": "code",
   "execution_count": 2,
   "metadata": {
    "ExecuteTime": {
     "end_time": "2021-12-23T14:54:34.385116Z",
     "start_time": "2021-12-23T14:54:34.371488Z"
    },
    "scrolled": true
   },
   "outputs": [],
   "source": [
    "with open('GenMod_metadata.txt') as json_file:\n",
    "    metadata = json.load(json_file)"
   ]
  },
  {
   "cell_type": "markdown",
   "metadata": {
    "ExecuteTime": {
     "end_time": "2021-09-01T14:38:19.227005Z",
     "start_time": "2021-09-01T14:38:19.222985Z"
    }
   },
   "source": [
    "## Specify horizontal grid resolution"
   ]
  },
  {
   "cell_type": "markdown",
   "metadata": {},
   "source": [
    "`number_of_grid_divisions`: *integer*, The general simulation model (**GSM**) grid is based on a specified integer number of cell divisions of the grid specified by Clark and others (2018) (**natgrid**). Here the user can specifiy splitting those cells into an integer number of equal subdivisions. **natgrid** has 1000 m pixels, so for example `number_of_grid_divisions` = 4 leads to 250 m pixels in **GSM**.  \n",
    "\n",
    "Clark, B.R., Barlow, P.M., Peterson, S.M., Hughes, J.D., Reeves, H.W., and Viger, R.J., 2018, National-scale grid to support regional groundwater availability studies and a national hydrogeologic database: U.S. Geological Survey data release, https://doi.org/10.5066/F7P84B24."
   ]
  },
  {
   "cell_type": "code",
   "execution_count": 3,
   "metadata": {
    "ExecuteTime": {
     "end_time": "2021-12-23T14:54:34.400479Z",
     "start_time": "2021-12-23T14:54:34.386449Z"
    },
    "scrolled": true
   },
   "outputs": [],
   "source": [
    "# cell divisions\n",
    "number_of_grid_divisions = 1\n",
    "gsm_delxy= 1000 / number_of_grid_divisions"
   ]
  },
  {
   "cell_type": "markdown",
   "metadata": {},
   "source": [
    "## Specify geospatial data sources"
   ]
  },
  {
   "cell_type": "markdown",
   "metadata": {},
   "source": [
    "Specify how geospatial data will be mapped onto the model grid. Data sources are each specified in tuples in a list. There is a list for vector sources and a list for raster sources. The geospatial data in these sources will be rasterized, resampled, and reprojected onto the model grid. The rasterized values will be stored in GeoTiff files and as columns in the file `model_grid.csv`. \n",
    "\n",
    "Each vector source is specified by a tuple (which means that the values, separated by commas, are enclosed in parentheses) in a list. The elements of each tuple are\n",
    "* pathname to source (usually a shapefile but other formats are supported)\n",
    "* field name (or column or attribute or label) in the input data source that will be rasterized\n",
    "* field name for the output data to used in `model_grid.csv`; the same name is given to the GeoTiff file for that data source\n",
    "\n",
    "Raster sources are also specified in tuples, the elements of which are\n",
    "* `natgrid_pth`: *string*, location of National Groundwater Grid tif file \n",
    "\n",
    "\n",
    "* pathname to source (many formats are supported)\n",
    "* method, usually `gdal.GRA_Bilinear` or `gdal.GRA_NearestNeighbour`, although other methods are available.  See the documentation for Genmod_Utilities for other methods.\n",
    "* conversion factor by which to multiply the source (e.g., factor=100 to convert cm in the input to m in the output)\n",
    "* field name for the output data to used in `model_grid.csv`; the same name is given to the GeoTiff file for that data source\n"
   ]
  },
  {
   "cell_type": "code",
   "execution_count": 4,
   "metadata": {
    "ExecuteTime": {
     "end_time": "2021-12-23T14:54:34.416370Z",
     "start_time": "2021-12-23T14:54:34.402405Z"
    },
    "scrolled": true
   },
   "outputs": [],
   "source": [
    "natgrid_pth = os.path.join('national_spatial_data', 'grid', 'natlGrid1km.tif')\n",
    "\n",
    "# (src, attribute, name)\n",
    "\n",
    "vector_list = [\n",
    "#     (os.path.join('national_spatial_data', 'NHDPlusNationalData', 'gageloc.shp'), \n",
    "#      'REACHCODE', 'gage_id'),\n",
    "    \n",
    "#     (os.path.join('national_spatial_data', 'USGS_DS_425_SHAPES', 'Surficial_materials_K_added.shp'), \n",
    "#      'K', 'K_surf'),\n",
    "    \n",
    "#     (os.path.join('national_spatial_data', 'GLHYMPS', 'GLHYMPS_K_added.shp'), \n",
    "#      'K', 'K_glhymps'),\n",
    "]\n",
    "\n",
    "\n",
    "# (src, method, factor, name)\n",
    "\n",
    "raster_list = [\n",
    "    (os.path.join(metadata['raster_name'], 'elev_cm.tif'),\n",
    "    gdal.GRA_Bilinear, 0.01, 'ned'),\n",
    "\n",
    "    (os.path.join(metadata['raster_name'], 'cat.tif'),\n",
    "    gdal.GRA_NearestNeighbour, 1, 'catchment'),\n",
    "\n",
    "    (os.path.join('national_spatial_data', 'EffRecharge_0013_v2', 'EffRecharge_0013 (1)', '0013', 'RC_eff_0013.tif'),\n",
    "    gdal.GRA_Bilinear, 1/365.25, 'recharge'),\n",
    "\n",
    "    (os.path.join('national_spatial_data', 'b_r_Shan.tif'),\n",
    "    gdal.GRA_Bilinear, 1., 'thickness_Shang'),\n",
    "\n",
    "    (os.path.join('national_spatial_data', 'K_s_dry_mod_md.tif'),\n",
    "    gdal.GRA_Bilinear, 1., 'surf_K'),\n",
    "    \n",
    "    (os.path.join('national_spatial_data', 'K_b_dry_mod_md.tif'),\n",
    "    gdal.GRA_Bilinear, 1., 'bed_K'),    \n",
    "\n",
    "    (os.path.join(metadata['ngwm_dir'], 'k_lay_0.tif'),\n",
    "    gdal.GRA_Bilinear, 1, 'k_ngwm'),\n",
    "    \n",
    "    (os.path.join(metadata['ngwm_dir'], 'k33_lay_0.tif'),\n",
    "    gdal.GRA_Bilinear, 1, 'k33_ngwm'),\n",
    "    \n",
    "    (os.path.join(metadata['ngwm_dir'], 'botm_lay_0.tif'),\n",
    "    gdal.GRA_Bilinear, 1, 'botm_ngwm'),\n",
    "    \n",
    "    (os.path.join(metadata['ngwm_dir'], 'idomain_lay_0.tif'),\n",
    "    gdal.GRA_Bilinear, 1, 'idomain_ngwm'),\n",
    "    \n",
    "    (os.path.join(metadata['ngwm_dir'], 'ss_lay_0.tif'),\n",
    "    gdal.GRA_Bilinear, 1, 'ss_ngwm'),\n",
    "    \n",
    "    (os.path.join(metadata['ngwm_dir'], 'strt_lay_0.tif'),\n",
    "    gdal.GRA_Bilinear, 1, 'strt_ngwm'),\n",
    "    \n",
    "    (os.path.join(metadata['ngwm_dir'], 'sy_lay_0.tif'),\n",
    "    gdal.GRA_Bilinear, 1, 'k33_ngwm'),\n",
    "    \n",
    "    (os.path.join(metadata['ngwm_dir'], 'top.tif'),\n",
    "    gdal.GRA_Bilinear, 1, 'top_ngwm')\n",
    "]"
   ]
  },
  {
   "cell_type": "markdown",
   "metadata": {},
   "source": [
    "Read the National Groundwater Grid"
   ]
  },
  {
   "cell_type": "code",
   "execution_count": 5,
   "metadata": {
    "ExecuteTime": {
     "end_time": "2021-12-23T14:54:35.555334Z",
     "start_time": "2021-12-23T14:54:34.417367Z"
    },
    "scrolled": true
   },
   "outputs": [],
   "source": [
    "natgrid = gmu.SourceProcessing()\n",
    "natgrid.read_raster(natgrid_pth)\n",
    "proj = natgrid.output_raster_prj"
   ]
  },
  {
   "cell_type": "markdown",
   "metadata": {},
   "source": [
    "Read the model domain shapefile"
   ]
  },
  {
   "cell_type": "code",
   "execution_count": 6,
   "metadata": {
    "ExecuteTime": {
     "end_time": "2021-12-23T14:54:37.190333Z",
     "start_time": "2021-12-23T14:54:35.556334Z"
    },
    "scrolled": true
   },
   "outputs": [],
   "source": [
    "shp = gpd.read_file(metadata['domain_name'])\n",
    "shp.to_crs(proj, inplace=True)"
   ]
  },
  {
   "cell_type": "markdown",
   "metadata": {},
   "source": [
    "## Establish model grid -- derived from National Groundwater Model grid"
   ]
  },
  {
   "cell_type": "markdown",
   "metadata": {},
   "source": [
    "Extract the part of the national grid (**natgrid**) that contains the model domain. Establish the dimensions and cell size of the general simulation model (**gsm**) grid based on the specified number of **natgrid** cell divisions."
   ]
  },
  {
   "cell_type": "code",
   "execution_count": 7,
   "metadata": {
    "ExecuteTime": {
     "end_time": "2021-12-23T14:54:37.206284Z",
     "start_time": "2021-12-23T14:54:37.191319Z"
    },
    "scrolled": true
   },
   "outputs": [],
   "source": [
    "# get coordinates of origin (x0, y0) and pixel (cell) size from natgrid\n",
    "natgrid_x0, natgrid_pixelx, dum, natgrid_y0, dum, natgrid_pixely = natgrid.gt\n",
    "\n",
    "# length of sides of natgrid\n",
    "natgrid_lenx = natgrid_pixelx * natgrid.ncol\n",
    "natgrid_leny = natgrid_pixely * natgrid.nrow\n",
    "\n",
    "# number of gridlines in each direction in the gsm grid\n",
    "natgrid_number_x_lines = natgrid.ncol * number_of_grid_divisions + 1\n",
    "natgrid_number_y_lines = natgrid.nrow * number_of_grid_divisions + 1 \n",
    "\n",
    "# make an array of natgrid line coorindates\n",
    "natgrid_x_lines = np.linspace(natgrid_x0, natgrid_x0 + natgrid_lenx, natgrid_number_x_lines)\n",
    "natgrid_y_lines = np.linspace(natgrid_y0, natgrid_y0 + natgrid_leny, natgrid_number_y_lines)\n",
    "\n",
    "# min and max of bounding box around gsm domain\n",
    "gsm_minx, gsm_miny, gsm_maxx, gsm_maxy = np.squeeze(shp.bounds.values)\n",
    "\n",
    "# find the natgrid lines that bound the gsm domain\n",
    "gsm_x0 = natgrid_x_lines[natgrid_x_lines <= gsm_minx][-1]\n",
    "gsm_xm = natgrid_x_lines[natgrid_x_lines >= gsm_maxx][0]\n",
    "gsm_ym = natgrid_y_lines[natgrid_y_lines <= gsm_miny][0]\n",
    "gsm_y0 = natgrid_y_lines[natgrid_y_lines >= gsm_maxy][-1]\n",
    "\n",
    "# length of sides of gsm grid\n",
    "gsm_lenx = gsm_xm - gsm_x0\n",
    "gsm_leny = gsm_ym - gsm_y0\n",
    "\n",
    "# number of rows and columns for gsm\n",
    "gsm_ncol = np.int32(np.abs(gsm_lenx / gsm_delxy))\n",
    "gsm_nrow = np.int32(np.abs(gsm_leny / gsm_delxy)) \n",
    "\n",
    "# row and column spacinf for gsm\n",
    "gsm_delr = gsm_delxy\n",
    "gsm_delc = gsm_delxy\n",
    "\n",
    "# blank raster in memory in the shape of the gsm grid\n",
    "grid_raster = gmu.SourceProcessing(np.nan)\n",
    "grid_raster.create_raster(0, (gsm_x0, gsm_y0), gsm_delr, gsm_delc, gsm_nrow, gsm_ncol, proj)\n"
   ]
  },
  {
   "cell_type": "markdown",
   "metadata": {},
   "source": [
    "Establish bounding box for grid. Save the bounding box to a shapefile."
   ]
  },
  {
   "cell_type": "code",
   "execution_count": 8,
   "metadata": {
    "ExecuteTime": {
     "end_time": "2021-12-23T14:54:37.334001Z",
     "start_time": "2021-12-23T14:54:37.210273Z"
    },
    "scrolled": true
   },
   "outputs": [],
   "source": [
    "coords = ((gsm_x0, gsm_y0), (gsm_xm, gsm_y0), (gsm_xm, gsm_ym), (gsm_x0, gsm_ym))\n",
    "polygon = gpd.GeoSeries(Polygon(coords))\n",
    "box = gpd.GeoDataFrame(geometry=polygon, crs=proj)\n",
    "box.crs = proj\n",
    "\n",
    "box.to_file(os.path.join(metadata['gis_dir'], 'clip_box.shp'))"
   ]
  },
  {
   "cell_type": "markdown",
   "metadata": {},
   "source": [
    "Establish a FloPy grid object"
   ]
  },
  {
   "cell_type": "code",
   "execution_count": 9,
   "metadata": {
    "ExecuteTime": {
     "end_time": "2021-12-23T14:54:37.349087Z",
     "start_time": "2021-12-23T14:54:37.335936Z"
    },
    "scrolled": true
   },
   "outputs": [],
   "source": [
    "delc_ar = np.ones((gsm_nrow)) * gsm_delc\n",
    "delr_ar = np.ones((gsm_ncol)) * gsm_delr\n",
    "\n",
    "ml = fp.discretization.structuredgrid.StructuredGrid(\n",
    "    delc=delc_ar, delr=delr_ar, xoff=gsm_x0, yoff=gsm_y0+gsm_leny, angrot=0, lenuni=2)"
   ]
  },
  {
   "cell_type": "markdown",
   "metadata": {},
   "source": [
    "## Create drainage network"
   ]
  },
  {
   "cell_type": "markdown",
   "metadata": {},
   "source": [
    "Read and intersect flowline file with domain outline. These are from the high resolution NHDPlus flow lines and the associated value-added attribute table (VAA). Flow lines are merged with the VAA and the resulting file is cleaned up. The merged file is converted back to a GeoDataFrame and saved as a shapefile."
   ]
  },
  {
   "cell_type": "code",
   "execution_count": 10,
   "metadata": {
    "ExecuteTime": {
     "end_time": "2021-12-23T14:55:53.974665Z",
     "start_time": "2021-12-23T14:54:37.350895Z"
    },
    "scrolled": true
   },
   "outputs": [
    {
     "name": "stderr",
     "output_type": "stream",
     "text": [
      "C:\\Users\\jjstarn\\Miniconda3\\envs\\genmod20\\lib\\site-packages\\ipykernel_launcher.py:26: UserWarning: Column names longer than 10 characters will be truncated when saved to ESRI Shapefile.\n"
     ]
    }
   ],
   "source": [
    "# read high resolution NHDPlus flow lines\n",
    "flowlines = gpd.read_file(metadata['vector_name'], layer='NHDFlowline')\n",
    "flowlines.to_crs(crs=proj, inplace=True)\n",
    "\n",
    "# clip flow lines to the model domain and select columns\n",
    "nhd_clip = gpd.overlay(flowlines, shp)\n",
    "nhd_clip = nhd_clip[['Permanent_Identifier', 'NHDPlusID', 'ReachCode', 'ibound', 'geometry']]\n",
    "\n",
    "# check that the clipped file is not empty\n",
    "assert nhd_clip.shape[0] != 0, 'The model domain is not in the area covered by the downloaded NHDPlus'\n",
    "\n",
    "# read the VAA and select columns\n",
    "VAA_tab = gpd.read_file(metadata['vector_name'], layer='NHDPlusFlowlineVAA')\n",
    "VAA_tab = VAA_tab[['NHDPlusID', 'StreamOrde', 'MaxElevSmo', 'MinElevSmo']]\n",
    "\n",
    "# merge selected fields from the associated tables into the clipped flow lines\n",
    "# this step takes the data frame from geopandas to pandas and loses the geographic information\n",
    "nhd_clip = nhd_clip.merge(VAA_tab, how='inner', on='NHDPlusID')\n",
    "\n",
    "# convert elevation in cm to meters\n",
    "nhd_clip['maxft'] = nhd_clip.MaxElevSmo / 100.\n",
    "nhd_clip['minft'] = nhd_clip.MinElevSmo / 100.\n",
    "\n",
    "# convert the merged file back to a GeoDataFrame (geopandas) and it save as a shapefile\n",
    "nhd_clip = gpd.GeoDataFrame(nhd_clip, geometry=nhd_clip.geometry, crs=proj)\n",
    "nhd_clip.to_file(os.path.join(metadata['gis_dir'], 'NHD_clip.shp'))"
   ]
  },
  {
   "cell_type": "markdown",
   "metadata": {},
   "source": [
    "Calculate drain stage at cell centers and extract ancillary data. This step used FloPy's internal intersection function. "
   ]
  },
  {
   "cell_type": "code",
   "execution_count": 11,
   "metadata": {
    "ExecuteTime": {
     "end_time": "2021-12-23T14:57:47.667016Z",
     "start_time": "2021-12-23T14:55:53.975669Z"
    },
    "scrolled": true
   },
   "outputs": [],
   "source": [
    "# Create a FloPy GridIntersect object\n",
    "ix = fp.utils.gridintersect.GridIntersect(ml)\n",
    "\n",
    "# start a blank dataframe for drain data\n",
    "drains = pd.DataFrame()\n",
    "\n",
    "# loop through each stream reach and intersect with the model grid\n",
    "for index, reach in nhd_clip.iterrows():\n",
    "    reach_len = reach.geometry.length\n",
    "    # the procedure is different if the reach is a single line or multiple lines.\n",
    "    # multiple lines can occur if a reach enters and exits a cell more than once\n",
    "    if  reach.geometry.geom_type is 'MultiLineString':\n",
    "        for multi_reach in reach.geometry:\n",
    "            result = ix.intersect(multi_reach)\n",
    "    else:\n",
    "        result = ix.intersect(reach.geometry)\n",
    "    \n",
    "    # put the results of the intersection in a temporary dataframe\n",
    "    df = pd.DataFrame(result)\n",
    "    \n",
    "    # calculate the stage as the mean of the upstream and downstream elevations\n",
    "    cumlen = np.cumsum(df.lengths)\n",
    "    midpoint = cumlen - df.lengths / 2\n",
    "    rise = reach.maxft - reach.minft\n",
    "    grad = rise / reach_len\n",
    "    stage = midpoint * grad\n",
    "    \n",
    "    # add some new fields and append the temporary dataframe to the drain data\n",
    "    df['stage'] = reach.maxft - stage\n",
    "    df['reach'] = index\n",
    "    df['order'] = reach.StreamOrde\n",
    "    df['NHDPlusID'] = reach.NHDPlusID\n",
    "    df['reachcode'] = reach.ReachCode\n",
    "    drains = drains.append(df)"
   ]
  },
  {
   "cell_type": "code",
   "execution_count": 12,
   "metadata": {
    "ExecuteTime": {
     "end_time": "2021-12-23T14:57:51.155990Z",
     "start_time": "2021-12-23T14:57:47.667944Z"
    },
    "scrolled": true
   },
   "outputs": [],
   "source": [
    "# reset the index\n",
    "drains.reset_index(inplace=True)\n",
    "\n",
    "# parse row and col into separate columns\n",
    "drains[['row', 'col']] = pd.DataFrame(drains['cellids'].tolist(), index=drains.index) \n",
    "\n",
    "# convert NHDPlusID to a long integer\n",
    "drains['NHDPlusID'] = drains.NHDPlusID.astype(np.int64)\n",
    "\n",
    "# add a node number based on the left-to-right top-to-bottom sequence number\n",
    "drains['node'] = drains.row * gsm_ncol + drains.col\n",
    "\n",
    "# create a GeoDataFrame of the drain data\n",
    "gdf = gpd.GeoDataFrame(drains, geometry='ixshapes', crs=proj)\n",
    "\n",
    "# drop unused columns\n",
    "gdf.drop(columns=['cellids', 'vertices'], inplace=True)\n",
    "\n",
    "# save to a shapefile\n",
    "gdf.to_file(os.path.join(metadata['gis_dir'], 'drain_segments.shp'))"
   ]
  },
  {
   "cell_type": "markdown",
   "metadata": {},
   "source": [
    "## Create lakes"
   ]
  },
  {
   "cell_type": "markdown",
   "metadata": {
    "ExecuteTime": {
     "end_time": "2020-07-14T13:23:11.952803Z",
     "start_time": "2020-07-14T13:23:11.901840Z"
    }
   },
   "source": [
    "Read and intersect waterbody file with domain outline. TODO: Need to look at possible duplication of lake cells and weeding some lakes out by size; maybe as a fraction of the cell size.\n",
    "\n"
   ]
  },
  {
   "cell_type": "code",
   "execution_count": 13,
   "metadata": {
    "ExecuteTime": {
     "end_time": "2021-12-23T14:58:13.426330Z",
     "start_time": "2021-12-23T14:57:51.156918Z"
    },
    "scrolled": true
   },
   "outputs": [
    {
     "name": "stderr",
     "output_type": "stream",
     "text": [
      "C:\\Users\\jjstarn\\Miniconda3\\envs\\genmod20\\lib\\site-packages\\ipykernel_launcher.py:10: UserWarning: Column names longer than 10 characters will be truncated when saved to ESRI Shapefile.\n",
      "  # Remove the CWD from sys.path while we load stuff.\n"
     ]
    }
   ],
   "source": [
    "# read high resolution NHDPlus waterbodies\n",
    "lakes = gpd.read_file(metadata['vector_name'], layer='NHDWaterbody')\n",
    "lakes.to_crs(crs = proj, inplace=True)\n",
    "\n",
    "# clip waterbodies to the model domain and create an indicator column\n",
    "lake_clip = gpd.overlay(lakes, shp)\n",
    "lake_clip['is_lake'] = 1\n",
    "\n",
    "# save as a shapefile\n",
    "lake_clip.to_file(os.path.join(metadata['gis_dir'], 'lake_clip.shp'))"
   ]
  },
  {
   "cell_type": "code",
   "execution_count": 14,
   "metadata": {
    "ExecuteTime": {
     "end_time": "2021-12-23T15:26:53.172446Z",
     "start_time": "2021-12-23T14:58:13.428232Z"
    },
    "scrolled": true
   },
   "outputs": [],
   "source": [
    "# start a blank dataframe for lake data\n",
    "lakes = pd.DataFrame()\n",
    "\n",
    "# loop through each waterbody and intersect with the model grid\n",
    "for index, segment in lake_clip.iterrows():\n",
    "    result = ix.intersect(segment.geometry)\n",
    "    # put the results of the intersection in a temporary dataframe\n",
    "    df = pd.DataFrame(result)\n",
    "    # add some new fields and append the temporary dataframe to the drain data\n",
    "    df['segment'] = index\n",
    "    lakes = lakes.append(df)\n",
    "\n",
    "# reset the index\n",
    "lakes.reset_index(inplace=True)\n",
    "\n",
    "# parse row and col into separate columns\n",
    "lakes[['row', 'col']] = pd.DataFrame(lakes['cellids'].tolist(), index=lakes.index) \n",
    "\n",
    "# add a node number based on the left-to-right top-to-bottom sequence number\n",
    "lakes['node'] = lakes.row * gsm_ncol + lakes.col \n",
    "\n",
    "# create a GeoDataFrame of the drain data\n",
    "lakes = gpd.GeoDataFrame(lakes, geometry='ixshapes', crs=proj)\n",
    "\n",
    "# drop unused columns\n",
    "lakes.drop(columns=['cellids', 'vertices'], inplace=True)    \n",
    "\n",
    "# save to a shapefile\n",
    "lakes.to_file(os.path.join(metadata['gis_dir'], 'lake_segments.shp'))"
   ]
  },
  {
   "cell_type": "markdown",
   "metadata": {},
   "source": [
    "## Map drain and lake properties onto the model grid"
   ]
  },
  {
   "cell_type": "code",
   "execution_count": 15,
   "metadata": {
    "ExecuteTime": {
     "end_time": "2021-12-23T15:27:01.029790Z",
     "start_time": "2021-12-23T15:26:53.173735Z"
    },
    "scrolled": true
   },
   "outputs": [],
   "source": [
    "# create a blank dataframe with a row for every model cell in map view (nrow * ncol)\n",
    "model_grid = pd.DataFrame({'node': np.arange(gsm_nrow * gsm_ncol)})\n",
    "\n",
    "# group the drain segments by model cell using node\n",
    "for i, j in drains.groupby('node'):\n",
    "    # if there is more than one segment in a cell, use the most downstream cell (minimum stage)\n",
    "    # multiple segments can occur if a reach enters and exits a cell more than once\n",
    "    index = j.stage.idxmin()\n",
    "    model_grid.loc[i, 'stage'] = j.loc[index, 'stage']\n",
    "    model_grid.loc[i, 'order'] = j.loc[index, 'order']\n",
    "    model_grid.loc[i, 'NHDPlusID'] = j.loc[index, 'NHDPlusID']\n",
    "    model_grid.loc[i, 'reach_len'] = j.lengths.sum()\n",
    "    \n",
    "# group the lake segments by model cell using node\n",
    "# calculate the total area of all waterbodies in each cell \n",
    "for i, j in lakes.groupby('node'):\n",
    "    model_grid.loc[i, 'lake_areas'] = j.areas.sum()"
   ]
  },
  {
   "cell_type": "markdown",
   "metadata": {},
   "source": [
    "## Map other spatial data onto model grid"
   ]
  },
  {
   "cell_type": "markdown",
   "metadata": {},
   "source": [
    "Add ibound to model grid data frame. Cells whose centers are in the watershed polygon will be active."
   ]
  },
  {
   "cell_type": "code",
   "execution_count": 16,
   "metadata": {
    "ExecuteTime": {
     "end_time": "2021-12-23T15:27:01.219387Z",
     "start_time": "2021-12-23T15:27:01.030784Z"
    },
    "scrolled": true
   },
   "outputs": [],
   "source": [
    "grid_raster.process_vector_data(metadata['domain_name'], 'ibound')\n",
    "ib = grid_raster.new_array"
   ]
  },
  {
   "cell_type": "markdown",
   "metadata": {},
   "source": [
    "Filter ibound to eliminate disconnected cells"
   ]
  },
  {
   "cell_type": "code",
   "execution_count": 17,
   "metadata": {
    "ExecuteTime": {
     "end_time": "2021-12-23T15:27:01.235386Z",
     "start_time": "2021-12-23T15:27:01.222380Z"
    },
    "scrolled": true
   },
   "outputs": [],
   "source": [
    "# Removes isolated active cells from the IBOUND array.\n",
    "# Args: ibound array (nlay, nrow, ncol)\n",
    "# this cell is from Wesley Zell\n",
    "\n",
    "# Distinguish disconnected clusters of active cells in the IBOUND array.\n",
    "# 0 is considered background; in MODLFOW, active cells are != 0.\n",
    "ib[ib != 0] = 1\n",
    "array_of_cluster_idx, num = nd.measurements.label(ib)\n",
    "\n",
    "# Identify the cluster with the most active cells; this is the main active area\n",
    "areas = nd.measurements.sum(ib, array_of_cluster_idx,\\\n",
    "                         index=np.arange(array_of_cluster_idx.max() + 1))\n",
    "max_cluster_idx = np.argmax(areas)\n",
    "\n",
    "# Inactivate all cells that belong to secondary clusters (e.g., islands)\n",
    "ib[array_of_cluster_idx != max_cluster_idx] = 0\n",
    "ib = ib.astype(int)\n",
    "model_grid['ibound'] = ib.ravel()"
   ]
  },
  {
   "cell_type": "markdown",
   "metadata": {},
   "source": [
    "Get rid of any data for cells where idomain != 1.  Removes the rows and then add back blank rows so that every top layer cell has a row."
   ]
  },
  {
   "cell_type": "code",
   "execution_count": 18,
   "metadata": {
    "ExecuteTime": {
     "end_time": "2021-12-23T15:27:01.250334Z",
     "start_time": "2021-12-23T15:27:01.236342Z"
    },
    "scrolled": true
   },
   "outputs": [],
   "source": [
    "model_grid = model_grid.loc[model_grid.ibound==1, :].reindex(np.arange(gsm_nrow * gsm_ncol))"
   ]
  },
  {
   "cell_type": "markdown",
   "metadata": {},
   "source": [
    "Add vector data to model grid data frame. Any attributes can be added to the modelgrid DataFrame, including alternative data sources.  The connection between modelgrid and the MODFLOW model is made in the next notebook. "
   ]
  },
  {
   "cell_type": "code",
   "execution_count": 19,
   "metadata": {
    "ExecuteTime": {
     "end_time": "2021-12-23T15:27:01.266353Z",
     "start_time": "2021-12-23T15:27:01.252339Z"
    },
    "scrolled": true
   },
   "outputs": [],
   "source": [
    "for src, attribute, name in vector_list:\n",
    "    grid_raster.process_vector_data(src, attribute)\n",
    "    model_grid[name] = grid_raster.new_array.ravel()"
   ]
  },
  {
   "cell_type": "markdown",
   "metadata": {},
   "source": [
    "Add raster data to model grid data frame. Any attributes can be added to the modelgrid DataFrame, including alternative data sources.  The connection between modelgrid and the MODFLOW model is made in the next notebook. "
   ]
  },
  {
   "cell_type": "code",
   "execution_count": 20,
   "metadata": {
    "ExecuteTime": {
     "end_time": "2021-12-23T15:27:08.431496Z",
     "start_time": "2021-12-23T15:27:01.268285Z"
    },
    "scrolled": true
   },
   "outputs": [
    {
     "name": "stdout",
     "output_type": "stream",
     "text": [
      "Data not processed for\n",
      "downloads\\0104_0106_0107_0109_MF6_SS_Unconfined_250\\ss_lay_0.tif\n",
      " Check that the file exists and path is correct\n",
      "Data not processed for\n",
      "downloads\\0104_0106_0107_0109_MF6_SS_Unconfined_250\\sy_lay_0.tif\n",
      " Check that the file exists and path is correct\n"
     ]
    }
   ],
   "source": [
    "for src, method, factor, name in raster_list:\n",
    "    grid_raster.process_raster_data(src, method, factor)\n",
    "    model_grid[name] = grid_raster.new_array.ravel() "
   ]
  },
  {
   "cell_type": "code",
   "execution_count": 21,
   "metadata": {
    "ExecuteTime": {
     "end_time": "2021-12-23T15:27:08.446562Z",
     "start_time": "2021-12-23T15:27:08.432493Z"
    },
    "scrolled": true
   },
   "outputs": [
    {
     "name": "stdout",
     "output_type": "stream",
     "text": [
      "no transient recharge\n"
     ]
    }
   ],
   "source": [
    "try:\n",
    "    r_dir = '../gis/recharge'\n",
    "    r_list = os.listdir(r_dir)\n",
    "    \n",
    "    for src in r_list:\n",
    "        src_pth = os.path.join(r_dir, src)\n",
    "        name = '_'.join(src.split('_')[0:2])\n",
    "        if os.path.splitext(src_pth)[-1] == '.tif':\n",
    "            grid_raster.process_raster_data(src_pth, gdal.GRA_Bilinear, 1.0)\n",
    "            model_grid[name] = grid_raster.new_array.ravel()\n",
    "except:\n",
    "    print ('no transient recharge')"
   ]
  },
  {
   "cell_type": "markdown",
   "metadata": {},
   "source": [
    "The NHDPlus has a small number of MAXELEVSMO and MINELEVSMO in (mostly?) first order streams that are set to a missing value code -9980. Converted to meters this is -99.80. Replace all such values with the NED value minus 1 (meter). "
   ]
  },
  {
   "cell_type": "code",
   "execution_count": 22,
   "metadata": {
    "ExecuteTime": {
     "end_time": "2021-12-23T15:27:08.477527Z",
     "start_time": "2021-12-23T15:27:08.448650Z"
    },
    "scrolled": true
   },
   "outputs": [],
   "source": [
    "model_grid['stage'] = np.where(model_grid.stage == -99.80, model_grid.ned - 1., model_grid.stage)"
   ]
  },
  {
   "cell_type": "markdown",
   "metadata": {},
   "source": [
    "Filter ibound to make a grid of edge cells. Intersect this with the lake grid. Cell that are on the edge of the model and are in lakes could be treated as GHB cells.  This is very similar to the code above for drain/river cells. FloPy GHB requires a dictionary of lists similar to river/drain."
   ]
  },
  {
   "cell_type": "code",
   "execution_count": 23,
   "metadata": {
    "ExecuteTime": {
     "end_time": "2021-12-23T15:27:14.822685Z",
     "start_time": "2021-12-23T15:27:08.483393Z"
    },
    "scrolled": true
   },
   "outputs": [],
   "source": [
    "# In case there is more than one polygon in the domain file (but there shouldn't be), \n",
    "# find the one with the largest area. Extract the boundary LineString of the polygon.\n",
    "poly = max(shp.geometry, default=shp.geometry[0], key=lambda a: a.area).boundary\n",
    "\n",
    "edge_nodes = []\n",
    "\n",
    "# loop through rows and columns, find the cell center, intersect it with\n",
    "# the polygon gon boundary.  If the intersection is True, append it to a list,\n",
    "# otherwise append False)\n",
    "for i in range(ml.nrow):\n",
    "    for j in range(ml.ncol):\n",
    "        xy = ml.get_cell_vertices(i, j)\n",
    "        p = Polygon(xy)\n",
    "        edge_nodes.append(p.intersects(poly))\n",
    "\n",
    "model_grid['edge'] = edge_nodes\n",
    "\n",
    "ghb = (model_grid.edge & model_grid.lake_areas.notnull())\n",
    "ghb = ghb.astype(int)\n",
    "model_grid['ghb'] = ghb.ravel()"
   ]
  },
  {
   "cell_type": "markdown",
   "metadata": {},
   "source": [
    "GHB is used for marine boundaries along cells where the elevation or river stage is < sea level. Added by Janet Barclay."
   ]
  },
  {
   "cell_type": "code",
   "execution_count": 24,
   "metadata": {
    "ExecuteTime": {
     "end_time": "2021-12-23T15:27:14.838672Z",
     "start_time": "2021-12-23T15:27:14.825678Z"
    },
    "scrolled": true
   },
   "outputs": [],
   "source": [
    "sea_level = 0\n",
    "den_salt = 1.2\n",
    "den_fresh = 1.0\n",
    "river_depth = 10."
   ]
  },
  {
   "cell_type": "code",
   "execution_count": 25,
   "metadata": {
    "ExecuteTime": {
     "end_time": "2021-12-23T15:27:14.868564Z",
     "start_time": "2021-12-23T15:27:14.841635Z"
    },
    "scrolled": true
   },
   "outputs": [],
   "source": [
    "model_grid['ghb_sea'] = 0\n",
    "# setting the ghb for land surface below sea level\n",
    "model_grid.loc[model_grid['ned'] <= sea_level, 'ghb_sea'] = 1\n",
    "\n",
    "# convert the depth of saltwater to a freshwater head using the depth and the densities of each\n",
    "# fresh_head = (den_sea / den_fresh)*sea_level - [(den_sea - den_fresh)/den_fresh]*depth_sea\n",
    "model_grid['fresh_head'] = (den_salt / den_fresh) * sea_level - \\\n",
    "    ((den_salt - den_fresh) / den_fresh) * (sea_level - model_grid['ned'])\n",
    "\n",
    "# changing rivers with stage < sea level to ghb\n",
    "model_grid.loc[(model_grid['stage'] < sea_level) &\n",
    "               (model_grid.stage > -9990), 'ghb_sea'] = 1\n",
    "model_grid.loc[(model_grid['stage'] < sea_level) & (model_grid.stage > -9990), 'fresh_head'] = (den_salt / den_fresh) * sea_level - \\\n",
    "    ((den_salt - den_fresh) / den_fresh) * (sea_level -\n",
    "                                      (model_grid.loc[(model_grid['stage'] < sea_level) & (model_grid.stage > -9990), 'stage'] - river_depth))\n",
    "\n",
    "# change the stage to np.nan to avoid adding a drain as well\n",
    "model_grid.loc[(model_grid['stage'] < sea_level) & (\n",
    "    model_grid.stage > -9990), 'stage'] = np.nan"
   ]
  },
  {
   "cell_type": "markdown",
   "metadata": {},
   "source": [
    "Replace grid-cell-mean NED elevations with interpolated stream stage, but only in model cells that contain a stream. The resulting data is called 'top'."
   ]
  },
  {
   "cell_type": "code",
   "execution_count": 26,
   "metadata": {
    "ExecuteTime": {
     "end_time": "2021-12-23T15:27:14.884576Z",
     "start_time": "2021-12-23T15:27:14.871035Z"
    },
    "scrolled": true
   },
   "outputs": [],
   "source": [
    "model_grid['top'] = model_grid.ned\n",
    "index = model_grid.stage.notnull()\n",
    "model_grid.loc[index, 'top'] = model_grid.stage"
   ]
  },
  {
   "cell_type": "markdown",
   "metadata": {},
   "source": [
    "Replace grid-cell mean NED elevations with fresh head for ghb cells with top above fresh head"
   ]
  },
  {
   "cell_type": "code",
   "execution_count": 27,
   "metadata": {
    "ExecuteTime": {
     "end_time": "2021-12-23T15:27:14.899719Z",
     "start_time": "2021-12-23T15:27:14.886515Z"
    },
    "scrolled": true
   },
   "outputs": [],
   "source": [
    "index = (model_grid.ghb_sea == 1) & (model_grid.fresh_head < model_grid.top)\n",
    "model_grid.loc[index, 'top'] = model_grid.fresh_head"
   ]
  },
  {
   "cell_type": "markdown",
   "metadata": {},
   "source": [
    "Add observation type to cells.  \"hydro\" if a perennial stream, \"topo\" everywhere else."
   ]
  },
  {
   "cell_type": "code",
   "execution_count": 28,
   "metadata": {
    "ExecuteTime": {
     "end_time": "2021-12-23T15:27:14.930904Z",
     "start_time": "2021-12-23T15:27:14.901477Z"
    },
    "scrolled": true
   },
   "outputs": [],
   "source": [
    "is_active = model_grid.ibound != 0\n",
    "# is_intermit = model_grid.intermit == True\n",
    "is_sea = model_grid.ghb_sea == 1\n",
    "# marine cells (those with ghb_sea boundary) are included as hydro observations\n",
    "hydro_index = model_grid.stage.notnull() | is_sea\n",
    "\n",
    "is_hydro_obs = is_active & hydro_index# & ~is_intermit\n",
    "is_topo_obs = is_active & ~is_hydro_obs & ~is_sea\n",
    "\n",
    "model_grid['obs_type'] = np.nan\n",
    "model_grid.loc[is_hydro_obs, 'obs_type'] = 1\n",
    "model_grid.loc[is_topo_obs, 'obs_type'] = 2"
   ]
  },
  {
   "cell_type": "markdown",
   "metadata": {},
   "source": [
    "Loop through all the columns in model_grid and write a GeoTiff of the data."
   ]
  },
  {
   "cell_type": "code",
   "execution_count": 29,
   "metadata": {
    "ExecuteTime": {
     "end_time": "2021-12-23T15:27:15.274071Z",
     "start_time": "2021-12-23T15:27:14.933305Z"
    },
    "scrolled": true
   },
   "outputs": [],
   "source": [
    "for column, item in model_grid.iteritems():\n",
    "    fname = '{}.tif'.format(column)\n",
    "#     dst = os.path.join(model_ws, fname)\n",
    "#     if os.path.exists(dst):\n",
    "#         os.remove(dst)\n",
    "    data = item.values.reshape(gsm_nrow, gsm_ncol)\n",
    "    grid_raster.new_array = data\n",
    "    dst = os.path.join(metadata['gis_dir'], '{}.tif'.format(column))\n",
    "    grid_raster.write_raster(dst, which_raster='new')"
   ]
  },
  {
   "cell_type": "markdown",
   "metadata": {},
   "source": [
    "Add some additional columns to `model_grid` and write it to model_grid.csv"
   ]
  },
  {
   "cell_type": "code",
   "execution_count": 30,
   "metadata": {
    "ExecuteTime": {
     "end_time": "2021-12-23T15:27:15.288977Z",
     "start_time": "2021-12-23T15:27:15.276012Z"
    },
    "scrolled": true
   },
   "outputs": [],
   "source": [
    "model_grid.loc[is_hydro_obs, 'obs_type'] = 'hydro'\n",
    "model_grid.loc[is_topo_obs, 'obs_type'] = 'topo'"
   ]
  },
  {
   "cell_type": "code",
   "execution_count": 31,
   "metadata": {
    "ExecuteTime": {
     "end_time": "2021-12-23T15:27:15.304965Z",
     "start_time": "2021-12-23T15:27:15.290973Z"
    },
    "scrolled": true
   },
   "outputs": [],
   "source": [
    "lays, rows, cols = np.indices((1, gsm_nrow, gsm_ncol))\n",
    "\n",
    "model_grid['lay'] = lays.ravel()\n",
    "model_grid['row'] = rows.ravel()\n",
    "model_grid['col'] = cols.ravel()"
   ]
  },
  {
   "cell_type": "markdown",
   "metadata": {},
   "source": [
    "Map stream order to a stream width using data from Downing et al, 2012. Order is the Strahler order and width is the trapezoidal width in meters.\n",
    "\n",
    "J.A. Downing, J.J. Cole, C.M. Duarte, J.J. Middelburg, J.M. Melack, Y.T.\n",
    "Prairie, P. Kortelainen, R.G. Striegl, W.H. McDowell & L.J. Tranvik (2012) Global abundance and\n",
    "size distribution of streams and rivers, Inland Waters, 2:4, 229-236, DOI: 10.5268/IW-2.4.502"
   ]
  },
  {
   "cell_type": "code",
   "execution_count": 32,
   "metadata": {
    "ExecuteTime": {
     "end_time": "2021-12-23T15:27:15.320949Z",
     "start_time": "2021-12-23T15:27:15.307019Z"
    },
    "scrolled": true
   },
   "outputs": [],
   "source": [
    "width_table = np.array([(1, 0.8),\n",
    "(2, 1.8),\n",
    "(3, 3.7),\n",
    "(4, 8.3),\n",
    "(5, 29.3),\n",
    "(6, 73.3),\n",
    "(7, 131.5),\n",
    "(8, 264.5),\n",
    "(9, 608.5),\n",
    "(10, 988.5),\n",
    "(11, 803.0),\n",
    "(12, 3079.0)], dtype=[('order', '<i8'), ('width', '<f8')])"
   ]
  },
  {
   "cell_type": "code",
   "execution_count": 33,
   "metadata": {
    "ExecuteTime": {
     "end_time": "2021-12-23T15:27:15.336120Z",
     "start_time": "2021-12-23T15:27:15.322887Z"
    },
    "scrolled": true
   },
   "outputs": [],
   "source": [
    "# map stream order to stream width based on Downing (2012)\n",
    "model_grid['width'] = model_grid['order'].replace(\n",
    "    width_table['width'])"
   ]
  },
  {
   "cell_type": "code",
   "execution_count": 34,
   "metadata": {
    "ExecuteTime": {
     "end_time": "2021-12-23T15:27:15.366997Z",
     "start_time": "2021-12-23T15:27:15.339738Z"
    },
    "scrolled": true
   },
   "outputs": [],
   "source": [
    "x_gridlines = np.linspace(gsm_x0, gsm_xm, gsm_ncol + 1)\n",
    "y_gridlines = np.linspace(gsm_y0, gsm_ym, gsm_nrow + 1)\n",
    "\n",
    "model_grid['xvert_l'] = np.tile(x_gridlines[:-1], gsm_nrow)\n",
    "model_grid['xvert_r'] = np.tile(x_gridlines[1:], gsm_nrow)\n",
    "model_grid['yvert_t'] = np.repeat(y_gridlines[:-1], gsm_ncol)\n",
    "model_grid['yvert_b'] = np.repeat(y_gridlines[1:], gsm_ncol)"
   ]
  },
  {
   "cell_type": "code",
   "execution_count": 35,
   "metadata": {
    "ExecuteTime": {
     "end_time": "2021-12-23T15:27:15.915854Z",
     "start_time": "2021-12-23T15:27:15.368976Z"
    },
    "scrolled": true
   },
   "outputs": [],
   "source": [
    "model_grid.to_csv(os.path.join(metadata['gis_dir'], 'model_grid.csv'))"
   ]
  },
  {
   "cell_type": "markdown",
   "metadata": {},
   "source": [
    "Plot domain outline, model grid, and drainage network"
   ]
  },
  {
   "cell_type": "code",
   "execution_count": 37,
   "metadata": {
    "ExecuteTime": {
     "end_time": "2021-12-23T15:28:08.763195Z",
     "start_time": "2021-12-23T15:28:08.174893Z"
    },
    "scrolled": false
   },
   "outputs": [
    {
     "data": {
      "application/javascript": [
       "/* Put everything inside the global mpl namespace */\n",
       "window.mpl = {};\n",
       "\n",
       "\n",
       "mpl.get_websocket_type = function() {\n",
       "    if (typeof(WebSocket) !== 'undefined') {\n",
       "        return WebSocket;\n",
       "    } else if (typeof(MozWebSocket) !== 'undefined') {\n",
       "        return MozWebSocket;\n",
       "    } else {\n",
       "        alert('Your browser does not have WebSocket support. ' +\n",
       "              'Please try Chrome, Safari or Firefox ≥ 6. ' +\n",
       "              'Firefox 4 and 5 are also supported but you ' +\n",
       "              'have to enable WebSockets in about:config.');\n",
       "    };\n",
       "}\n",
       "\n",
       "mpl.figure = function(figure_id, websocket, ondownload, parent_element) {\n",
       "    this.id = figure_id;\n",
       "\n",
       "    this.ws = websocket;\n",
       "\n",
       "    this.supports_binary = (this.ws.binaryType != undefined);\n",
       "\n",
       "    if (!this.supports_binary) {\n",
       "        var warnings = document.getElementById(\"mpl-warnings\");\n",
       "        if (warnings) {\n",
       "            warnings.style.display = 'block';\n",
       "            warnings.textContent = (\n",
       "                \"This browser does not support binary websocket messages. \" +\n",
       "                    \"Performance may be slow.\");\n",
       "        }\n",
       "    }\n",
       "\n",
       "    this.imageObj = new Image();\n",
       "\n",
       "    this.context = undefined;\n",
       "    this.message = undefined;\n",
       "    this.canvas = undefined;\n",
       "    this.rubberband_canvas = undefined;\n",
       "    this.rubberband_context = undefined;\n",
       "    this.format_dropdown = undefined;\n",
       "\n",
       "    this.image_mode = 'full';\n",
       "\n",
       "    this.root = $('<div/>');\n",
       "    this._root_extra_style(this.root)\n",
       "    this.root.attr('style', 'display: inline-block');\n",
       "\n",
       "    $(parent_element).append(this.root);\n",
       "\n",
       "    this._init_header(this);\n",
       "    this._init_canvas(this);\n",
       "    this._init_toolbar(this);\n",
       "\n",
       "    var fig = this;\n",
       "\n",
       "    this.waiting = false;\n",
       "\n",
       "    this.ws.onopen =  function () {\n",
       "            fig.send_message(\"supports_binary\", {value: fig.supports_binary});\n",
       "            fig.send_message(\"send_image_mode\", {});\n",
       "            if (mpl.ratio != 1) {\n",
       "                fig.send_message(\"set_dpi_ratio\", {'dpi_ratio': mpl.ratio});\n",
       "            }\n",
       "            fig.send_message(\"refresh\", {});\n",
       "        }\n",
       "\n",
       "    this.imageObj.onload = function() {\n",
       "            if (fig.image_mode == 'full') {\n",
       "                // Full images could contain transparency (where diff images\n",
       "                // almost always do), so we need to clear the canvas so that\n",
       "                // there is no ghosting.\n",
       "                fig.context.clearRect(0, 0, fig.canvas.width, fig.canvas.height);\n",
       "            }\n",
       "            fig.context.drawImage(fig.imageObj, 0, 0);\n",
       "        };\n",
       "\n",
       "    this.imageObj.onunload = function() {\n",
       "        fig.ws.close();\n",
       "    }\n",
       "\n",
       "    this.ws.onmessage = this._make_on_message_function(this);\n",
       "\n",
       "    this.ondownload = ondownload;\n",
       "}\n",
       "\n",
       "mpl.figure.prototype._init_header = function() {\n",
       "    var titlebar = $(\n",
       "        '<div class=\"ui-dialog-titlebar ui-widget-header ui-corner-all ' +\n",
       "        'ui-helper-clearfix\"/>');\n",
       "    var titletext = $(\n",
       "        '<div class=\"ui-dialog-title\" style=\"width: 100%; ' +\n",
       "        'text-align: center; padding: 3px;\"/>');\n",
       "    titlebar.append(titletext)\n",
       "    this.root.append(titlebar);\n",
       "    this.header = titletext[0];\n",
       "}\n",
       "\n",
       "\n",
       "\n",
       "mpl.figure.prototype._canvas_extra_style = function(canvas_div) {\n",
       "\n",
       "}\n",
       "\n",
       "\n",
       "mpl.figure.prototype._root_extra_style = function(canvas_div) {\n",
       "\n",
       "}\n",
       "\n",
       "mpl.figure.prototype._init_canvas = function() {\n",
       "    var fig = this;\n",
       "\n",
       "    var canvas_div = $('<div/>');\n",
       "\n",
       "    canvas_div.attr('style', 'position: relative; clear: both; outline: 0');\n",
       "\n",
       "    function canvas_keyboard_event(event) {\n",
       "        return fig.key_event(event, event['data']);\n",
       "    }\n",
       "\n",
       "    canvas_div.keydown('key_press', canvas_keyboard_event);\n",
       "    canvas_div.keyup('key_release', canvas_keyboard_event);\n",
       "    this.canvas_div = canvas_div\n",
       "    this._canvas_extra_style(canvas_div)\n",
       "    this.root.append(canvas_div);\n",
       "\n",
       "    var canvas = $('<canvas/>');\n",
       "    canvas.addClass('mpl-canvas');\n",
       "    canvas.attr('style', \"left: 0; top: 0; z-index: 0; outline: 0\")\n",
       "\n",
       "    this.canvas = canvas[0];\n",
       "    this.context = canvas[0].getContext(\"2d\");\n",
       "\n",
       "    var backingStore = this.context.backingStorePixelRatio ||\n",
       "\tthis.context.webkitBackingStorePixelRatio ||\n",
       "\tthis.context.mozBackingStorePixelRatio ||\n",
       "\tthis.context.msBackingStorePixelRatio ||\n",
       "\tthis.context.oBackingStorePixelRatio ||\n",
       "\tthis.context.backingStorePixelRatio || 1;\n",
       "\n",
       "    mpl.ratio = (window.devicePixelRatio || 1) / backingStore;\n",
       "\n",
       "    var rubberband = $('<canvas/>');\n",
       "    rubberband.attr('style', \"position: absolute; left: 0; top: 0; z-index: 1;\")\n",
       "\n",
       "    var pass_mouse_events = true;\n",
       "\n",
       "    canvas_div.resizable({\n",
       "        start: function(event, ui) {\n",
       "            pass_mouse_events = false;\n",
       "        },\n",
       "        resize: function(event, ui) {\n",
       "            fig.request_resize(ui.size.width, ui.size.height);\n",
       "        },\n",
       "        stop: function(event, ui) {\n",
       "            pass_mouse_events = true;\n",
       "            fig.request_resize(ui.size.width, ui.size.height);\n",
       "        },\n",
       "    });\n",
       "\n",
       "    function mouse_event_fn(event) {\n",
       "        if (pass_mouse_events)\n",
       "            return fig.mouse_event(event, event['data']);\n",
       "    }\n",
       "\n",
       "    rubberband.mousedown('button_press', mouse_event_fn);\n",
       "    rubberband.mouseup('button_release', mouse_event_fn);\n",
       "    // Throttle sequential mouse events to 1 every 20ms.\n",
       "    rubberband.mousemove('motion_notify', mouse_event_fn);\n",
       "\n",
       "    rubberband.mouseenter('figure_enter', mouse_event_fn);\n",
       "    rubberband.mouseleave('figure_leave', mouse_event_fn);\n",
       "\n",
       "    canvas_div.on(\"wheel\", function (event) {\n",
       "        event = event.originalEvent;\n",
       "        event['data'] = 'scroll'\n",
       "        if (event.deltaY < 0) {\n",
       "            event.step = 1;\n",
       "        } else {\n",
       "            event.step = -1;\n",
       "        }\n",
       "        mouse_event_fn(event);\n",
       "    });\n",
       "\n",
       "    canvas_div.append(canvas);\n",
       "    canvas_div.append(rubberband);\n",
       "\n",
       "    this.rubberband = rubberband;\n",
       "    this.rubberband_canvas = rubberband[0];\n",
       "    this.rubberband_context = rubberband[0].getContext(\"2d\");\n",
       "    this.rubberband_context.strokeStyle = \"#000000\";\n",
       "\n",
       "    this._resize_canvas = function(width, height) {\n",
       "        // Keep the size of the canvas, canvas container, and rubber band\n",
       "        // canvas in synch.\n",
       "        canvas_div.css('width', width)\n",
       "        canvas_div.css('height', height)\n",
       "\n",
       "        canvas.attr('width', width * mpl.ratio);\n",
       "        canvas.attr('height', height * mpl.ratio);\n",
       "        canvas.attr('style', 'width: ' + width + 'px; height: ' + height + 'px;');\n",
       "\n",
       "        rubberband.attr('width', width);\n",
       "        rubberband.attr('height', height);\n",
       "    }\n",
       "\n",
       "    // Set the figure to an initial 600x600px, this will subsequently be updated\n",
       "    // upon first draw.\n",
       "    this._resize_canvas(600, 600);\n",
       "\n",
       "    // Disable right mouse context menu.\n",
       "    $(this.rubberband_canvas).bind(\"contextmenu\",function(e){\n",
       "        return false;\n",
       "    });\n",
       "\n",
       "    function set_focus () {\n",
       "        canvas.focus();\n",
       "        canvas_div.focus();\n",
       "    }\n",
       "\n",
       "    window.setTimeout(set_focus, 100);\n",
       "}\n",
       "\n",
       "mpl.figure.prototype._init_toolbar = function() {\n",
       "    var fig = this;\n",
       "\n",
       "    var nav_element = $('<div/>');\n",
       "    nav_element.attr('style', 'width: 100%');\n",
       "    this.root.append(nav_element);\n",
       "\n",
       "    // Define a callback function for later on.\n",
       "    function toolbar_event(event) {\n",
       "        return fig.toolbar_button_onclick(event['data']);\n",
       "    }\n",
       "    function toolbar_mouse_event(event) {\n",
       "        return fig.toolbar_button_onmouseover(event['data']);\n",
       "    }\n",
       "\n",
       "    for(var toolbar_ind in mpl.toolbar_items) {\n",
       "        var name = mpl.toolbar_items[toolbar_ind][0];\n",
       "        var tooltip = mpl.toolbar_items[toolbar_ind][1];\n",
       "        var image = mpl.toolbar_items[toolbar_ind][2];\n",
       "        var method_name = mpl.toolbar_items[toolbar_ind][3];\n",
       "\n",
       "        if (!name) {\n",
       "            // put a spacer in here.\n",
       "            continue;\n",
       "        }\n",
       "        var button = $('<button/>');\n",
       "        button.addClass('ui-button ui-widget ui-state-default ui-corner-all ' +\n",
       "                        'ui-button-icon-only');\n",
       "        button.attr('role', 'button');\n",
       "        button.attr('aria-disabled', 'false');\n",
       "        button.click(method_name, toolbar_event);\n",
       "        button.mouseover(tooltip, toolbar_mouse_event);\n",
       "\n",
       "        var icon_img = $('<span/>');\n",
       "        icon_img.addClass('ui-button-icon-primary ui-icon');\n",
       "        icon_img.addClass(image);\n",
       "        icon_img.addClass('ui-corner-all');\n",
       "\n",
       "        var tooltip_span = $('<span/>');\n",
       "        tooltip_span.addClass('ui-button-text');\n",
       "        tooltip_span.html(tooltip);\n",
       "\n",
       "        button.append(icon_img);\n",
       "        button.append(tooltip_span);\n",
       "\n",
       "        nav_element.append(button);\n",
       "    }\n",
       "\n",
       "    var fmt_picker_span = $('<span/>');\n",
       "\n",
       "    var fmt_picker = $('<select/>');\n",
       "    fmt_picker.addClass('mpl-toolbar-option ui-widget ui-widget-content');\n",
       "    fmt_picker_span.append(fmt_picker);\n",
       "    nav_element.append(fmt_picker_span);\n",
       "    this.format_dropdown = fmt_picker[0];\n",
       "\n",
       "    for (var ind in mpl.extensions) {\n",
       "        var fmt = mpl.extensions[ind];\n",
       "        var option = $(\n",
       "            '<option/>', {selected: fmt === mpl.default_extension}).html(fmt);\n",
       "        fmt_picker.append(option);\n",
       "    }\n",
       "\n",
       "    // Add hover states to the ui-buttons\n",
       "    $( \".ui-button\" ).hover(\n",
       "        function() { $(this).addClass(\"ui-state-hover\");},\n",
       "        function() { $(this).removeClass(\"ui-state-hover\");}\n",
       "    );\n",
       "\n",
       "    var status_bar = $('<span class=\"mpl-message\"/>');\n",
       "    nav_element.append(status_bar);\n",
       "    this.message = status_bar[0];\n",
       "}\n",
       "\n",
       "mpl.figure.prototype.request_resize = function(x_pixels, y_pixels) {\n",
       "    // Request matplotlib to resize the figure. Matplotlib will then trigger a resize in the client,\n",
       "    // which will in turn request a refresh of the image.\n",
       "    this.send_message('resize', {'width': x_pixels, 'height': y_pixels});\n",
       "}\n",
       "\n",
       "mpl.figure.prototype.send_message = function(type, properties) {\n",
       "    properties['type'] = type;\n",
       "    properties['figure_id'] = this.id;\n",
       "    this.ws.send(JSON.stringify(properties));\n",
       "}\n",
       "\n",
       "mpl.figure.prototype.send_draw_message = function() {\n",
       "    if (!this.waiting) {\n",
       "        this.waiting = true;\n",
       "        this.ws.send(JSON.stringify({type: \"draw\", figure_id: this.id}));\n",
       "    }\n",
       "}\n",
       "\n",
       "\n",
       "mpl.figure.prototype.handle_save = function(fig, msg) {\n",
       "    var format_dropdown = fig.format_dropdown;\n",
       "    var format = format_dropdown.options[format_dropdown.selectedIndex].value;\n",
       "    fig.ondownload(fig, format);\n",
       "}\n",
       "\n",
       "\n",
       "mpl.figure.prototype.handle_resize = function(fig, msg) {\n",
       "    var size = msg['size'];\n",
       "    if (size[0] != fig.canvas.width || size[1] != fig.canvas.height) {\n",
       "        fig._resize_canvas(size[0], size[1]);\n",
       "        fig.send_message(\"refresh\", {});\n",
       "    };\n",
       "}\n",
       "\n",
       "mpl.figure.prototype.handle_rubberband = function(fig, msg) {\n",
       "    var x0 = msg['x0'] / mpl.ratio;\n",
       "    var y0 = (fig.canvas.height - msg['y0']) / mpl.ratio;\n",
       "    var x1 = msg['x1'] / mpl.ratio;\n",
       "    var y1 = (fig.canvas.height - msg['y1']) / mpl.ratio;\n",
       "    x0 = Math.floor(x0) + 0.5;\n",
       "    y0 = Math.floor(y0) + 0.5;\n",
       "    x1 = Math.floor(x1) + 0.5;\n",
       "    y1 = Math.floor(y1) + 0.5;\n",
       "    var min_x = Math.min(x0, x1);\n",
       "    var min_y = Math.min(y0, y1);\n",
       "    var width = Math.abs(x1 - x0);\n",
       "    var height = Math.abs(y1 - y0);\n",
       "\n",
       "    fig.rubberband_context.clearRect(\n",
       "        0, 0, fig.canvas.width / mpl.ratio, fig.canvas.height / mpl.ratio);\n",
       "\n",
       "    fig.rubberband_context.strokeRect(min_x, min_y, width, height);\n",
       "}\n",
       "\n",
       "mpl.figure.prototype.handle_figure_label = function(fig, msg) {\n",
       "    // Updates the figure title.\n",
       "    fig.header.textContent = msg['label'];\n",
       "}\n",
       "\n",
       "mpl.figure.prototype.handle_cursor = function(fig, msg) {\n",
       "    var cursor = msg['cursor'];\n",
       "    switch(cursor)\n",
       "    {\n",
       "    case 0:\n",
       "        cursor = 'pointer';\n",
       "        break;\n",
       "    case 1:\n",
       "        cursor = 'default';\n",
       "        break;\n",
       "    case 2:\n",
       "        cursor = 'crosshair';\n",
       "        break;\n",
       "    case 3:\n",
       "        cursor = 'move';\n",
       "        break;\n",
       "    }\n",
       "    fig.rubberband_canvas.style.cursor = cursor;\n",
       "}\n",
       "\n",
       "mpl.figure.prototype.handle_message = function(fig, msg) {\n",
       "    fig.message.textContent = msg['message'];\n",
       "}\n",
       "\n",
       "mpl.figure.prototype.handle_draw = function(fig, msg) {\n",
       "    // Request the server to send over a new figure.\n",
       "    fig.send_draw_message();\n",
       "}\n",
       "\n",
       "mpl.figure.prototype.handle_image_mode = function(fig, msg) {\n",
       "    fig.image_mode = msg['mode'];\n",
       "}\n",
       "\n",
       "mpl.figure.prototype.updated_canvas_event = function() {\n",
       "    // Called whenever the canvas gets updated.\n",
       "    this.send_message(\"ack\", {});\n",
       "}\n",
       "\n",
       "// A function to construct a web socket function for onmessage handling.\n",
       "// Called in the figure constructor.\n",
       "mpl.figure.prototype._make_on_message_function = function(fig) {\n",
       "    return function socket_on_message(evt) {\n",
       "        if (evt.data instanceof Blob) {\n",
       "            /* FIXME: We get \"Resource interpreted as Image but\n",
       "             * transferred with MIME type text/plain:\" errors on\n",
       "             * Chrome.  But how to set the MIME type?  It doesn't seem\n",
       "             * to be part of the websocket stream */\n",
       "            evt.data.type = \"image/png\";\n",
       "\n",
       "            /* Free the memory for the previous frames */\n",
       "            if (fig.imageObj.src) {\n",
       "                (window.URL || window.webkitURL).revokeObjectURL(\n",
       "                    fig.imageObj.src);\n",
       "            }\n",
       "\n",
       "            fig.imageObj.src = (window.URL || window.webkitURL).createObjectURL(\n",
       "                evt.data);\n",
       "            fig.updated_canvas_event();\n",
       "            fig.waiting = false;\n",
       "            return;\n",
       "        }\n",
       "        else if (typeof evt.data === 'string' && evt.data.slice(0, 21) == \"data:image/png;base64\") {\n",
       "            fig.imageObj.src = evt.data;\n",
       "            fig.updated_canvas_event();\n",
       "            fig.waiting = false;\n",
       "            return;\n",
       "        }\n",
       "\n",
       "        var msg = JSON.parse(evt.data);\n",
       "        var msg_type = msg['type'];\n",
       "\n",
       "        // Call the  \"handle_{type}\" callback, which takes\n",
       "        // the figure and JSON message as its only arguments.\n",
       "        try {\n",
       "            var callback = fig[\"handle_\" + msg_type];\n",
       "        } catch (e) {\n",
       "            console.log(\"No handler for the '\" + msg_type + \"' message type: \", msg);\n",
       "            return;\n",
       "        }\n",
       "\n",
       "        if (callback) {\n",
       "            try {\n",
       "                // console.log(\"Handling '\" + msg_type + \"' message: \", msg);\n",
       "                callback(fig, msg);\n",
       "            } catch (e) {\n",
       "                console.log(\"Exception inside the 'handler_\" + msg_type + \"' callback:\", e, e.stack, msg);\n",
       "            }\n",
       "        }\n",
       "    };\n",
       "}\n",
       "\n",
       "// from http://stackoverflow.com/questions/1114465/getting-mouse-location-in-canvas\n",
       "mpl.findpos = function(e) {\n",
       "    //this section is from http://www.quirksmode.org/js/events_properties.html\n",
       "    var targ;\n",
       "    if (!e)\n",
       "        e = window.event;\n",
       "    if (e.target)\n",
       "        targ = e.target;\n",
       "    else if (e.srcElement)\n",
       "        targ = e.srcElement;\n",
       "    if (targ.nodeType == 3) // defeat Safari bug\n",
       "        targ = targ.parentNode;\n",
       "\n",
       "    // jQuery normalizes the pageX and pageY\n",
       "    // pageX,Y are the mouse positions relative to the document\n",
       "    // offset() returns the position of the element relative to the document\n",
       "    var x = e.pageX - $(targ).offset().left;\n",
       "    var y = e.pageY - $(targ).offset().top;\n",
       "\n",
       "    return {\"x\": x, \"y\": y};\n",
       "};\n",
       "\n",
       "/*\n",
       " * return a copy of an object with only non-object keys\n",
       " * we need this to avoid circular references\n",
       " * http://stackoverflow.com/a/24161582/3208463\n",
       " */\n",
       "function simpleKeys (original) {\n",
       "  return Object.keys(original).reduce(function (obj, key) {\n",
       "    if (typeof original[key] !== 'object')\n",
       "        obj[key] = original[key]\n",
       "    return obj;\n",
       "  }, {});\n",
       "}\n",
       "\n",
       "mpl.figure.prototype.mouse_event = function(event, name) {\n",
       "    var canvas_pos = mpl.findpos(event)\n",
       "\n",
       "    if (name === 'button_press')\n",
       "    {\n",
       "        this.canvas.focus();\n",
       "        this.canvas_div.focus();\n",
       "    }\n",
       "\n",
       "    var x = canvas_pos.x * mpl.ratio;\n",
       "    var y = canvas_pos.y * mpl.ratio;\n",
       "\n",
       "    this.send_message(name, {x: x, y: y, button: event.button,\n",
       "                             step: event.step,\n",
       "                             guiEvent: simpleKeys(event)});\n",
       "\n",
       "    /* This prevents the web browser from automatically changing to\n",
       "     * the text insertion cursor when the button is pressed.  We want\n",
       "     * to control all of the cursor setting manually through the\n",
       "     * 'cursor' event from matplotlib */\n",
       "    event.preventDefault();\n",
       "    return false;\n",
       "}\n",
       "\n",
       "mpl.figure.prototype._key_event_extra = function(event, name) {\n",
       "    // Handle any extra behaviour associated with a key event\n",
       "}\n",
       "\n",
       "mpl.figure.prototype.key_event = function(event, name) {\n",
       "\n",
       "    // Prevent repeat events\n",
       "    if (name == 'key_press')\n",
       "    {\n",
       "        if (event.which === this._key)\n",
       "            return;\n",
       "        else\n",
       "            this._key = event.which;\n",
       "    }\n",
       "    if (name == 'key_release')\n",
       "        this._key = null;\n",
       "\n",
       "    var value = '';\n",
       "    if (event.ctrlKey && event.which != 17)\n",
       "        value += \"ctrl+\";\n",
       "    if (event.altKey && event.which != 18)\n",
       "        value += \"alt+\";\n",
       "    if (event.shiftKey && event.which != 16)\n",
       "        value += \"shift+\";\n",
       "\n",
       "    value += 'k';\n",
       "    value += event.which.toString();\n",
       "\n",
       "    this._key_event_extra(event, name);\n",
       "\n",
       "    this.send_message(name, {key: value,\n",
       "                             guiEvent: simpleKeys(event)});\n",
       "    return false;\n",
       "}\n",
       "\n",
       "mpl.figure.prototype.toolbar_button_onclick = function(name) {\n",
       "    if (name == 'download') {\n",
       "        this.handle_save(this, null);\n",
       "    } else {\n",
       "        this.send_message(\"toolbar_button\", {name: name});\n",
       "    }\n",
       "};\n",
       "\n",
       "mpl.figure.prototype.toolbar_button_onmouseover = function(tooltip) {\n",
       "    this.message.textContent = tooltip;\n",
       "};\n",
       "mpl.toolbar_items = [[\"Home\", \"Reset original view\", \"fa fa-home icon-home\", \"home\"], [\"Back\", \"Back to previous view\", \"fa fa-arrow-left icon-arrow-left\", \"back\"], [\"Forward\", \"Forward to next view\", \"fa fa-arrow-right icon-arrow-right\", \"forward\"], [\"\", \"\", \"\", \"\"], [\"Pan\", \"Pan axes with left mouse, zoom with right\", \"fa fa-arrows icon-move\", \"pan\"], [\"Zoom\", \"Zoom to rectangle\", \"fa fa-square-o icon-check-empty\", \"zoom\"], [\"\", \"\", \"\", \"\"], [\"Download\", \"Download plot\", \"fa fa-floppy-o icon-save\", \"download\"]];\n",
       "\n",
       "mpl.extensions = [\"eps\", \"jpeg\", \"pdf\", \"png\", \"ps\", \"raw\", \"svg\", \"tif\"];\n",
       "\n",
       "mpl.default_extension = \"png\";var comm_websocket_adapter = function(comm) {\n",
       "    // Create a \"websocket\"-like object which calls the given IPython comm\n",
       "    // object with the appropriate methods. Currently this is a non binary\n",
       "    // socket, so there is still some room for performance tuning.\n",
       "    var ws = {};\n",
       "\n",
       "    ws.close = function() {\n",
       "        comm.close()\n",
       "    };\n",
       "    ws.send = function(m) {\n",
       "        //console.log('sending', m);\n",
       "        comm.send(m);\n",
       "    };\n",
       "    // Register the callback with on_msg.\n",
       "    comm.on_msg(function(msg) {\n",
       "        //console.log('receiving', msg['content']['data'], msg);\n",
       "        // Pass the mpl event to the overridden (by mpl) onmessage function.\n",
       "        ws.onmessage(msg['content']['data'])\n",
       "    });\n",
       "    return ws;\n",
       "}\n",
       "\n",
       "mpl.mpl_figure_comm = function(comm, msg) {\n",
       "    // This is the function which gets called when the mpl process\n",
       "    // starts-up an IPython Comm through the \"matplotlib\" channel.\n",
       "\n",
       "    var id = msg.content.data.id;\n",
       "    // Get hold of the div created by the display call when the Comm\n",
       "    // socket was opened in Python.\n",
       "    var element = $(\"#\" + id);\n",
       "    var ws_proxy = comm_websocket_adapter(comm)\n",
       "\n",
       "    function ondownload(figure, format) {\n",
       "        window.open(figure.imageObj.src);\n",
       "    }\n",
       "\n",
       "    var fig = new mpl.figure(id, ws_proxy,\n",
       "                           ondownload,\n",
       "                           element.get(0));\n",
       "\n",
       "    // Call onopen now - mpl needs it, as it is assuming we've passed it a real\n",
       "    // web socket which is closed, not our websocket->open comm proxy.\n",
       "    ws_proxy.onopen();\n",
       "\n",
       "    fig.parent_element = element.get(0);\n",
       "    fig.cell_info = mpl.find_output_cell(\"<div id='\" + id + \"'></div>\");\n",
       "    if (!fig.cell_info) {\n",
       "        console.error(\"Failed to find cell for figure\", id, fig);\n",
       "        return;\n",
       "    }\n",
       "\n",
       "    var output_index = fig.cell_info[2]\n",
       "    var cell = fig.cell_info[0];\n",
       "\n",
       "};\n",
       "\n",
       "mpl.figure.prototype.handle_close = function(fig, msg) {\n",
       "    var width = fig.canvas.width/mpl.ratio\n",
       "    fig.root.unbind('remove')\n",
       "\n",
       "    // Update the output cell to use the data from the current canvas.\n",
       "    fig.push_to_output();\n",
       "    var dataURL = fig.canvas.toDataURL();\n",
       "    // Re-enable the keyboard manager in IPython - without this line, in FF,\n",
       "    // the notebook keyboard shortcuts fail.\n",
       "    IPython.keyboard_manager.enable()\n",
       "    $(fig.parent_element).html('<img src=\"' + dataURL + '\" width=\"' + width + '\">');\n",
       "    fig.close_ws(fig, msg);\n",
       "}\n",
       "\n",
       "mpl.figure.prototype.close_ws = function(fig, msg){\n",
       "    fig.send_message('closing', msg);\n",
       "    // fig.ws.close()\n",
       "}\n",
       "\n",
       "mpl.figure.prototype.push_to_output = function(remove_interactive) {\n",
       "    // Turn the data on the canvas into data in the output cell.\n",
       "    var width = this.canvas.width/mpl.ratio\n",
       "    var dataURL = this.canvas.toDataURL();\n",
       "    this.cell_info[1]['text/html'] = '<img src=\"' + dataURL + '\" width=\"' + width + '\">';\n",
       "}\n",
       "\n",
       "mpl.figure.prototype.updated_canvas_event = function() {\n",
       "    // Tell IPython that the notebook contents must change.\n",
       "    IPython.notebook.set_dirty(true);\n",
       "    this.send_message(\"ack\", {});\n",
       "    var fig = this;\n",
       "    // Wait a second, then push the new image to the DOM so\n",
       "    // that it is saved nicely (might be nice to debounce this).\n",
       "    setTimeout(function () { fig.push_to_output() }, 1000);\n",
       "}\n",
       "\n",
       "mpl.figure.prototype._init_toolbar = function() {\n",
       "    var fig = this;\n",
       "\n",
       "    var nav_element = $('<div/>');\n",
       "    nav_element.attr('style', 'width: 100%');\n",
       "    this.root.append(nav_element);\n",
       "\n",
       "    // Define a callback function for later on.\n",
       "    function toolbar_event(event) {\n",
       "        return fig.toolbar_button_onclick(event['data']);\n",
       "    }\n",
       "    function toolbar_mouse_event(event) {\n",
       "        return fig.toolbar_button_onmouseover(event['data']);\n",
       "    }\n",
       "\n",
       "    for(var toolbar_ind in mpl.toolbar_items){\n",
       "        var name = mpl.toolbar_items[toolbar_ind][0];\n",
       "        var tooltip = mpl.toolbar_items[toolbar_ind][1];\n",
       "        var image = mpl.toolbar_items[toolbar_ind][2];\n",
       "        var method_name = mpl.toolbar_items[toolbar_ind][3];\n",
       "\n",
       "        if (!name) { continue; };\n",
       "\n",
       "        var button = $('<button class=\"btn btn-default\" href=\"#\" title=\"' + name + '\"><i class=\"fa ' + image + ' fa-lg\"></i></button>');\n",
       "        button.click(method_name, toolbar_event);\n",
       "        button.mouseover(tooltip, toolbar_mouse_event);\n",
       "        nav_element.append(button);\n",
       "    }\n",
       "\n",
       "    // Add the status bar.\n",
       "    var status_bar = $('<span class=\"mpl-message\" style=\"text-align:right; float: right;\"/>');\n",
       "    nav_element.append(status_bar);\n",
       "    this.message = status_bar[0];\n",
       "\n",
       "    // Add the close button to the window.\n",
       "    var buttongrp = $('<div class=\"btn-group inline pull-right\"></div>');\n",
       "    var button = $('<button class=\"btn btn-mini btn-primary\" href=\"#\" title=\"Stop Interaction\"><i class=\"fa fa-power-off icon-remove icon-large\"></i></button>');\n",
       "    button.click(function (evt) { fig.handle_close(fig, {}); } );\n",
       "    button.mouseover('Stop Interaction', toolbar_mouse_event);\n",
       "    buttongrp.append(button);\n",
       "    var titlebar = this.root.find($('.ui-dialog-titlebar'));\n",
       "    titlebar.prepend(buttongrp);\n",
       "}\n",
       "\n",
       "mpl.figure.prototype._root_extra_style = function(el){\n",
       "    var fig = this\n",
       "    el.on(\"remove\", function(){\n",
       "\tfig.close_ws(fig, {});\n",
       "    });\n",
       "}\n",
       "\n",
       "mpl.figure.prototype._canvas_extra_style = function(el){\n",
       "    // this is important to make the div 'focusable\n",
       "    el.attr('tabindex', 0)\n",
       "    // reach out to IPython and tell the keyboard manager to turn it's self\n",
       "    // off when our div gets focus\n",
       "\n",
       "    // location in version 3\n",
       "    if (IPython.notebook.keyboard_manager) {\n",
       "        IPython.notebook.keyboard_manager.register_events(el);\n",
       "    }\n",
       "    else {\n",
       "        // location in version 2\n",
       "        IPython.keyboard_manager.register_events(el);\n",
       "    }\n",
       "\n",
       "}\n",
       "\n",
       "mpl.figure.prototype._key_event_extra = function(event, name) {\n",
       "    var manager = IPython.notebook.keyboard_manager;\n",
       "    if (!manager)\n",
       "        manager = IPython.keyboard_manager;\n",
       "\n",
       "    // Check for shift+enter\n",
       "    if (event.shiftKey && event.which == 13) {\n",
       "        this.canvas_div.blur();\n",
       "        // select the cell after this one\n",
       "        var index = IPython.notebook.find_cell_index(this.cell_info[0]);\n",
       "        IPython.notebook.select(index + 1);\n",
       "    }\n",
       "}\n",
       "\n",
       "mpl.figure.prototype.handle_save = function(fig, msg) {\n",
       "    fig.ondownload(fig, null);\n",
       "}\n",
       "\n",
       "\n",
       "mpl.find_output_cell = function(html_output) {\n",
       "    // Return the cell and output element which can be found *uniquely* in the notebook.\n",
       "    // Note - this is a bit hacky, but it is done because the \"notebook_saving.Notebook\"\n",
       "    // IPython event is triggered only after the cells have been serialised, which for\n",
       "    // our purposes (turning an active figure into a static one), is too late.\n",
       "    var cells = IPython.notebook.get_cells();\n",
       "    var ncells = cells.length;\n",
       "    for (var i=0; i<ncells; i++) {\n",
       "        var cell = cells[i];\n",
       "        if (cell.cell_type === 'code'){\n",
       "            for (var j=0; j<cell.output_area.outputs.length; j++) {\n",
       "                var data = cell.output_area.outputs[j];\n",
       "                if (data.data) {\n",
       "                    // IPython >= 3 moved mimebundle to data attribute of output\n",
       "                    data = data.data;\n",
       "                }\n",
       "                if (data['text/html'] == html_output) {\n",
       "                    return [cell, data, j];\n",
       "                }\n",
       "            }\n",
       "        }\n",
       "    }\n",
       "}\n",
       "\n",
       "// Register the function which deals with the matplotlib target/channel.\n",
       "// The kernel may be null if the page has been refreshed.\n",
       "if (IPython.notebook.kernel != null) {\n",
       "    IPython.notebook.kernel.comm_manager.register_target('matplotlib', mpl.mpl_figure_comm);\n",
       "}\n"
      ],
      "text/plain": [
       "<IPython.core.display.Javascript object>"
      ]
     },
     "metadata": {},
     "output_type": "display_data"
    },
    {
     "data": {
      "text/html": [
       "<img src=\"data:image/png;base64,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\" width=\"500\">"
      ],
      "text/plain": [
       "<IPython.core.display.HTML object>"
      ]
     },
     "metadata": {},
     "output_type": "display_data"
    }
   ],
   "source": [
    "fig, ax = grid_raster.plot_raster()\n",
    "\n",
    "dum = nhd_clip.plot(ax=ax, linewidth=0.75)\n",
    "dum = shp.plot(ax=ax, color='red', alpha=0.3)\n",
    "dum = box.plot(ax=ax, color='none', edgecolor='k', linewidth=2)\n",
    "dum = ax.vlines(x_gridlines, gsm_y0, gsm_ym, linewidth=0.5, alpha=0.5)\n",
    "dum = ax.hlines(y_gridlines, gsm_x0, gsm_xm, linewidth=0.5, alpha=0.5)\n",
    "\n",
    "fig.set_tight_layout(True)"
   ]
  },
  {
   "cell_type": "code",
   "execution_count": null,
   "metadata": {
    "collapsed": true
   },
   "outputs": [],
   "source": []
  }
 ],
 "metadata": {
  "kernelspec": {
   "display_name": "Python 3",
   "language": "python",
   "name": "python3"
  },
  "language_info": {
   "codemirror_mode": {
    "name": "ipython",
    "version": 3
   },
   "file_extension": ".py",
   "mimetype": "text/x-python",
   "name": "python",
   "nbconvert_exporter": "python",
   "pygments_lexer": "ipython3",
   "version": "3.6.13"
  },
  "varInspector": {
   "cols": {
    "lenName": 16,
    "lenType": 16,
    "lenVar": 40
   },
   "kernels_config": {
    "python": {
     "delete_cmd_postfix": "",
     "delete_cmd_prefix": "del ",
     "library": "var_list.py",
     "varRefreshCmd": "print(var_dic_list())"
    },
    "r": {
     "delete_cmd_postfix": ") ",
     "delete_cmd_prefix": "rm(",
     "library": "var_list.r",
     "varRefreshCmd": "cat(var_dic_list()) "
    }
   },
   "types_to_exclude": [
    "module",
    "function",
    "builtin_function_or_method",
    "instance",
    "_Feature"
   ],
   "window_display": false
  },
  "widgets": {
   "state": {
    "fe74db59d5304861a6075ed48715a1d7": {
     "views": [
      {
       "cell_index": 5
      }
     ]
    }
   },
   "version": "1.2.0"
  }
 },
 "nbformat": 4,
 "nbformat_minor": 4
}
