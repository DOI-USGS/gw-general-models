{
 "cells": [
  {
   "cell_type": "code",
   "execution_count": null,
   "metadata": {
    "ExecuteTime": {
     "end_time": "2021-12-23T21:17:55.823106Z",
     "start_time": "2021-12-23T21:17:53.856856Z"
    }
   },
   "outputs": [],
   "source": [
    "%matplotlib notebook\n",
    "\n",
    "import os\n",
    "import datetime as dt\n",
    "import pickle, joblib\n",
    "\n",
    "\n",
    "# Standard data science libraries\n",
    "import pandas as pd\n",
    "import numpy as np\n",
    "import scipy.stats as ss\n",
    "import scipy.optimize as so \n",
    "import scipy.interpolate as si\n",
    "\n",
    "# Visualization\n",
    "import matplotlib.pyplot as plt\n",
    "import seaborn as sns\n",
    "plt.style.use('seaborn-notebook')\n",
    "\n",
    "# Options for pandas\n",
    "pd.options.display.max_columns = 20\n",
    "pd.options.display.max_rows = 200\n",
    "\n",
    "# Display all cell outputs\n",
    "from IPython.core.interactiveshell import InteractiveShell\n",
    "InteractiveShell.ast_node_interactivity = 'all'\n",
    "\n",
    "from IPython.display import Image\n",
    "from IPython.display import Math\n",
    "\n"
   ]
  },
  {
   "cell_type": "code",
   "execution_count": null,
   "metadata": {
    "ExecuteTime": {
     "end_time": "2021-12-23T21:17:56.671512Z",
     "start_time": "2021-12-23T21:17:55.825063Z"
    }
   },
   "outputs": [],
   "source": [
    "from ipywidgets import interact, Dropdown\n",
    "from IPython.display import display\n",
    "\n",
    "import flopy as fp\n",
    "import geopandas as gpd\n",
    "from shapely.geometry import LineString, MultiLineString, Point\n",
    "\n",
    "import RTD_util6 as rtd_ut\n",
    "import Genmod_Utilities as gmu\n",
    "\n",
    "import matplotlib.dates as mdates\n",
    "import matplotlib.ticker as mticks\n",
    "\n",
    "import json"
   ]
  },
  {
   "cell_type": "markdown",
   "metadata": {},
   "source": [
    "The next cell sets up some color and font choices that work for AGU journals."
   ]
  },
  {
   "cell_type": "code",
   "execution_count": null,
   "metadata": {
    "ExecuteTime": {
     "end_time": "2021-12-23T21:17:56.686749Z",
     "start_time": "2021-12-23T21:17:56.673667Z"
    }
   },
   "outputs": [],
   "source": [
    "KS1 = '#06366E'\n",
    "KS2 = '#00A3EB'\n",
    "KS3 = '#25C0A6'\n",
    "KS4 = '#FDDA58'\n",
    "KS5 = '#5D171A'\n",
    "\n",
    "font = {'family' : 'sans-serif',\n",
    "        'weight' : 'normal',\n",
    "        'size'   : 12,\n",
    "        'sans-serif' : 'Arial'}\n",
    "\n",
    "plt.rc('font', **font)"
   ]
  },
  {
   "cell_type": "markdown",
   "metadata": {},
   "source": [
    "The user can set the number of particles, porosity, and location of the MODPATH7 executable file. The number of particles that can be used is proportional to the amount of RAM availble. $4*10^6$ works with 64 GB of RAM, although more may be possible. The constant value for porosity can be replaced with a numpy array."
   ]
  },
  {
   "cell_type": "code",
   "execution_count": null,
   "metadata": {
    "ExecuteTime": {
     "end_time": "2021-12-24T18:24:40.806925Z",
     "start_time": "2021-12-24T18:24:40.790578Z"
    }
   },
   "outputs": [],
   "source": [
    "total_number_of_particles = 4.E+06\n",
    "por = 0.20\n",
    "mp_exe_name7 = '../Executables/modpath_7_2_001/bin/mpath7.exe'"
   ]
  },
  {
   "cell_type": "markdown",
   "metadata": {},
   "source": [
    "Read in some files created by previous notebooks."
   ]
  },
  {
   "cell_type": "code",
   "execution_count": null,
   "metadata": {
    "ExecuteTime": {
     "end_time": "2021-12-24T18:24:40.806925Z",
     "start_time": "2021-12-24T18:24:40.790578Z"
    }
   },
   "outputs": [],
   "source": [
    "with open('GenMod_metadata.txt') as json_file:\n",
    "    metadata = json.load(json_file)\n",
    "    \n",
    "src = os.path.join('model_ws', 'gsm_metadata.json')\n",
    "with open(src, 'r') as f:\n",
    "    gsm_metadata = json.load(f)   \n",
    "    \n",
    "from argparse import Namespace\n",
    "meta = Namespace(**gsm_metadata)"
   ]
  },
  {
   "cell_type": "markdown",
   "metadata": {},
   "source": [
    "## Use General Simulation Model to calculate TTD"
   ]
  },
  {
   "cell_type": "markdown",
   "metadata": {},
   "source": [
    "Read MODFLOW model and create RTD object"
   ]
  },
  {
   "cell_type": "code",
   "execution_count": null,
   "metadata": {
    "ExecuteTime": {
     "end_time": "2021-12-23T21:17:57.127204Z",
     "start_time": "2021-12-23T21:17:56.720577Z"
    }
   },
   "outputs": [],
   "source": [
    "print('Reading model information')\n",
    "\n",
    "ml = fp.mf6.MFSimulation.load(sim_name='mfsim.nam', version='mf6', exe_name=metadata['modflow_path'],\n",
    "                              sim_ws='optimal_model', strict=True, verbosity_level=0, load_only=None, verify_data=False)\n",
    "model = ml.get_model()\n",
    "rtd = rtd_ut.RTD_util(ml, 'flow', 'rt')\n",
    "print('   ... done')"
   ]
  },
  {
   "cell_type": "markdown",
   "metadata": {},
   "source": [
    "## Read model output and compute net inflow to drain cells"
   ]
  },
  {
   "cell_type": "code",
   "execution_count": null,
   "metadata": {},
   "outputs": [],
   "source": [
    "# read shapefile created in step 1--NHD flowlines intersected with model grid\n",
    "src = os.path.join('gis', 'drain_segments.shp')\n",
    "shp = gpd.read_file(src)\n",
    "\n",
    "# read enhanced model_grid file in model_ws\n",
    "src = os.path.join('gis', 'model_grid.csv')\n",
    "data = pd.read_csv(src)\n",
    "\n",
    "# extract the drain budget terms from modflow output\n",
    "rtd.get_budget('DRN')\n",
    "drains = rtd.budget\n",
    "\n",
    "# create a dataframe of drain flows\n",
    "drn_df = pd.DataFrame(drains[0])\n",
    "drn_df['node'] = drn_df['node'] - 1\n",
    "\n",
    "# merge drain segments (by model cells) with drain flows\n",
    "shp_drn_df = shp.merge(drn_df, left_on='node', right_on='node', how='outer')\n",
    "shp_drn_df = shp_drn_df[shp_drn_df.q < 0]\n",
    "\n",
    "# save shapefile to model_ws\n",
    "dst = os.path.join('optimal_model', 'drain_flows.shp')\n",
    "shp_drn_df.to_file(dst)\n",
    "\n",
    "flow = drn_df.q.sum()\n",
    "\n",
    "particles_per_flow = total_number_of_particles / flow\n",
    "\n",
    "# make particle locations\n",
    "x_partloc, y_partloc, node_list, label_list = rtd.make_stream_particle_array(\n",
    "    shp_drn_df, data, particles_per_flow, seg_ref='NHDPlusID')\n",
    "\n",
    "label_list = [np.int32(str(item)[-9:]) for item in label_list]"
   ]
  },
  {
   "cell_type": "markdown",
   "metadata": {},
   "source": [
    "Test case for local coordinates for stream particles"
   ]
  },
  {
   "cell_type": "code",
   "execution_count": null,
   "metadata": {
    "ExecuteTime": {
     "end_time": "2021-12-23T21:18:27.713478Z",
     "start_time": "2021-12-23T21:17:53.862Z"
    }
   },
   "outputs": [],
   "source": [
    "# rtd.run_test(100)"
   ]
  },
  {
   "cell_type": "markdown",
   "metadata": {},
   "source": [
    "* Write starting particle location file.\n",
    "* Particles start on top face of drain cells\n",
    "* Number of particles is proportional to new flux through top face\n",
    "* Label particles with the NHD reachcode"
   ]
  },
  {
   "cell_type": "code",
   "execution_count": null,
   "metadata": {
    "ExecuteTime": {
     "end_time": "2021-12-23T22:50:54.049746Z",
     "start_time": "2021-12-23T22:50:49.246797Z"
    }
   },
   "outputs": [],
   "source": [
    "particle_data = fp.modpath.ParticleData(partlocs=node_list,\n",
    "                                        structured=False,\n",
    "                                        particleids=label_list,\n",
    "                                        localx=x_partloc,\n",
    "                                        localy=y_partloc,\n",
    "                                        localz=1,\n",
    "                                        timeoffset=None,\n",
    "                                        drape=0)\n",
    "\n",
    "particle_group = fp.modpath.ParticleGroup(particlegroupname='drains', \n",
    "                                          filename='particles.loc',\n",
    "                                          releasedata=0,\n",
    "                                          particledata=particle_data)"
   ]
  },
  {
   "cell_type": "markdown",
   "metadata": {},
   "source": [
    "Run MODPATH"
   ]
  },
  {
   "cell_type": "code",
   "execution_count": null,
   "metadata": {
    "ExecuteTime": {
     "end_time": "2021-12-24T18:28:35.275890Z",
     "start_time": "2021-12-24T18:26:06.603669Z"
    }
   },
   "outputs": [],
   "source": [
    "mpname = '{}_{}_{}'.format(model.name, 'volume', 'rt')\n",
    "mpnf = '{}_{}_{}.mpnam'.format(model.name, 'volume', 'rt')\n",
    "mplf = '{}_{}_{}.mplst'.format(model.name, 'volume', 'rt')\n",
    "headfile = model.oc.head_filerecord.array.getfield('O')[0]\n",
    "budfile = model.oc.budget_filerecord.array.getfield('O')[0]\n",
    "endpointfile = '{}.mpend'.format(model.name)\n",
    "\n",
    "mp = fp.modpath.Modpath7(modelname=mpname, \n",
    "                         simfile_ext='mpsim', \n",
    "                         namefile_ext='mpnam', \n",
    "                         version='modpath7',\n",
    "                         exe_name=mp_exe_name7, \n",
    "                         flowmodel=model, \n",
    "                         headfilename=headfile,\n",
    "                         budgetfilename=budfile,\n",
    "                         model_ws='optimal_model',\n",
    "                         verbose=True)\n",
    "\n",
    "mpsim = fp.modpath.Modpath7Sim(mp, \n",
    "                               mpnamefilename=mpnf,\n",
    "                               listingfilename=mplf,\n",
    "                               endpointfilename=endpointfile,\n",
    "                               simulationtype='endpoint',\n",
    "                               trackingdirection='backward',\n",
    "                               weaksinkoption='stop_at',\n",
    "                               weaksourceoption='stop_at',\n",
    "                               budgetoutputoption='summary',\n",
    "                               referencetime=rtd.ref_time,\n",
    "                               stoptimeoption='extend',\n",
    "                               zonedataoption='off',\n",
    "                               stopzone=-1,\n",
    "                               particlegroups=particle_group,\n",
    "                               extension='mpsim')\n",
    "\n",
    "mpbas = fp.modpath.Modpath7Bas(mp,\n",
    "                               porosity=0.20,\n",
    "                               defaultiface={'DRN': 6, 'RCH': 6})\n",
    "\n",
    "mp.write_input()\n",
    "success, msg = mp.run_model(silent=True, report=False)"
   ]
  },
  {
   "cell_type": "markdown",
   "metadata": {},
   "source": [
    "Read endpoint information"
   ]
  },
  {
   "cell_type": "code",
   "execution_count": null,
   "metadata": {
    "ExecuteTime": {
     "end_time": "2021-12-24T18:30:15.368884Z",
     "start_time": "2021-12-24T18:29:59.208082Z"
    }
   },
   "outputs": [],
   "source": [
    "ep_data = rtd.read_endpoints(os.path.join('optimal_model', endpointfile))"
   ]
  },
  {
   "cell_type": "markdown",
   "metadata": {},
   "source": [
    "Write modified endpoint file"
   ]
  },
  {
   "cell_type": "code",
   "execution_count": null,
   "metadata": {
    "ExecuteTime": {
     "end_time": "2021-12-24T18:31:51.190259Z",
     "start_time": "2021-12-24T18:30:15.369709Z"
    }
   },
   "outputs": [],
   "source": [
    "rtd.modify_endpoint_file(ep_data, write=True)\n",
    "try:\n",
    "    os.remove(os.path.join('optimal_model', endpointfile))\n",
    "except FileNotFoundError:\n",
    "    pass\n",
    "try:\n",
    "    os.remove(os.path.join('optimal_model', 'particles.loc'))\n",
    "except FileNotFoundError:\n",
    "    pass\n",
    "\n"
   ]
  },
  {
   "cell_type": "code",
   "execution_count": null,
   "metadata": {},
   "outputs": [],
   "source": []
  }
 ],
 "metadata": {
  "anaconda-cloud": {},
  "celltoolbar": "Slideshow",
  "kernelspec": {
   "display_name": "Python 3",
   "language": "python",
   "name": "python3"
  },
  "language_info": {
   "codemirror_mode": {
    "name": "ipython",
    "version": 3
   },
   "file_extension": ".py",
   "mimetype": "text/x-python",
   "name": "python",
   "nbconvert_exporter": "python",
   "pygments_lexer": "ipython3",
   "version": "3.6.13"
  },
  "varInspector": {
   "cols": {
    "lenName": 16,
    "lenType": 16,
    "lenVar": 40
   },
   "kernels_config": {
    "python": {
     "delete_cmd_postfix": "",
     "delete_cmd_prefix": "del ",
     "library": "var_list.py",
     "varRefreshCmd": "print(var_dic_list())"
    },
    "r": {
     "delete_cmd_postfix": ") ",
     "delete_cmd_prefix": "rm(",
     "library": "var_list.r",
     "varRefreshCmd": "cat(var_dic_list()) "
    }
   },
   "types_to_exclude": [
    "module",
    "function",
    "builtin_function_or_method",
    "instance",
    "_Feature"
   ],
   "window_display": false
  }
 },
 "nbformat": 4,
 "nbformat_minor": 1
}
