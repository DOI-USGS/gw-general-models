{
 "cells": [
  {
   "cell_type": "code",
   "execution_count": 1,
   "metadata": {
    "ExecuteTime": {
     "end_time": "2021-12-23T15:57:06.602262Z",
     "start_time": "2021-12-23T15:57:03.819889Z"
    }
   },
   "outputs": [],
   "source": [
    "%matplotlib notebook\n",
    "\n",
    "import os\n",
    "import pandas as pd\n",
    "import numpy as np\n",
    "import json\n",
    "import shutil\n",
    "\n",
    "import geopandas as gpd\n",
    "from ipyleaflet import Map, GeoData, basemaps, WidgetControl\n",
    "from ipywidgets import HTML, SelectMultiple\n",
    "\n",
    "import Genmod_Utilities as gmu\n",
    "import flopy as fp\n",
    "import RTD_util6 as rtd_ut"
   ]
  },
  {
   "cell_type": "markdown",
   "metadata": {},
   "source": [
    "The purpose of this notebook is to create a shape file for use in General Model notebooks. The shapefile can be created using any method. This notebook provides one convenient way to do it.\n",
    "\n",
    "The General Models work at any scale, but HUC8s have been shown to provide an appropriate average of general conditions. In this notebook, HUC8s are selected from a 250K-scale HUC index shape file. If the shape file does not exist in the directory that contains this notebook, it will be downloaded. The user supplies a name or partial name of a HUC8 basin. In case there are multiple occurences of that name or partial name, the user can select which one(s) are processed. If there are multiple segments of the desired HUC8, multiple basins can be selected.  They will be combined into one shapefile. \n",
    "\n",
    "This notebook is interactive It can be executed one cell at a time by pressing shift-enter in each cell. It can also be run all at once from the menu bar, but there will be an error after the map cell until a basin or basins are selected. After the selection is made, the rest of the cells can be run. "
   ]
  },
  {
   "cell_type": "markdown",
   "metadata": {},
   "source": [
    "Supply the name of a HUC8. Partial names are acceptable, e.g., 'Hous' for the Housatonic River "
   ]
  },
  {
   "cell_type": "code",
   "execution_count": 2,
   "metadata": {
    "ExecuteTime": {
     "end_time": "2021-12-23T15:57:06.618223Z",
     "start_time": "2021-12-23T15:57:06.604261Z"
    }
   },
   "outputs": [],
   "source": [
    "HUC8_name = 'Saco'"
   ]
  },
  {
   "cell_type": "markdown",
   "metadata": {},
   "source": [
    "The user should execute the following cells, up to the dropdown menu, without any interaction. The user can select the chosen HUC8 from the dropdown menu."
   ]
  },
  {
   "cell_type": "code",
   "execution_count": 3,
   "metadata": {
    "ExecuteTime": {
     "end_time": "2021-12-23T15:57:06.633694Z",
     "start_time": "2021-12-23T15:57:06.620226Z"
    }
   },
   "outputs": [],
   "source": [
    "file_dict = dict()\n",
    "file_dict['HUC8_name'] = HUC8_name\n",
    "\n",
    "down_load_dir = 'downloads'\n",
    "model_gis = 'gis'\n",
    "mfpth6 = '../Executables/mf6.1.1/bin/mf6.exe'\n",
    "\n",
    "file_dict['download_dir'] = down_load_dir\n",
    "file_dict['gis_dir'] = model_gis\n",
    "file_dict['modflow_path'] = mfpth6"
   ]
  },
  {
   "cell_type": "code",
   "execution_count": 4,
   "metadata": {
    "ExecuteTime": {
     "end_time": "2021-12-23T15:57:06.649311Z",
     "start_time": "2021-12-23T15:57:06.635272Z"
    }
   },
   "outputs": [],
   "source": [
    "if not os.path.exists(down_load_dir):\n",
    "    os.mkdir(down_load_dir)\n",
    "\n",
    "if not os.path.exists(model_gis):\n",
    "    os.mkdir(model_gis)"
   ]
  },
  {
   "cell_type": "markdown",
   "metadata": {},
   "source": [
    "If the 250K HUC index shape file does not exist in the user directory, download it. "
   ]
  },
  {
   "cell_type": "code",
   "execution_count": 5,
   "metadata": {
    "ExecuteTime": {
     "end_time": "2021-12-23T15:57:07.853537Z",
     "start_time": "2021-12-23T15:57:06.650818Z"
    }
   },
   "outputs": [],
   "source": [
    "url = 'https://water.usgs.gov/GIS/dsdl/huc250k_shp.zip'\n",
    "huc_shapefile_name = url.split('/')[-1].split('.')[0]\n",
    "huc_shapefile_name = os.path.join(down_load_dir, huc_shapefile_name)\n",
    "\n",
    "if not os.path.exists(huc_shapefile_name):\n",
    "    gmu.download_and_extract(url, destination=down_load_dir)\n",
    "\n",
    "huc_map = gpd.read_file(huc_shapefile_name)"
   ]
  },
  {
   "cell_type": "markdown",
   "metadata": {},
   "source": [
    "Check to see if the requested name exists in the HUC index map. Count how many basins match that name. "
   ]
  },
  {
   "cell_type": "code",
   "execution_count": 6,
   "metadata": {
    "ExecuteTime": {
     "end_time": "2021-12-23T15:57:08.502771Z",
     "start_time": "2021-12-23T15:57:07.854551Z"
    }
   },
   "outputs": [
    {
     "name": "stdout",
     "output_type": "stream",
     "text": [
      "There are 1 basin shapes that contain the HUC8_name you provided.\n"
     ]
    }
   ],
   "source": [
    "selection = huc_map[huc_map.HUC_NAME.str.contains(HUC8_name)].HUC_NAME\n",
    "\n",
    "prelim_gdf = huc_map.set_index('HUC_NAME', drop=False)\n",
    "prelim_gdf = prelim_gdf.loc[selection, :]\n",
    "prelim_gdf.to_crs(crs='geog', inplace=True)\n",
    "prelim_gdf['ID'] = (np.arange(prelim_gdf.shape[0]) + 1)\n",
    "prelim_gdf['menu'] = prelim_gdf.ID.astype(str) +  ' - ' + prelim_gdf.HUC_NAME\n",
    "\n",
    "number_of_shapes = len(selection)\n",
    "\n",
    "print('There are {} basin shapes that contain the HUC8_name you provided.'.format(number_of_shapes))"
   ]
  },
  {
   "cell_type": "markdown",
   "metadata": {},
   "source": [
    "The following map can be used to identify basins.  Hover the cursor over each outlined basin to see its identity. There is a \"sweet spot\" in each basin where the cursor has to be to get the identity, and you may have to move the cursor around a bit to find it. The basin will turn red if it has been identified. Note that this step does not select the basin, it only helps identify which one(s) you want. Basins are selected from the drop-down menu below."
   ]
  },
  {
   "cell_type": "code",
   "execution_count": 13,
   "metadata": {
    "ExecuteTime": {
     "end_time": "2021-12-23T15:57:55.609049Z",
     "start_time": "2021-12-23T15:57:55.486328Z"
    }
   },
   "outputs": [
    {
     "data": {
      "application/vnd.jupyter.widget-view+json": {
       "model_id": "90dad0ecbd8a4e7dacd2595fff5017f8",
       "version_major": 2,
       "version_minor": 0
      },
      "text/plain": [
       "Map(center=[0.0, 0.0], controls=(ZoomControl(options=['position', 'zoom_in_text', 'zoom_in_title', 'zoom_out_t…"
      ]
     },
     "metadata": {},
     "output_type": "display_data"
    }
   ],
   "source": [
    "a = prelim_gdf.bounds[['miny', 'minx']].min()\n",
    "b = prelim_gdf.bounds[['maxy', 'maxx']].max()\n",
    "bounds = [a.to_list(), b.to_list()]\n",
    "\n",
    "m = Map(basemap=basemaps.OpenTopoMap, dragging=True, scroll_wheel_zoom=True)\n",
    "m.fit_bounds(bounds)\n",
    "\n",
    "sel_data = GeoData(geo_dataframe = prelim_gdf,\n",
    "                   style={'color': 'black', 'fillColor': 'none'},\n",
    "                   hover_style={'fillColor': 'red' , 'fillOpacity': 0.5})\n",
    "m.add_layer(sel_data)\n",
    "\n",
    "html = HTML('''Hover over a watershed''')\n",
    "html.layout.margin = '0px 20px 20px 20px'\n",
    "control = WidgetControl(widget=html, position='topright')\n",
    "m.add_control(control)\n",
    "\n",
    "def update_html(feature, **kwargs):\n",
    "    html.value = '''\n",
    "        <h3>{} {}</h3>\n",
    "        <h4>HUC8: {} </h4> \n",
    "        <h4>Area: {:,.0f} km<sup>2<sup></h4> \n",
    "                '''.format(feature['properties']['ID'],\n",
    "                           feature['id'],\n",
    "               feature['properties']['HUC_CODE'],\n",
    "               feature['properties']['AREA'] / 1E+06)\n",
    "\n",
    "sel_data.on_hover(update_html)\n",
    "\n",
    "m"
   ]
  },
  {
   "cell_type": "markdown",
   "metadata": {},
   "source": [
    "Select basins from the follwoing drop-down menu. Select multiple basins using control + right-click. After making the selection, move the cursor to the next cell manually. Executing this cell after the selection is made will remove the selection. "
   ]
  },
  {
   "cell_type": "code",
   "execution_count": 8,
   "metadata": {
    "ExecuteTime": {
     "end_time": "2021-12-23T15:57:08.675887Z",
     "start_time": "2021-12-23T15:57:08.646765Z"
    }
   },
   "outputs": [
    {
     "data": {
      "application/vnd.jupyter.widget-view+json": {
       "model_id": "82e2988df36c4688b5f33c5395d6eb26",
       "version_major": 2,
       "version_minor": 0
      },
      "text/plain": [
       "SelectMultiple(description='Matching HUCs', options=('1 - Saco',), rows=1, style=DescriptionStyle(description_…"
      ]
     },
     "metadata": {},
     "output_type": "display_data"
    }
   ],
   "source": [
    "widget = SelectMultiple(\n",
    "    options=prelim_gdf.menu,\n",
    "    rows=int(number_of_shapes),\n",
    "    description='Matching HUCs',\n",
    "    disabled=False,\n",
    "    style={'description_width': 'initial'}\n",
    ")\n",
    "\n",
    "widget"
   ]
  },
  {
   "cell_type": "markdown",
   "metadata": {},
   "source": [
    "Execute the next bunch of code cells to download the data and save it."
   ]
  },
  {
   "cell_type": "code",
   "execution_count": 14,
   "metadata": {
    "ExecuteTime": {
     "end_time": "2021-12-23T15:58:19.620382Z",
     "start_time": "2021-12-23T15:58:19.601403Z"
    }
   },
   "outputs": [
    {
     "name": "stdout",
     "output_type": "stream",
     "text": [
      "The selected HUC4 is 0106\n"
     ]
    }
   ],
   "source": [
    "huc_list = widget.value\n",
    "final = prelim_gdf.loc[prelim_gdf['menu'].isin(huc_list)]\n",
    "huc4 = final.HUC_CODE.str[0:4].unique()\n",
    "if len(huc4) > 1:\n",
    "    print('The basins you selected are not all in the same HUC4 basin, and they should be')\n",
    "else:\n",
    "    try:\n",
    "        huc4 = huc4[0]\n",
    "        file_dict['huc4'] = huc4\n",
    "        print('The selected HUC4 is {}'.format(huc4))\n",
    "        finish = True\n",
    "    except IndexError:\n",
    "        print('Go back to the drop-down menu and select one or more basins')\n",
    "        finish = False"
   ]
  },
  {
   "cell_type": "markdown",
   "metadata": {},
   "source": [
    "The next cell downloads some of the files needed for general models. The files can be quite large and downloading may take several minutes. Please be patient."
   ]
  },
  {
   "cell_type": "code",
   "execution_count": 15,
   "metadata": {
    "ExecuteTime": {
     "end_time": "2021-12-23T15:58:19.635551Z",
     "start_time": "2021-12-23T15:58:19.621349Z"
    }
   },
   "outputs": [
    {
     "name": "stdout",
     "output_type": "stream",
     "text": [
      "NHD high resolution vector data already exists\n",
      "NHD high resolution raster data already exists\n"
     ]
    }
   ],
   "source": [
    "if finish:\n",
    "    nhd_src = 'https://prd-tnm.s3.amazonaws.com/StagedProducts/Hydrography/NHDPlusHR/Beta/GDB'\n",
    "\n",
    "    vector_url = nhd_src + '/NHDPLUS_H_{}_HU4_GDB.zip'.format(huc4)\n",
    "    vector_name = vector_url.split('/')[-1].split('.')[0] + '.gdb'\n",
    "    file_dict['vector_name'] = os.path.join(down_load_dir, vector_name)\n",
    "\n",
    "    raster_url = nhd_src + '/NHDPLUS_H_{}_HU4_RASTER.7z'.format(huc4)\n",
    "    raster_name = 'HRNHDPlusRasters{}'.format(huc4)\n",
    "    file_dict['raster_name'] = os.path.join(down_load_dir, raster_name)\n",
    "\n",
    "    if not os.path.exists(file_dict['vector_name']):\n",
    "        print('Downloading NHD high resolution vector data from \\n{}'.format(vector_name))\n",
    "        gmu.download_and_extract(vector_url, destination=down_load_dir)\n",
    "    else:\n",
    "        print('NHD high resolution vector data already exists')\n",
    "\n",
    "    if not os.path.exists(file_dict['raster_name']):\n",
    "        print('Downloading NHD high resolution raster data from \\n{}'.format(raster_name))\n",
    "        gmu.download_and_extract(raster_url, destination=down_load_dir)\n",
    "    else:\n",
    "        print('NHD high resolution raster data already exists')\n",
    "    \n",
    "else:\n",
    "    print('Go back to the drop-down menu and select one or more basins')"
   ]
  },
  {
   "cell_type": "code",
   "execution_count": 16,
   "metadata": {
    "ExecuteTime": {
     "end_time": "2021-12-23T15:58:19.916298Z",
     "start_time": "2021-12-23T15:58:19.638319Z"
    }
   },
   "outputs": [],
   "source": [
    "if finish:\n",
    "# Read the High Resolution NHDPlus file that was just downloaded. \n",
    "    WBDHU8 = gpd.read_file(os.path.join(down_load_dir, vector_name), layer='WBDHU8')\n",
    "\n",
    "# Select the selected basins from the High Resolution NHDPlus files.  These might be the same \n",
    "# basin shapes as in the index map, but there is no guarantee they will be the same. The High \n",
    "# Resolution maps will be updated more frequently.     \n",
    "    basins = WBDHU8.loc[WBDHU8['HUC8'].isin(final.HUC_CODE)]\n",
    "\n",
    "# If more than one basin was selected, dissolve them into one polygon. \n",
    "    geom = gpd.GeoSeries(basins.geometry.unary_union)\n",
    "\n",
    "# Make a data frame from the dissolved polygons and add the ibound code needed to make a general model. \n",
    "    domain = gpd.GeoDataFrame(geometry=geom, crs=basins.crs)\n",
    "    domain['ibound'] = 1\n",
    "\n",
    "# Write the domain shapefile to disk.\n",
    "    domain_name = os.path.join(model_gis, 'domain_' + '_'.join(basins.Name.tolist()))\n",
    "    file_dict['domain_name'] = domain_name\n",
    "    domain.to_file(domain_name)\n",
    "\n",
    "else:\n",
    "    print('Go back to the drop-down menu and select one or more basins')"
   ]
  },
  {
   "cell_type": "markdown",
   "metadata": {
    "ExecuteTime": {
     "end_time": "2021-12-09T21:18:13.916250Z",
     "start_time": "2021-12-09T21:18:13.908803Z"
    }
   },
   "source": [
    "Download and unpack the National Groundwater Model for this HUC4. The rest of the cells should run without user interaction."
   ]
  },
  {
   "cell_type": "code",
   "execution_count": 17,
   "metadata": {
    "ExecuteTime": {
     "end_time": "2021-12-23T15:58:36.364362Z",
     "start_time": "2021-12-23T15:58:19.918216Z"
    }
   },
   "outputs": [
    {
     "name": "stdout",
     "output_type": "stream",
     "text": [
      "Downloading the National Groundwater Model input data from \n",
      "https://water.usgs.gov/GIS/dsdl/huc250k_shp.zip\n",
      "Downloading started\n"
     ]
    }
   ],
   "source": [
    "ngwm_url = 'https://water.usgs.gov/GIS/dsdl/gwmodels/zell2020_wrr/models.{}.zip'.format(huc4[:2])\n",
    "print('Downloading the National Groundwater Model input data from \\n{}'.format(url))\n",
    "file_list = gmu.download_and_extract(ngwm_url, id=huc4, destination=down_load_dir)\n",
    "\n",
    "fl = [item.split('/')[0] for item in file_list ]\n",
    "model_ws = max(fl, key=fl.count)\n",
    "model_ws = os.path.join(down_load_dir, model_ws)\n",
    "\n",
    "file_dict['ngwm_dir'] = model_ws"
   ]
  },
  {
   "cell_type": "code",
   "execution_count": 18,
   "metadata": {
    "ExecuteTime": {
     "end_time": "2021-12-23T15:58:48.551213Z",
     "start_time": "2021-12-23T15:58:36.367357Z"
    }
   },
   "outputs": [
    {
     "name": "stdout",
     "output_type": "stream",
     "text": [
      "Reading model information\n",
      "   working model is downloads\\0104_0106_0107_0109_MF6_SS_Unconfined_250\n",
      "   ... done\n"
     ]
    }
   ],
   "source": [
    "print ('Reading model information')\n",
    "\n",
    "\n",
    "sim_ws = os.path.join(model_ws, 'mfsim.nam')\n",
    "\n",
    "print(\"   working model is {}\".format(model_ws))\n",
    "\n",
    "ml = fp.mf6.MFSimulation.load(sim_name=sim_ws, version='mf6', exe_name=mfpth6, \n",
    "                              sim_ws=model_ws, strict=True, verbosity_level=0, \n",
    "                              load_only=['ic', 'npf', 'dis', 'rch', 'drn'], \n",
    "                              verify_data=False)\n",
    "\n",
    "model = ml.get_model()\n",
    "rtd = rtd_ut.RTD_util(ml, 'flow', 'rt')\n",
    "\n",
    "ic = model.get_package('ic')\n",
    "npf = model.get_package('npf')\n",
    "dis = model.get_package('dis')\n",
    "rch = model.get_package('rch')\n",
    "\n",
    "try:\n",
    "    sto = model.get_package('sto')\n",
    "except:\n",
    "    print('no storage package')\n",
    "\n",
    "drn = model.get_package('drn')\n",
    "\n",
    "nlay, nrow, ncol = dis.nlay.array, dis.nrow.array, dis.ncol.array\n",
    "nper = ml.get_package('tdis').nper.array\n",
    "\n",
    "delr = np.unique(dis.delr.array)\n",
    "assert delr.shape[0] == 1, 'I cannot make a raster from variable grid spacing'\n",
    "delr = delr[0]\n",
    "\n",
    "delc = np.unique(dis.delc.array)\n",
    "assert delc.shape[0] == 1, 'I cannot make a raster from variable grid spacing'\n",
    "delc = delc[0]\n",
    "\n",
    "assert delc == delr, 'I cannot make a raster from variable grid spacing'\n",
    "\n",
    "print ('   ... done') "
   ]
  },
  {
   "cell_type": "markdown",
   "metadata": {},
   "source": [
    "Make a dictionary of model layer properties"
   ]
  },
  {
   "cell_type": "code",
   "execution_count": 19,
   "metadata": {
    "ExecuteTime": {
     "end_time": "2021-12-23T15:58:58.087986Z",
     "start_time": "2021-12-23T15:58:48.553103Z"
    }
   },
   "outputs": [
    {
     "name": "stdout",
     "output_type": "stream",
     "text": [
      "no storage information\n"
     ]
    }
   ],
   "source": [
    "prop_dict = dict()\n",
    "\n",
    "prop_dict['strt'] = ic.strt.array\n",
    "\n",
    "prop_dict['top'] = dis.top.array\n",
    "prop_dict['botm'] = dis.botm.array\n",
    "prop_dict['idomain'] = dis.idomain.array\n",
    "prop_dict['thick'] = dis.top.array - dis.botm.array\n",
    "\n",
    "prop_dict['recharge'] = rch.recharge.array\n",
    "\n",
    "prop_dict['k'] = npf.k.array\n",
    "prop_dict['k22'] = npf.k22.array\n",
    "prop_dict['k22overk'] = npf.k22overk.array\n",
    "prop_dict['k33'] = npf.k33.array\n",
    "prop_dict['k33overk'] = npf.k33overk.array\n",
    "\n",
    "try:\n",
    "    prop_dict['ss'] = sto.ss.array\n",
    "    prop_dict['sy'] = sto.sy.array\n",
    "except:\n",
    "    print('no storage information')"
   ]
  },
  {
   "cell_type": "markdown",
   "metadata": {},
   "source": [
    "Loop through the model properties dictionary and put each layer that has a time associated with it into a separate dictionary entry."
   ]
  },
  {
   "cell_type": "code",
   "execution_count": 20,
   "metadata": {
    "ExecuteTime": {
     "end_time": "2021-12-23T15:58:58.103553Z",
     "start_time": "2021-12-23T15:58:58.089948Z"
    }
   },
   "outputs": [],
   "source": [
    "outputs = model.simulation_data.mfdata.output_keys()\n",
    "\n",
    "for output in outputs:\n",
    "    sim_name, source, flow_component = output\n",
    "    output_data = model.simulation_data.mfdata[output]\n",
    "    if flow_component not in ['FLOW-JA-FACE', 'RCH']:\n",
    "        if output_data.ndim == 2:\n",
    "            ntime = output_data.shape[0]\n",
    "            for per in range(ntime):\n",
    "                output_df = pd.DataFrame.from_records(output_data[per])\n",
    "                output_df.set_index('node', inplace=True)\n",
    "                output_df = output_df.reindex(index=np.arange(nlay * nrow * ncol))\n",
    "                label = '{}_per_{}'.format(flow_component, per)\n",
    "                prop_dict[label] = output_df['q'].values.reshape(nrow, ncol)\n",
    "        elif output_data.ndim == 4:\n",
    "            ntime = output_data.shape[0]\n",
    "            nnlay = output_data.shape[1]\n",
    "            for per in range(ntime):\n",
    "                for l in range(nnlay):\n",
    "                    label = '{}_per_{}_layer_{}'.format(flow_component, per, l)\n",
    "                    prop_dict[label] = output_data[per, l, ...]"
   ]
  },
  {
   "cell_type": "markdown",
   "metadata": {},
   "source": [
    "Get the model geographic reference file, parse it into a dictionary and create a blank model raster image in geographic coordinates"
   ]
  },
  {
   "cell_type": "code",
   "execution_count": 21,
   "metadata": {
    "ExecuteTime": {
     "end_time": "2021-12-23T15:58:58.246381Z",
     "start_time": "2021-12-23T15:58:58.106245Z"
    }
   },
   "outputs": [],
   "source": [
    "with open(os.path.join(model_ws, 'usgs.model.reference'), 'r') as f:\n",
    "    x = f.readlines()\n",
    "ref_dict = dict([item.strip().split(' ', 1) for item in x])\n",
    "\n",
    "kwargs = {'theta': np.float32(ref_dict['rotation']),\n",
    "         'origin': [np.float32(ref_dict['xul']), np.float32(ref_dict['yul'])],\n",
    "         'LX': delr,\n",
    "         'LY': delc,\n",
    "         'nrow': nrow,\n",
    "         'ncol': ncol, \n",
    "         'output_raster_proj': ref_dict['proj4']}\n",
    "\n",
    "mf_grid = gmu.SourceProcessing()\n",
    "mf_grid.create_raster(**kwargs)"
   ]
  },
  {
   "cell_type": "code",
   "execution_count": 22,
   "metadata": {
    "ExecuteTime": {
     "end_time": "2021-12-23T15:58:58.467944Z",
     "start_time": "2021-12-23T15:58:58.248312Z"
    }
   },
   "outputs": [
    {
     "name": "stdout",
     "output_type": "stream",
     "text": [
      "Unknown number of dimensions for k22\n",
      "Unknown number of dimensions for k22overk\n",
      "Unknown number of dimensions for k33overk\n"
     ]
    }
   ],
   "source": [
    "idomain = prop_dict['idomain']\n",
    "\n",
    "for key, value in prop_dict.items():\n",
    "    value = np.float32(value)\n",
    "    try:\n",
    "        ndim = value.ndim\n",
    "\n",
    "        if ndim == 2:\n",
    "            value[idomain[0, ...] != 1] = np.nan\n",
    "            mf_grid.old_array = value\n",
    "            dst = '{}.tif'.format(key)\n",
    "            dst_pth = os.path.join(model_ws, dst)\n",
    "            mf_grid.write_raster(dst_pth)\n",
    "\n",
    "        elif ndim == 3:\n",
    "            value[idomain != 1] = np.nan\n",
    "            nlayers = value.shape[-3]\n",
    "            for l in range(nlayers):\n",
    "                mf_grid.old_array = value[l, ...]\n",
    "                dst = '{}_lay_{}.tif'.format(key, l)\n",
    "                dst_pth = os.path.join(model_ws, dst)\n",
    "                mf_grid.write_raster(dst_pth)\n",
    "\n",
    "        elif ndim == 4:\n",
    "            nlayers = value.shape[-3]\n",
    "            ntime = value.shape[-4]          \n",
    "            for sper in range(ntime):\n",
    "                value[sper, idomain != 1] = np.nan\n",
    "                for l in range(nlayers):\n",
    "                    mf_grid.old_array = value[sper, l, ...]\n",
    "                    dst = '{}_lay_{}_sper_{}.tif'.format(key, l, sper)\n",
    "                    dst_pth = os.path.join(model_ws, dst)\n",
    "                    mf_grid.write_raster(dst_pth)\n",
    "                    \n",
    "        else:\n",
    "            print('Unknown number of dimensions for ' + key)\n",
    "\n",
    "    except AttributeError:\n",
    "        print('no GeoTiff created for', key, ', probably because there was no model input for it')"
   ]
  },
  {
   "cell_type": "code",
   "execution_count": 23,
   "metadata": {
    "ExecuteTime": {
     "end_time": "2021-12-23T15:58:58.483767Z",
     "start_time": "2021-12-23T15:58:58.468728Z"
    }
   },
   "outputs": [],
   "source": [
    "# Write the metadata dictionary to disk.    \n",
    "with open('GenMod_metadata.txt', 'w') as file:\n",
    "     file.write(json.dumps(file_dict)) "
   ]
  }
 ],
 "metadata": {
  "kernelspec": {
   "display_name": "Python 3",
   "language": "python",
   "name": "python3"
  },
  "language_info": {
   "codemirror_mode": {
    "name": "ipython",
    "version": 3
   },
   "file_extension": ".py",
   "mimetype": "text/x-python",
   "name": "python",
   "nbconvert_exporter": "python",
   "pygments_lexer": "ipython3",
   "version": "3.6.13"
  },
  "varInspector": {
   "cols": {
    "lenName": 16,
    "lenType": 16,
    "lenVar": 40
   },
   "kernels_config": {
    "python": {
     "delete_cmd_postfix": "",
     "delete_cmd_prefix": "del ",
     "library": "var_list.py",
     "varRefreshCmd": "print(var_dic_list())"
    },
    "r": {
     "delete_cmd_postfix": ") ",
     "delete_cmd_prefix": "rm(",
     "library": "var_list.r",
     "varRefreshCmd": "cat(var_dic_list()) "
    }
   },
   "types_to_exclude": [
    "module",
    "function",
    "builtin_function_or_method",
    "instance",
    "_Feature"
   ],
   "window_display": false
  }
 },
 "nbformat": 4,
 "nbformat_minor": 1
}
